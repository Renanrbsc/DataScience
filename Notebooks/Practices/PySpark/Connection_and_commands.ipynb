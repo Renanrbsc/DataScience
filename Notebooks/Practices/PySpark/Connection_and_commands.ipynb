{
 "cells": [
  {
   "cell_type": "markdown",
   "id": "8f1c84a4",
   "metadata": {},
   "source": [
    "# Spark DataFrame Basics"
   ]
  },
  {
   "cell_type": "markdown",
   "id": "6799e47b",
   "metadata": {},
   "source": [
    "###### Find PySpark"
   ]
  },
  {
   "cell_type": "code",
   "execution_count": 1,
   "id": "9d939fc7",
   "metadata": {
    "scrolled": true
   },
   "outputs": [
    {
     "data": {
      "text/plain": [
       "'C:\\\\Program Files\\\\Spark\\\\spark-3.2.0-bin-hadoop3.2'"
      ]
     },
     "execution_count": 1,
     "metadata": {},
     "output_type": "execute_result"
    }
   ],
   "source": [
    "###### Read CSVs with PySpark# Testing pyspark installation\n",
    "import findspark\n",
    "findspark.init()\n",
    "import pyspark\n",
    "findspark.find()"
   ]
  },
  {
   "cell_type": "markdown",
   "id": "b1eb3785",
   "metadata": {},
   "source": [
    "###### Connection with PySpark"
   ]
  },
  {
   "cell_type": "code",
   "execution_count": 2,
   "id": "8b617d4c",
   "metadata": {},
   "outputs": [],
   "source": [
    "# Initiate Spark Context\n",
    "from pyspark import SparkContext, SparkConf\n",
    "from pyspark.sql import SparkSession\n",
    "conf = pyspark.SparkConf().setAppName('Basics').setMaster('local')\n",
    "sc = pyspark.SparkContext(conf=conf)\n",
    "spark = SparkSession(sc).builder.config(\"spark.sql.repl.eagerEval.enabled\", True).getOrCreate()"
   ]
  },
  {
   "cell_type": "code",
   "execution_count": 3,
   "id": "eb300019",
   "metadata": {},
   "outputs": [],
   "source": [
    "# start without configuration\n",
    "# spark = SparkSession.builder.appName('Basics').getOrCreate()"
   ]
  },
  {
   "cell_type": "markdown",
   "id": "9f5a3048",
   "metadata": {},
   "source": [
    "###### Read CSVs with PySpark"
   ]
  },
  {
   "cell_type": "code",
   "execution_count": 5,
   "id": "1ab8dde6",
   "metadata": {},
   "outputs": [],
   "source": [
    "car_models_path = 'Datasets\\cars\\modelo_carro.csv'\n",
    "asasa = 'Datasets\\poke_go_stats.csv'\n",
    "car_models_df = spark.read.option(\"delimiter\", \",\") \\\n",
    "                          .option(\"header\", \"true\").csv(asasa)"
   ]
  },
  {
   "cell_type": "code",
   "execution_count": 6,
   "id": "9c9e1455",
   "metadata": {},
   "outputs": [
    {
     "name": "stdout",
     "output_type": "stream",
     "text": [
      "+-----+----------+-------+-------+------+----+---+------+------+-----+--------+---------+---------+--------------------+------------------+--------------------+---------------------+----------+--------+------+-------+------------------+--------+------+-----------+-----------+--------------+-------------------+------------------+----------+-----------+-----------+-----------+-----------+--------------+-------------------+------------------+----------+-----------+-----------+--------------------+\n",
      "|Index|      Nome|Formato|Pokemon|Gênero|  PC| PS|Atq IV|Def IV|PS IV|IV Médio|Nível Min|Nível Max|    Movimento rápido|Movimento de carga|Movimento de carga 2|Data de digitalização| Data Pego|    Peso|Altura|Sortudo|Sombras/Purificado|Favorito|Poeira|Class % (G)|Class # (G)|Prod Estat (G)|Custo de Poeira (G)|Custo de Doces (G)|  Nome (G)|Formato (G)|Som/Pur (G)|Class % (U)|Class # (U)|Prod Estat (U)|Custo de Poeira (U)|Custo de Doces (U)|  Nome (U)|Formato (U)|Som/Pur (U)|Marcado para uso PvP|\n",
      "+-----+----------+-------+-------+------+----+---+------+------+-----+--------+---------+---------+--------------------+------------------+--------------------+---------------------+----------+--------+------+-------+------------------+--------+------+-----------+-----------+--------------+-------------------+------------------+----------+-----------+-----------+-----------+-----------+--------------+-------------------+------------------+----------+-----------+-----------+--------------------+\n",
      "|    1| Salamence|   null|    373|     ♀|3100|165|    15|    15|   14|    97.8|     29.0|     29.0|     Cauda do Dragão| Meteoro do Dragão|                null|     2021-11-20 17:16| 10/6/2020|114.55kg| 1.51m|      0|                 0|       0|  5000|       null|       null|          null|               null|              null|      null|       null|       null|       null|       null|          null|               null|              null|      null|       null|       null|                null|\n",
      "|    2|Karrablast|   null|    588|     ♂| 841|103|    14|     8|   15|    82.2|     26.0|     26.0|   Cortador de Fúria|              null|                null|     2021-11-20 17:15|      null|  4.71kg| 0.45m|      0|                 0|       0|  4000|     93.26%|        277|        92.52%|             436000|               214|Karrablast|       null|          0|     29.60%|       2884|        95.32%|              52000|               246|Escavalier|       null|          0|                null|\n",
      "|    3|   Buneary|   null|    427|     ♀| 773|104|  null|  null| null|    57.8|     24.0|     24.0|             Pancada|              null|                null|     2021-11-20 16:58|      null|  6.48kg| 0.45m|      0|                 0|       0|  3500|     79.76%|        499|        96.62%|              27500|                74|   Lopunny|     Normal|          0|     64.36%|       1240|        90.46%|             451000|               276|   Lopunny|     Normal|          0|                null|\n",
      "|    4|   Glameow|   null|    431|     ♀| 145| 48|  null|  null| null|    80.5|      6.0|      6.0|            Arranhão|              null|                null|     2021-11-20 16:57|      null|  2.74kg| 0.48m|      0|                 0|       0|   600|     38.71%|       1280|        95.94%|              92900|               142|   Purugly|       null|          0|     93.70%|         93|        96.26%|             516400|               344|   Purugly|       null|          0|                null|\n",
      "|    5|   Blissey|   null|    242|     ♀|1881|334|    12|    15|   10|    82.2|     24.5|     24.5|        Cabeçada Zen|          Psíquico|                null|     2021-11-20 16:56|      null| 34.13kg| 1.26m|      0|                 0|       0|  3500|       null|       null|          null|               null|              null|      null|       null|       null|     45.86%|       2218|        95.28%|             109500|               105|   Blissey|       null|          0|                null|\n",
      "|    6|   Mienfoo|   null|    619|     ♂| 682| 84|     2|     0|   14|    35.6|     20.0|     20.0|             Pancada|              null|                null|     2021-11-20 16:34|20/11/2021| 22.35kg| 0.95m|      0|                 0|       0|  2500|     82.49%|        718|        96.29%|               8000|                57|  Mienshao|       null|          0|     67.99%|       1312|        96.49%|             267000|               298|  Mienshao|       null|          0|                null|\n",
      "|    7|   Turtwig|   null|    387|     ♂| 773|100|     5|    12|    2|    42.2|     26.0|     26.0|           Investida|              null|                null|     2021-11-20 16:11| 6/10/2019|  9.38kg|  0.4m|      0|                 0|       0|  4000|     70.40%|       1213|        96.24%|              52000|                71|    Grotle|       null|          0|     59.61%|       1655|        96.49%|              91000|               213|  Torterra|       null|          0|                null|\n",
      "|    8|   Turtwig|   null|    387|     ♂| 520| 86|    10|    14|   15|    86.7|     16.0|     16.0|           Investida| Bomba de Sementes|                null|     2021-11-20 16:11|19/11/2021|  9.14kg| 0.36m|      0|                 0|       0|  1900|     64.64%|       1449|        95.89%|              78100|                95|    Grotle|       null|          0|     78.05%|        900|        97.25%|             102600|               215|  Torterra|       null|          0|                null|\n",
      "|    9|   Turtwig|   null|    387|  null| 183| 48|    10|    15|    6|    68.9|      6.0|      6.0|                null|              null|                null|     2021-11-20 16:11|20/11/2021|    null|  null|      0|                 0|       0|   600|     61.42%|       1581|        95.55%|              34200|               165|  Torterra|       null|          0|     57.70%|       1733|        96.41%|             138400|               257|  Torterra|       null|          0|                null|\n",
      "|   10|   Turtwig|   null|    387|     ♂| 771|105|     4|    15|   12|    68.9|     25.0|     25.0|                null|              null|                null|     2021-11-20 16:11|20/11/2021|  8.15kg| 0.38m|      0|                 0|       0|  4000|     82.91%|        701|        96.99%|              39000|                59|    Grotle|       null|          0|     92.01%|        328|        98.08%|              78000|               195|  Torterra|       null|          0|                null|\n",
      "|   11|  Chimchar|   null|    390|     ♂| 311| 64|    12|    11|   13|    80.0|     12.0|     12.0|            Arranhão|      Roda de Fogo|                null|     2021-11-20 16:10|18/11/2021|  7.72kg| 0.58m|      0|                 0|       0|  1300|     73.99%|       1066|        95.88%|              30400|               157| Infernape|       null|          0|     57.26%|       1751|        96.17%|             199400|               327| Infernape|       null|          0|                null|\n",
      "|   12|  Chimchar|   null|    390|     ♂| 284| 62|    10|    12|   15|    82.2|     11.0|     11.0|               Brasa|      Lança-chamas|                null|     2021-11-20 16:10|20/11/2021| 11.25kg| 0.66m|      0|                 0|       0|  1300|     83.71%|        668|        96.47%|              33000|               161| Infernape|       null|          0|     82.05%|        736|        97.21%|             202000|               331| Infernape|       null|          0|                null|\n",
      "|   13|  Chimchar|   null|    390|     ♂| 643| 95|     0|     5|    6|    24.4|     29.0|     29.0|            Arranhão|      Lança-chamas|                null|     2021-11-20 16:09|18/11/2021|  5.91kg| 0.48m|      0|                 0|       0|  5000|     82.83%|        704|        96.63%|             380000|               215|  Monferno|       null|          0|     67.08%|       1349|        96.54%|             236000|               315| Infernape|       null|          0|                null|\n",
      "|   14| Infernape|   null|    392|     ♂|1115|102|  null|  null| null|    80.0|     15.0|     15.0|Esmagamento de Pe...|     Corpo-a-corpo|                null|     2021-11-20 16:08|      null| 47.38kg| 1.07m|      0|                 0|       0|  1900|     61.49%|        668|        96.47%|              21400|                20| Infernape|       null|          0|     54.73%|        736|        97.21%|             190400|               190| Infernape|       null|          0|                null|\n",
      "|   15|  Monferno|   null|    391|     ♂| 647| 91|    10|    12|   15|    82.2|     15.0|     15.0|Esmagamento de Pe...|              null|                null|     2021-11-20 16:07|15/11/2021| 18.95kg|  0.8m|      0|                 0|       0|  1900|     83.71%|        668|        96.47%|              21400|               120| Infernape|       null|          0|     82.05%|        736|        97.21%|             190400|               290| Infernape|       null|          0|                null|\n",
      "|   16| Infernape|   null|    392|     ♂|2272|144|    15|    11|   15|    91.1|     30.0|     30.0|Esmagamento de Pe...|      Lança-chamas|                null|     2021-11-20 16:06|28/10/2018| 42.15kg| 1.06m|      0|                 0|       0|  5000|       null|       null|          null|               null|              null|      null|       null|       null|     51.70%|       1979|        95.95%|              78000|                84| Infernape|       null|          0|                null|\n",
      "|   17|  Chimchar|   null|    390|     ♂| 511| 82|  null|  null| null|    36.2|     22.0|     22.0|               Brasa|              null|                null|     2021-11-20 16:06|      null|  4.69kg| 0.43m|      0|                 0|       0|  3000|     50.69%|        299|        97.51%|             365000|               263|  Monferno|       null|          0|     49.01%|        575|        97.48%|             256000|               363| Infernape|       null|          0|                null|\n",
      "|   18|  Monferno|   null|    391|     ♂|1102|117|  null|  null| null|    49.6|     27.0|     27.0|Esmagamento de Pe...|              null|                null|     2021-11-20 16:06|      null| 26.04kg| 0.86m|      0|                 0|       0|  4500|     37.75%|        734|        96.56%|             254000|               206|  Monferno|       null|          0|     45.38%|        501|        97.59%|             178000|               306| Infernape|       null|          0|                null|\n",
      "|   19|  Chimchar|   null|    390|     ♂| 446| 77|    12|    13|   13|    84.4|     17.0|     17.0|            Arranhão|      Lança-chamas|                null|     2021-11-20 16:06|      null|   5.5kg| 0.45m|      0|                 0|       0|  2200|     90.96%|        371|        97.07%|              13800|               137| Infernape|       null|          0|     52.58%|       1943|        96.00%|             174800|               297| Infernape|       null|          0|                null|\n",
      "|   20|  Chimecho|   null|    358|     ♂| 942|101|    11|    13|   15|    86.7|     15.0|     15.0|             Abismar|   Choque Psíquico|                null|     2021-11-20 16:06|16/11/2021|  0.92kg| 0.61m|      0|                 0|       0|  1900|     42.44%|       2358|        94.42%|              41900|                39|  Chimecho|       null|          0|     99.54%|         20|        98.92%|             496400|               268|  Chimecho|       null|          0|                null|\n",
      "+-----+----------+-------+-------+------+----+---+------+------+-----+--------+---------+---------+--------------------+------------------+--------------------+---------------------+----------+--------+------+-------+------------------+--------+------+-----------+-----------+--------------+-------------------+------------------+----------+-----------+-----------+-----------+-----------+--------------+-------------------+------------------+----------+-----------+-----------+--------------------+\n",
      "only showing top 20 rows\n",
      "\n"
     ]
    }
   ],
   "source": [
    "car_models_df.show()"
   ]
  },
  {
   "cell_type": "code",
   "execution_count": 6,
   "id": "698ba462",
   "metadata": {},
   "outputs": [
    {
     "name": "stdout",
     "output_type": "stream",
     "text": [
      "root\n",
      " |-- id_carro: string (nullable = true)\n",
      " |-- modelo_carro: string (nullable = true)\n",
      " |-- preco: string (nullable = true)\n",
      " |-- cod_marca: string (nullable = true)\n",
      "\n"
     ]
    }
   ],
   "source": [
    "car_models_df.printSchema()"
   ]
  },
  {
   "cell_type": "code",
   "execution_count": 7,
   "id": "e1af4d46",
   "metadata": {},
   "outputs": [
    {
     "data": {
      "text/plain": [
       "['id_carro', 'modelo_carro', 'preco', 'cod_marca']"
      ]
     },
     "execution_count": 7,
     "metadata": {},
     "output_type": "execute_result"
    }
   ],
   "source": [
    "car_models_df.columns"
   ]
  },
  {
   "cell_type": "code",
   "execution_count": 8,
   "id": "6eeffc48",
   "metadata": {},
   "outputs": [
    {
     "data": {
      "text/plain": [
       "DataFrame[summary: string, id_carro: string, modelo_carro: string, preco: string, cod_marca: string]"
      ]
     },
     "execution_count": 8,
     "metadata": {},
     "output_type": "execute_result"
    }
   ],
   "source": [
    "car_models_df.describe()"
   ]
  },
  {
   "cell_type": "code",
   "execution_count": 9,
   "id": "4946b986",
   "metadata": {},
   "outputs": [],
   "source": [
    "from pyspark.sql.types import (StructField, StringType, \n",
    "                               IntegerType, StructType, FloatType)"
   ]
  },
  {
   "cell_type": "code",
   "execution_count": 10,
   "id": "98b5b3be",
   "metadata": {},
   "outputs": [],
   "source": [
    "data_schema = [StructField('id_carro', IntegerType(), True),\n",
    "               StructField('modelo_carro', StringType(), True),\n",
    "               StructField('preco', FloatType(), True),\n",
    "               StructField('cod_marca', IntegerType(), True)]"
   ]
  },
  {
   "cell_type": "code",
   "execution_count": 11,
   "id": "174c3964",
   "metadata": {},
   "outputs": [],
   "source": [
    "final_struc = StructType(fields=data_schema)"
   ]
  },
  {
   "cell_type": "code",
   "execution_count": 12,
   "id": "76efb6e5",
   "metadata": {},
   "outputs": [],
   "source": [
    "df = spark.read.csv(car_models_path, schema=final_struc)"
   ]
  },
  {
   "cell_type": "code",
   "execution_count": 13,
   "id": "790510d0",
   "metadata": {},
   "outputs": [
    {
     "name": "stdout",
     "output_type": "stream",
     "text": [
      "root\n",
      " |-- id_carro: integer (nullable = true)\n",
      " |-- modelo_carro: string (nullable = true)\n",
      " |-- preco: float (nullable = true)\n",
      " |-- cod_marca: integer (nullable = true)\n",
      "\n"
     ]
    }
   ],
   "source": [
    "df.printSchema()"
   ]
  },
  {
   "cell_type": "code",
   "execution_count": 14,
   "id": "79cd579a",
   "metadata": {},
   "outputs": [
    {
     "data": {
      "text/plain": [
       "pyspark.sql.dataframe.DataFrame"
      ]
     },
     "execution_count": 14,
     "metadata": {},
     "output_type": "execute_result"
    }
   ],
   "source": [
    "type(car_models_df.select('cod_marca'))"
   ]
  },
  {
   "cell_type": "code",
   "execution_count": 15,
   "id": "dcf9a427",
   "metadata": {},
   "outputs": [
    {
     "data": {
      "text/plain": [
       "pyspark.sql.column.Column"
      ]
     },
     "execution_count": 15,
     "metadata": {},
     "output_type": "execute_result"
    }
   ],
   "source": [
    "type(car_models_df.cod_marca)"
   ]
  },
  {
   "cell_type": "code",
   "execution_count": 16,
   "id": "e0c8977e",
   "metadata": {},
   "outputs": [
    {
     "data": {
      "text/plain": [
       "pyspark.sql.types.Row"
      ]
     },
     "execution_count": 16,
     "metadata": {},
     "output_type": "execute_result"
    }
   ],
   "source": [
    "type(car_models_df.head(2)[0])"
   ]
  },
  {
   "cell_type": "code",
   "execution_count": 17,
   "id": "a6c91f4a",
   "metadata": {},
   "outputs": [
    {
     "name": "stdout",
     "output_type": "stream",
     "text": [
      "+--------+---------+\n",
      "|   preco|cod_marca|\n",
      "+--------+---------+\n",
      "|78401.95|       54|\n",
      "|95987.38|        1|\n",
      "|61274.55|       55|\n",
      "|84981.12|       23|\n",
      "|77466.89|       17|\n",
      "|84698.71|       17|\n",
      "|95567.75|       42|\n",
      "|84749.22|       20|\n",
      "|98600.79|       29|\n",
      "|94791.61|        2|\n",
      "|97874.76|       56|\n",
      "|71638.24|       10|\n",
      "|95850.12|       52|\n",
      "|86707.30|        2|\n",
      "|70453.70|        6|\n",
      "|46752.60|       30|\n",
      "|78048.08|       55|\n",
      "|65193.95|       23|\n",
      "|65396.98|       56|\n",
      "|68994.97|       18|\n",
      "+--------+---------+\n",
      "only showing top 20 rows\n",
      "\n"
     ]
    }
   ],
   "source": [
    "car_models_df.select(['preco', 'cod_marca']).show()"
   ]
  },
  {
   "cell_type": "code",
   "execution_count": 18,
   "id": "6c4d1567",
   "metadata": {},
   "outputs": [
    {
     "name": "stdout",
     "output_type": "stream",
     "text": [
      "+--------+-------------+--------+---------+------------+\n",
      "|id_carro| modelo_carro|   preco|cod_marca|double_preco|\n",
      "+--------+-------------+--------+---------+------------+\n",
      "|       1|       Avalon|78401.95|       54|    156803.9|\n",
      "|       2|          RDX|95987.38|        1|   191974.76|\n",
      "|       3|         Golf|61274.55|       55|    122549.1|\n",
      "|       4|           EX|84981.12|       23|   169962.24|\n",
      "|       5|       Escort|77466.89|       17|   154933.78|\n",
      "|       6|   Expedition|84698.71|       17|   169397.42|\n",
      "|       7|      Voyager|95567.75|       42|    191135.5|\n",
      "|       8|        Civic|84749.22|       20|   169498.44|\n",
      "|       9|     Defender|98600.79|       29|   197201.58|\n",
      "|      10| V8 Vantage S|94791.61|        2|   189583.22|\n",
      "|      11|          C70|97874.76|       56|   195749.52|\n",
      "|      12|G-Series 1500|71638.24|       10|   143276.48|\n",
      "|      13|       Legacy|95850.12|       52|   191700.24|\n",
      "|      14|          DB9|86707.30|        2|    173414.6|\n",
      "|      15|     Mulsanne|70453.70|        6|    140907.4|\n",
      "|      16|           RX|46752.60|       30|     93505.2|\n",
      "|      17|       Rabbit|78048.08|       55|   156096.16|\n",
      "|      18|            Q|65193.95|       23|    130387.9|\n",
      "|      19|          S60|65396.98|       56|   130793.96|\n",
      "|      20|        Envoy|68994.97|       18|   137989.94|\n",
      "+--------+-------------+--------+---------+------------+\n",
      "only showing top 20 rows\n",
      "\n"
     ]
    }
   ],
   "source": [
    "car_models_df.withColumn('double_preco', car_models_df['preco']*2).show()"
   ]
  },
  {
   "cell_type": "code",
   "execution_count": 19,
   "id": "07baa6f9",
   "metadata": {},
   "outputs": [
    {
     "name": "stdout",
     "output_type": "stream",
     "text": [
      "+--------+-------------+--------+---------+\n",
      "|id_carro| modelo_carro|   preco|cod_marca|\n",
      "+--------+-------------+--------+---------+\n",
      "|       1|       Avalon|78401.95|       54|\n",
      "|       2|          RDX|95987.38|        1|\n",
      "|       3|         Golf|61274.55|       55|\n",
      "|       4|           EX|84981.12|       23|\n",
      "|       5|       Escort|77466.89|       17|\n",
      "|       6|   Expedition|84698.71|       17|\n",
      "|       7|      Voyager|95567.75|       42|\n",
      "|       8|        Civic|84749.22|       20|\n",
      "|       9|     Defender|98600.79|       29|\n",
      "|      10| V8 Vantage S|94791.61|        2|\n",
      "|      11|          C70|97874.76|       56|\n",
      "|      12|G-Series 1500|71638.24|       10|\n",
      "|      13|       Legacy|95850.12|       52|\n",
      "|      14|          DB9|86707.30|        2|\n",
      "|      15|     Mulsanne|70453.70|        6|\n",
      "|      16|           RX|46752.60|       30|\n",
      "|      17|       Rabbit|78048.08|       55|\n",
      "|      18|            Q|65193.95|       23|\n",
      "|      19|          S60|65396.98|       56|\n",
      "|      20|        Envoy|68994.97|       18|\n",
      "+--------+-------------+--------+---------+\n",
      "only showing top 20 rows\n",
      "\n"
     ]
    }
   ],
   "source": [
    "car_models_df.show()"
   ]
  },
  {
   "cell_type": "code",
   "execution_count": 20,
   "id": "04583932",
   "metadata": {},
   "outputs": [
    {
     "name": "stdout",
     "output_type": "stream",
     "text": [
      "+--------+-------------+------------+---------+\n",
      "|id_carro| modelo_carro|my_new_preco|cod_marca|\n",
      "+--------+-------------+------------+---------+\n",
      "|       1|       Avalon|    78401.95|       54|\n",
      "|       2|          RDX|    95987.38|        1|\n",
      "|       3|         Golf|    61274.55|       55|\n",
      "|       4|           EX|    84981.12|       23|\n",
      "|       5|       Escort|    77466.89|       17|\n",
      "|       6|   Expedition|    84698.71|       17|\n",
      "|       7|      Voyager|    95567.75|       42|\n",
      "|       8|        Civic|    84749.22|       20|\n",
      "|       9|     Defender|    98600.79|       29|\n",
      "|      10| V8 Vantage S|    94791.61|        2|\n",
      "|      11|          C70|    97874.76|       56|\n",
      "|      12|G-Series 1500|    71638.24|       10|\n",
      "|      13|       Legacy|    95850.12|       52|\n",
      "|      14|          DB9|    86707.30|        2|\n",
      "|      15|     Mulsanne|    70453.70|        6|\n",
      "|      16|           RX|    46752.60|       30|\n",
      "|      17|       Rabbit|    78048.08|       55|\n",
      "|      18|            Q|    65193.95|       23|\n",
      "|      19|          S60|    65396.98|       56|\n",
      "|      20|        Envoy|    68994.97|       18|\n",
      "+--------+-------------+------------+---------+\n",
      "only showing top 20 rows\n",
      "\n"
     ]
    }
   ],
   "source": [
    "car_models_df.withColumnRenamed('preco', 'my_new_preco').show()"
   ]
  },
  {
   "cell_type": "code",
   "execution_count": 21,
   "id": "6d2f03c8",
   "metadata": {},
   "outputs": [],
   "source": [
    "car_models_df.createOrReplaceTempView('car')"
   ]
  },
  {
   "cell_type": "code",
   "execution_count": 22,
   "id": "aa63bc67",
   "metadata": {},
   "outputs": [],
   "source": [
    "results = spark.sql(\"SELECT * FROM car\")"
   ]
  },
  {
   "cell_type": "code",
   "execution_count": 23,
   "id": "d438f913",
   "metadata": {},
   "outputs": [
    {
     "name": "stdout",
     "output_type": "stream",
     "text": [
      "+--------+-------------+--------+---------+\n",
      "|id_carro| modelo_carro|   preco|cod_marca|\n",
      "+--------+-------------+--------+---------+\n",
      "|       1|       Avalon|78401.95|       54|\n",
      "|       2|          RDX|95987.38|        1|\n",
      "|       3|         Golf|61274.55|       55|\n",
      "|       4|           EX|84981.12|       23|\n",
      "|       5|       Escort|77466.89|       17|\n",
      "|       6|   Expedition|84698.71|       17|\n",
      "|       7|      Voyager|95567.75|       42|\n",
      "|       8|        Civic|84749.22|       20|\n",
      "|       9|     Defender|98600.79|       29|\n",
      "|      10| V8 Vantage S|94791.61|        2|\n",
      "|      11|          C70|97874.76|       56|\n",
      "|      12|G-Series 1500|71638.24|       10|\n",
      "|      13|       Legacy|95850.12|       52|\n",
      "|      14|          DB9|86707.30|        2|\n",
      "|      15|     Mulsanne|70453.70|        6|\n",
      "|      16|           RX|46752.60|       30|\n",
      "|      17|       Rabbit|78048.08|       55|\n",
      "|      18|            Q|65193.95|       23|\n",
      "|      19|          S60|65396.98|       56|\n",
      "|      20|        Envoy|68994.97|       18|\n",
      "+--------+-------------+--------+---------+\n",
      "only showing top 20 rows\n",
      "\n"
     ]
    }
   ],
   "source": [
    "results.show()"
   ]
  },
  {
   "cell_type": "code",
   "execution_count": 24,
   "id": "9f04b108",
   "metadata": {},
   "outputs": [],
   "source": [
    "new_results = spark.sql(\"SELECT * FROM car WHERE cod_marca=15\")"
   ]
  },
  {
   "cell_type": "code",
   "execution_count": 25,
   "id": "61249c7b",
   "metadata": {},
   "outputs": [
    {
     "name": "stdout",
     "output_type": "stream",
     "text": [
      "+--------+------------+--------+---------+\n",
      "|id_carro|modelo_carro|   preco|cod_marca|\n",
      "+--------+------------+--------+---------+\n",
      "|     319|      Vision|80349.11|       15|\n",
      "+--------+------------+--------+---------+\n",
      "\n"
     ]
    }
   ],
   "source": [
    "new_results.show()"
   ]
  },
  {
   "cell_type": "code",
   "execution_count": null,
   "id": "68aeceb8",
   "metadata": {},
   "outputs": [],
   "source": []
  },
  {
   "cell_type": "code",
   "execution_count": null,
   "id": "e1f9a879",
   "metadata": {},
   "outputs": [],
   "source": []
  },
  {
   "cell_type": "code",
   "execution_count": null,
   "id": "5f132a52",
   "metadata": {},
   "outputs": [],
   "source": []
  },
  {
   "cell_type": "code",
   "execution_count": null,
   "id": "1be6f2d0",
   "metadata": {},
   "outputs": [],
   "source": []
  },
  {
   "cell_type": "code",
   "execution_count": null,
   "id": "28097f05",
   "metadata": {},
   "outputs": [],
   "source": []
  },
  {
   "cell_type": "code",
   "execution_count": null,
   "id": "84c338b6",
   "metadata": {},
   "outputs": [],
   "source": []
  }
 ],
 "metadata": {
  "kernelspec": {
   "display_name": "Python 3",
   "language": "python",
   "name": "python3"
  },
  "language_info": {
   "codemirror_mode": {
    "name": "ipython",
    "version": 3
   },
   "file_extension": ".py",
   "mimetype": "text/x-python",
   "name": "python",
   "nbconvert_exporter": "python",
   "pygments_lexer": "ipython3",
   "version": "3.8.8"
  }
 },
 "nbformat": 4,
 "nbformat_minor": 5
}
