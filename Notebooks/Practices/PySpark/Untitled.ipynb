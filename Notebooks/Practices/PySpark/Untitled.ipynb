{
 "cells": [
  {
   "cell_type": "markdown",
   "id": "8f1c84a4",
   "metadata": {},
   "source": [
    "# Spark DataFrame Basics"
   ]
  },
  {
   "cell_type": "code",
   "execution_count": 1,
   "id": "9d939fc7",
   "metadata": {
    "scrolled": true
   },
   "outputs": [
    {
     "data": {
      "text/plain": [
       "'C:\\\\Program Files\\\\Spark\\\\spark-3.2.0-bin-hadoop3.2'"
      ]
     },
     "execution_count": 1,
     "metadata": {},
     "output_type": "execute_result"
    }
   ],
   "source": [
    "# Testing pyspark installation\n",
    "import findspark\n",
    "findspark.init()\n",
    "import pyspark\n",
    "findspark.find()"
   ]
  },
  {
   "cell_type": "code",
   "execution_count": 2,
   "id": "8b617d4c",
   "metadata": {},
   "outputs": [],
   "source": [
    "# Initiate Spark Context\n",
    "from pyspark import SparkContext, SparkConf\n",
    "from pyspark.sql import SparkSession\n",
    "conf = pyspark.SparkConf().setAppName('Basics').setMaster('local')\n",
    "sc = pyspark.SparkContext(conf=conf)\n",
    "spark = SparkSession(sc)"
   ]
  },
  {
   "cell_type": "code",
   "execution_count": 3,
   "id": "eb300019",
   "metadata": {},
   "outputs": [],
   "source": [
    "# start without configuration\n",
    "# spark = SparkSession.builder.appName('Basics').getOrCreate()"
   ]
  },
  {
   "cell_type": "code",
   "execution_count": 23,
   "id": "1ab8dde6",
   "metadata": {},
   "outputs": [],
   "source": [
    "car_models_path = 'Datasets\\cars\\modelo_carro.csv'\n",
    "car_models_df = spark.read.option(\"delimiter\", \",\") \\\n",
    "                          .option(\"header\", \"true\").csv(car_models_path)"
   ]
  },
  {
   "cell_type": "code",
   "execution_count": 24,
   "id": "9c9e1455",
   "metadata": {},
   "outputs": [
    {
     "name": "stdout",
     "output_type": "stream",
     "text": [
      "+--------+-------------+--------+---------+\n",
      "|id_carro| modelo_carro|   preco|cod_marca|\n",
      "+--------+-------------+--------+---------+\n",
      "|       1|       Avalon|78401.95|       54|\n",
      "|       2|          RDX|95987.38|        1|\n",
      "|       3|         Golf|61274.55|       55|\n",
      "|       4|           EX|84981.12|       23|\n",
      "|       5|       Escort|77466.89|       17|\n",
      "|       6|   Expedition|84698.71|       17|\n",
      "|       7|      Voyager|95567.75|       42|\n",
      "|       8|        Civic|84749.22|       20|\n",
      "|       9|     Defender|98600.79|       29|\n",
      "|      10| V8 Vantage S|94791.61|        2|\n",
      "|      11|          C70|97874.76|       56|\n",
      "|      12|G-Series 1500|71638.24|       10|\n",
      "|      13|       Legacy|95850.12|       52|\n",
      "|      14|          DB9|86707.30|        2|\n",
      "|      15|     Mulsanne|70453.70|        6|\n",
      "|      16|           RX|46752.60|       30|\n",
      "|      17|       Rabbit|78048.08|       55|\n",
      "|      18|            Q|65193.95|       23|\n",
      "|      19|          S60|65396.98|       56|\n",
      "|      20|        Envoy|68994.97|       18|\n",
      "+--------+-------------+--------+---------+\n",
      "only showing top 20 rows\n",
      "\n"
     ]
    }
   ],
   "source": [
    "car_models_df.show()"
   ]
  },
  {
   "cell_type": "code",
   "execution_count": 25,
   "id": "698ba462",
   "metadata": {},
   "outputs": [
    {
     "name": "stdout",
     "output_type": "stream",
     "text": [
      "root\n",
      " |-- id_carro: string (nullable = true)\n",
      " |-- modelo_carro: string (nullable = true)\n",
      " |-- preco: string (nullable = true)\n",
      " |-- cod_marca: string (nullable = true)\n",
      "\n"
     ]
    }
   ],
   "source": [
    "car_models_df.printSchema()"
   ]
  },
  {
   "cell_type": "code",
   "execution_count": 7,
   "id": "e1af4d46",
   "metadata": {},
   "outputs": [
    {
     "data": {
      "text/plain": [
       "['id_carro', 'modelo_carro', 'preco', 'cod_marca']"
      ]
     },
     "execution_count": 7,
     "metadata": {},
     "output_type": "execute_result"
    }
   ],
   "source": [
    "car_models_df.columns"
   ]
  },
  {
   "cell_type": "code",
   "execution_count": 8,
   "id": "6eeffc48",
   "metadata": {},
   "outputs": [
    {
     "data": {
      "text/plain": [
       "DataFrame[summary: string, id_carro: string, modelo_carro: string, preco: string, cod_marca: string]"
      ]
     },
     "execution_count": 8,
     "metadata": {},
     "output_type": "execute_result"
    }
   ],
   "source": [
    "car_models_df.describe()"
   ]
  },
  {
   "cell_type": "code",
   "execution_count": 9,
   "id": "4946b986",
   "metadata": {},
   "outputs": [],
   "source": [
    "from pyspark.sql.types import (StructField, StringType, \n",
    "                               IntegerType, StructType, FloatType)"
   ]
  },
  {
   "cell_type": "code",
   "execution_count": 26,
   "id": "98b5b3be",
   "metadata": {},
   "outputs": [],
   "source": [
    "data_schema = [StructField('id_carro', IntegerType(), True),\n",
    "               StructField('modelo_carro', StringType(), True),\n",
    "               StructField('preco', FloatType(), True),\n",
    "               StructField('cod_marca', IntegerType(), True)]"
   ]
  },
  {
   "cell_type": "code",
   "execution_count": 27,
   "id": "174c3964",
   "metadata": {},
   "outputs": [],
   "source": [
    "final_struc = StructType(fields=data_schema)"
   ]
  },
  {
   "cell_type": "code",
   "execution_count": 28,
   "id": "76efb6e5",
   "metadata": {},
   "outputs": [],
   "source": [
    "df = spark.read.csv(car_models_path, schema=final_struc)"
   ]
  },
  {
   "cell_type": "code",
   "execution_count": 29,
   "id": "790510d0",
   "metadata": {},
   "outputs": [
    {
     "name": "stdout",
     "output_type": "stream",
     "text": [
      "root\n",
      " |-- id_carro: integer (nullable = true)\n",
      " |-- modelo_carro: string (nullable = true)\n",
      " |-- preco: float (nullable = true)\n",
      " |-- cod_marca: integer (nullable = true)\n",
      "\n"
     ]
    }
   ],
   "source": [
    "df.printSchema()"
   ]
  },
  {
   "cell_type": "code",
   "execution_count": 30,
   "id": "79cd579a",
   "metadata": {},
   "outputs": [
    {
     "data": {
      "text/plain": [
       "pyspark.sql.dataframe.DataFrame"
      ]
     },
     "execution_count": 30,
     "metadata": {},
     "output_type": "execute_result"
    }
   ],
   "source": [
    "type(car_models_df.select('cod_marca'))"
   ]
  },
  {
   "cell_type": "code",
   "execution_count": 31,
   "id": "dcf9a427",
   "metadata": {},
   "outputs": [
    {
     "data": {
      "text/plain": [
       "pyspark.sql.column.Column"
      ]
     },
     "execution_count": 31,
     "metadata": {},
     "output_type": "execute_result"
    }
   ],
   "source": [
    "type(car_models_df.cod_marca)"
   ]
  },
  {
   "cell_type": "code",
   "execution_count": 32,
   "id": "e0c8977e",
   "metadata": {},
   "outputs": [
    {
     "data": {
      "text/plain": [
       "pyspark.sql.types.Row"
      ]
     },
     "execution_count": 32,
     "metadata": {},
     "output_type": "execute_result"
    }
   ],
   "source": [
    "type(car_models_df.head(2)[0])"
   ]
  },
  {
   "cell_type": "code",
   "execution_count": 33,
   "id": "a6c91f4a",
   "metadata": {},
   "outputs": [
    {
     "name": "stdout",
     "output_type": "stream",
     "text": [
      "+--------+---------+\n",
      "|   preco|cod_marca|\n",
      "+--------+---------+\n",
      "|78401.95|       54|\n",
      "|95987.38|        1|\n",
      "|61274.55|       55|\n",
      "|84981.12|       23|\n",
      "|77466.89|       17|\n",
      "|84698.71|       17|\n",
      "|95567.75|       42|\n",
      "|84749.22|       20|\n",
      "|98600.79|       29|\n",
      "|94791.61|        2|\n",
      "|97874.76|       56|\n",
      "|71638.24|       10|\n",
      "|95850.12|       52|\n",
      "|86707.30|        2|\n",
      "|70453.70|        6|\n",
      "|46752.60|       30|\n",
      "|78048.08|       55|\n",
      "|65193.95|       23|\n",
      "|65396.98|       56|\n",
      "|68994.97|       18|\n",
      "+--------+---------+\n",
      "only showing top 20 rows\n",
      "\n"
     ]
    }
   ],
   "source": [
    "car_models_df.select(['preco', 'cod_marca']).show()"
   ]
  },
  {
   "cell_type": "code",
   "execution_count": 34,
   "id": "6c4d1567",
   "metadata": {},
   "outputs": [
    {
     "name": "stdout",
     "output_type": "stream",
     "text": [
      "+--------+-------------+--------+---------+------------+\n",
      "|id_carro| modelo_carro|   preco|cod_marca|double_preco|\n",
      "+--------+-------------+--------+---------+------------+\n",
      "|       1|       Avalon|78401.95|       54|    156803.9|\n",
      "|       2|          RDX|95987.38|        1|   191974.76|\n",
      "|       3|         Golf|61274.55|       55|    122549.1|\n",
      "|       4|           EX|84981.12|       23|   169962.24|\n",
      "|       5|       Escort|77466.89|       17|   154933.78|\n",
      "|       6|   Expedition|84698.71|       17|   169397.42|\n",
      "|       7|      Voyager|95567.75|       42|    191135.5|\n",
      "|       8|        Civic|84749.22|       20|   169498.44|\n",
      "|       9|     Defender|98600.79|       29|   197201.58|\n",
      "|      10| V8 Vantage S|94791.61|        2|   189583.22|\n",
      "|      11|          C70|97874.76|       56|   195749.52|\n",
      "|      12|G-Series 1500|71638.24|       10|   143276.48|\n",
      "|      13|       Legacy|95850.12|       52|   191700.24|\n",
      "|      14|          DB9|86707.30|        2|    173414.6|\n",
      "|      15|     Mulsanne|70453.70|        6|    140907.4|\n",
      "|      16|           RX|46752.60|       30|     93505.2|\n",
      "|      17|       Rabbit|78048.08|       55|   156096.16|\n",
      "|      18|            Q|65193.95|       23|    130387.9|\n",
      "|      19|          S60|65396.98|       56|   130793.96|\n",
      "|      20|        Envoy|68994.97|       18|   137989.94|\n",
      "+--------+-------------+--------+---------+------------+\n",
      "only showing top 20 rows\n",
      "\n"
     ]
    }
   ],
   "source": [
    "car_models_df.withColumn('double_preco', car_models_df['preco']*2).show()"
   ]
  },
  {
   "cell_type": "code",
   "execution_count": 35,
   "id": "07baa6f9",
   "metadata": {},
   "outputs": [
    {
     "name": "stdout",
     "output_type": "stream",
     "text": [
      "+--------+-------------+--------+---------+\n",
      "|id_carro| modelo_carro|   preco|cod_marca|\n",
      "+--------+-------------+--------+---------+\n",
      "|       1|       Avalon|78401.95|       54|\n",
      "|       2|          RDX|95987.38|        1|\n",
      "|       3|         Golf|61274.55|       55|\n",
      "|       4|           EX|84981.12|       23|\n",
      "|       5|       Escort|77466.89|       17|\n",
      "|       6|   Expedition|84698.71|       17|\n",
      "|       7|      Voyager|95567.75|       42|\n",
      "|       8|        Civic|84749.22|       20|\n",
      "|       9|     Defender|98600.79|       29|\n",
      "|      10| V8 Vantage S|94791.61|        2|\n",
      "|      11|          C70|97874.76|       56|\n",
      "|      12|G-Series 1500|71638.24|       10|\n",
      "|      13|       Legacy|95850.12|       52|\n",
      "|      14|          DB9|86707.30|        2|\n",
      "|      15|     Mulsanne|70453.70|        6|\n",
      "|      16|           RX|46752.60|       30|\n",
      "|      17|       Rabbit|78048.08|       55|\n",
      "|      18|            Q|65193.95|       23|\n",
      "|      19|          S60|65396.98|       56|\n",
      "|      20|        Envoy|68994.97|       18|\n",
      "+--------+-------------+--------+---------+\n",
      "only showing top 20 rows\n",
      "\n"
     ]
    }
   ],
   "source": [
    "car_models_df.show()"
   ]
  },
  {
   "cell_type": "code",
   "execution_count": 36,
   "id": "04583932",
   "metadata": {},
   "outputs": [
    {
     "name": "stdout",
     "output_type": "stream",
     "text": [
      "+--------+-------------+------------+---------+\n",
      "|id_carro| modelo_carro|my_new_preco|cod_marca|\n",
      "+--------+-------------+------------+---------+\n",
      "|       1|       Avalon|    78401.95|       54|\n",
      "|       2|          RDX|    95987.38|        1|\n",
      "|       3|         Golf|    61274.55|       55|\n",
      "|       4|           EX|    84981.12|       23|\n",
      "|       5|       Escort|    77466.89|       17|\n",
      "|       6|   Expedition|    84698.71|       17|\n",
      "|       7|      Voyager|    95567.75|       42|\n",
      "|       8|        Civic|    84749.22|       20|\n",
      "|       9|     Defender|    98600.79|       29|\n",
      "|      10| V8 Vantage S|    94791.61|        2|\n",
      "|      11|          C70|    97874.76|       56|\n",
      "|      12|G-Series 1500|    71638.24|       10|\n",
      "|      13|       Legacy|    95850.12|       52|\n",
      "|      14|          DB9|    86707.30|        2|\n",
      "|      15|     Mulsanne|    70453.70|        6|\n",
      "|      16|           RX|    46752.60|       30|\n",
      "|      17|       Rabbit|    78048.08|       55|\n",
      "|      18|            Q|    65193.95|       23|\n",
      "|      19|          S60|    65396.98|       56|\n",
      "|      20|        Envoy|    68994.97|       18|\n",
      "+--------+-------------+------------+---------+\n",
      "only showing top 20 rows\n",
      "\n"
     ]
    }
   ],
   "source": [
    "car_models_df.withColumnRenamed('preco', 'my_new_preco').show()"
   ]
  },
  {
   "cell_type": "code",
   "execution_count": 37,
   "id": "6d2f03c8",
   "metadata": {},
   "outputs": [],
   "source": [
    "car_models_df.createOrReplaceTempView('car')"
   ]
  },
  {
   "cell_type": "code",
   "execution_count": 38,
   "id": "aa63bc67",
   "metadata": {},
   "outputs": [],
   "source": [
    "results = spark.sql(\"SELECT * FROM car\")"
   ]
  },
  {
   "cell_type": "code",
   "execution_count": 47,
   "id": "d438f913",
   "metadata": {},
   "outputs": [
    {
     "name": "stdout",
     "output_type": "stream",
     "text": [
      "+--------+-------------+--------+---------+\n",
      "|id_carro| modelo_carro|   preco|cod_marca|\n",
      "+--------+-------------+--------+---------+\n",
      "|       1|       Avalon|78401.95|       54|\n",
      "|       2|          RDX|95987.38|        1|\n",
      "|       3|         Golf|61274.55|       55|\n",
      "|       4|           EX|84981.12|       23|\n",
      "|       5|       Escort|77466.89|       17|\n",
      "|       6|   Expedition|84698.71|       17|\n",
      "|       7|      Voyager|95567.75|       42|\n",
      "|       8|        Civic|84749.22|       20|\n",
      "|       9|     Defender|98600.79|       29|\n",
      "|      10| V8 Vantage S|94791.61|        2|\n",
      "|      11|          C70|97874.76|       56|\n",
      "|      12|G-Series 1500|71638.24|       10|\n",
      "|      13|       Legacy|95850.12|       52|\n",
      "|      14|          DB9|86707.30|        2|\n",
      "|      15|     Mulsanne|70453.70|        6|\n",
      "|      16|           RX|46752.60|       30|\n",
      "|      17|       Rabbit|78048.08|       55|\n",
      "|      18|            Q|65193.95|       23|\n",
      "|      19|          S60|65396.98|       56|\n",
      "|      20|        Envoy|68994.97|       18|\n",
      "+--------+-------------+--------+---------+\n",
      "only showing top 20 rows\n",
      "\n"
     ]
    }
   ],
   "source": [
    "results.show()"
   ]
  },
  {
   "cell_type": "code",
   "execution_count": 40,
   "id": "9f04b108",
   "metadata": {},
   "outputs": [],
   "source": [
    "new_results = spark.sql(\"SELECT * FROM car WHERE cod_marca=15\")"
   ]
  },
  {
   "cell_type": "code",
   "execution_count": 41,
   "id": "61249c7b",
   "metadata": {},
   "outputs": [
    {
     "name": "stdout",
     "output_type": "stream",
     "text": [
      "+--------+------------+--------+---------+\n",
      "|id_carro|modelo_carro|   preco|cod_marca|\n",
      "+--------+------------+--------+---------+\n",
      "|     319|      Vision|80349.11|       15|\n",
      "+--------+------------+--------+---------+\n",
      "\n"
     ]
    }
   ],
   "source": [
    "new_results.show()"
   ]
  },
  {
   "cell_type": "code",
   "execution_count": null,
   "id": "68aeceb8",
   "metadata": {},
   "outputs": [],
   "source": []
  },
  {
   "cell_type": "code",
   "execution_count": null,
   "id": "e1f9a879",
   "metadata": {},
   "outputs": [],
   "source": []
  },
  {
   "cell_type": "code",
   "execution_count": null,
   "id": "5f132a52",
   "metadata": {},
   "outputs": [],
   "source": []
  },
  {
   "cell_type": "code",
   "execution_count": null,
   "id": "1be6f2d0",
   "metadata": {},
   "outputs": [],
   "source": []
  },
  {
   "cell_type": "code",
   "execution_count": null,
   "id": "28097f05",
   "metadata": {},
   "outputs": [],
   "source": []
  },
  {
   "cell_type": "code",
   "execution_count": null,
   "id": "84c338b6",
   "metadata": {},
   "outputs": [],
   "source": []
  }
 ],
 "metadata": {
  "kernelspec": {
   "display_name": "Python 3",
   "language": "python",
   "name": "python3"
  },
  "language_info": {
   "codemirror_mode": {
    "name": "ipython",
    "version": 3
   },
   "file_extension": ".py",
   "mimetype": "text/x-python",
   "name": "python",
   "nbconvert_exporter": "python",
   "pygments_lexer": "ipython3",
   "version": "3.8.8"
  }
 },
 "nbformat": 4,
 "nbformat_minor": 5
}
