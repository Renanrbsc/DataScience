{
 "cells": [
  {
   "cell_type": "code",
   "execution_count": 1,
   "id": "wired-hughes",
   "metadata": {},
   "outputs": [],
   "source": [
    "import numpy as np\n",
    "import pandas as pd\n",
    "import matplotlib.pyplot as plt"
   ]
  },
  {
   "cell_type": "code",
   "execution_count": 2,
   "id": "necessary-buffer",
   "metadata": {},
   "outputs": [],
   "source": [
    "data = {'resultado_dado1': np.random.randint(1, 7, 1_000_000),\n",
    "        'resultado_dado2': np.random.randint(1, 7, 1_000_000)}"
   ]
  },
  {
   "cell_type": "code",
   "execution_count": 3,
   "id": "emotional-cattle",
   "metadata": {},
   "outputs": [
    {
     "name": "stdout",
     "output_type": "stream",
     "text": [
      "   resultado_dado1  resultado_dado2  soma_resultados\n",
      "0                2                5                7\n",
      "1                4                5                9\n",
      "2                6                1                7\n",
      "3                3                1                4\n",
      "4                4                5                9\n"
     ]
    }
   ],
   "source": [
    "df = pd.DataFrame(data)\n",
    "\n",
    "df['soma_resultados'] = df.resultado_dado1 + df.resultado_dado2\n",
    "\n",
    "print(df.head())"
   ]
  },
  {
   "cell_type": "code",
   "execution_count": 4,
   "id": "specialized-example",
   "metadata": {},
   "outputs": [
    {
     "data": {
      "image/png": "[encoded data removed]",
      "text/plain": [
       "<Figure size 432x288 with 1 Axes>"
      ]
     },
     "metadata": {
      "needs_background": "light"
     },
     "output_type": "display_data"
    }
   ],
   "source": [
    "plt.hist(df.soma_resultados, bins=11)\n",
    "\n",
    "plt.xlabel('Soma')\n",
    "plt.ylabel('Quantidade de Lançamentos')\n",
    "plt.title('Soma dos Resultados - Lançamento de Dados')\n",
    "\n",
    "plt.tight_layout()\n",
    "plt.show()"
   ]
  },
  {
   "cell_type": "code",
   "execution_count": 5,
   "id": "honest-response",
   "metadata": {
    "scrolled": true
   },
   "outputs": [
    {
     "data": {
      "text/plain": [
       "7     166121\n",
       "8     138923\n",
       "6     138359\n",
       "5     111552\n",
       "9     110898\n",
       "10     83605\n",
       "4      83120\n",
       "3      55835\n",
       "11     55544\n",
       "12     28063\n",
       "2      27980\n",
       "Name: soma_resultados, dtype: int64"
      ]
     },
     "execution_count": 5,
     "metadata": {},
     "output_type": "execute_result"
    }
   ],
   "source": [
    "df.soma_resultados.value_counts()"
   ]
  },
  {
   "cell_type": "code",
   "execution_count": null,
   "id": "infinite-house",
   "metadata": {},
   "outputs": [],
   "source": []
  }
 ],
 "metadata": {
  "kernelspec": {
   "display_name": "Python 3",
   "language": "python",
   "name": "python3"
  },
  "language_info": {
   "codemirror_mode": {
    "name": "ipython",
    "version": 3
   },
   "file_extension": ".py",
   "mimetype": "text/x-python",
   "name": "python",
   "nbconvert_exporter": "python",
   "pygments_lexer": "ipython3",
   "version": "3.6.5"
  }
 },
 "nbformat": 4,
 "nbformat_minor": 5
}
