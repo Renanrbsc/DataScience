{
 "cells": [
  {
   "cell_type": "code",
   "execution_count": 1,
   "id": "numerous-testament",
   "metadata": {},
   "outputs": [],
   "source": [
    "import numpy as np\n",
    "import pandas as pd\n",
    "import matplotlib.pyplot as plt"
   ]
  },
  {
   "cell_type": "code",
   "execution_count": 2,
   "id": "included-delaware",
   "metadata": {},
   "outputs": [],
   "source": [
    "\n",
    "data = {'resultado_dado1': np.random.randint(1, 7, 1_000_000),\n",
    "        'resultado_dado2': np.random.randint(1, 7, 1_000_000)}"
   ]
  },
  {
   "cell_type": "code",
   "execution_count": 3,
   "id": "overall-dayton",
   "metadata": {},
   "outputs": [
    {
     "name": "stdout",
     "output_type": "stream",
     "text": [
      "   resultado_dado1  resultado_dado2  soma_resultados\n",
      "0                6                1                7\n",
      "1                3                6                9\n",
      "2                2                5                7\n",
      "3                6                6               12\n",
      "4                4                2                6\n"
     ]
    }
   ],
   "source": [
    "df = pd.DataFrame(data)\n",
    "df['soma_resultados'] = df.resultado_dado1 + df.resultado_dado2\n",
    "print(df.head())"
   ]
  },
  {
   "cell_type": "code",
   "execution_count": 4,
   "id": "interested-canal",
   "metadata": {},
   "outputs": [
    {
     "data": {
      "image/png": "[encoded data removed]",
      "text/plain": [
       "<Figure size 432x288 with 1 Axes>"
      ]
     },
     "metadata": {
      "needs_background": "light"
     },
     "output_type": "display_data"
    }
   ],
   "source": [
    "plt.hist(df.soma_resultados, bins=11)\n",
    "plt.xlabel('Soma')\n",
    "plt.ylabel('Quantidade de Lançamentos')\n",
    "plt.title('Soma dos Resultados - Lançamento de Dados')\n",
    "plt.tight_layout()\n",
    "plt.show()"
   ]
  },
  {
   "cell_type": "code",
   "execution_count": null,
   "id": "hairy-alberta",
   "metadata": {},
   "outputs": [],
   "source": []
  }
 ],
 "metadata": {
  "kernelspec": {
   "display_name": "Python 3",
   "language": "python",
   "name": "python3"
  },
  "language_info": {
   "codemirror_mode": {
    "name": "ipython",
    "version": 3
   },
   "file_extension": ".py",
   "mimetype": "text/x-python",
   "name": "python",
   "nbconvert_exporter": "python",
   "pygments_lexer": "ipython3",
   "version": "3.6.5"
  }
 },
 "nbformat": 4,
 "nbformat_minor": 5
}
