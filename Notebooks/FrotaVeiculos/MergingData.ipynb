{
 "cells": [
  {
   "cell_type": "markdown",
   "id": "8f431b9f",
   "metadata": {},
   "source": [
    "# Frotas de Veiculos no Brasil "
   ]
  },
  {
   "cell_type": "markdown",
   "id": "d21851f1",
   "metadata": {},
   "source": [
    "## Mesclagem dos dados"
   ]
  },
  {
   "cell_type": "code",
   "execution_count": 1,
   "id": "98034ebe",
   "metadata": {},
   "outputs": [],
   "source": [
    "# Importações Libs\n",
    "import pandas as pd"
   ]
  },
  {
   "cell_type": "code",
   "execution_count": 2,
   "id": "cc517e7b",
   "metadata": {},
   "outputs": [],
   "source": [
    "# Leitura CSVs\n",
    "df_frota_032020 = pd.read_csv('datasets/2020-03_frota_de_veiculos.csv', sep=';')\n",
    "df_frota_042020 = pd.read_csv('datasets/2020-04_frota_de_veiculos.csv', sep=';')\n",
    "df_frota_052020 = pd.read_csv('datasets/2020-05_frota_de_veiculos.csv', sep=';')\n",
    "df_frota_062020 = pd.read_csv('datasets/2020-06_frota_de_veiculos.csv', sep=';')\n",
    "df_frota_072020 = pd.read_csv('datasets/2020-07_frota_de_veiculos.csv', sep=';')\n",
    "df_frota_082020 = pd.read_csv('datasets/2020-08_frota_de_veiculos.csv', sep=';')\n",
    "df_frota_092020 = pd.read_csv('datasets/2020-09_frota_de_veiculos.csv', sep=';')\n",
    "df_frota_102020 = pd.read_csv('datasets/2020-10_frota_de_veiculos.csv', sep=';')\n",
    "df_frota_112020 = pd.read_csv('datasets/2020-11_frota_de_veiculos.csv', sep=';')"
   ]
  },
  {
   "cell_type": "code",
   "execution_count": 3,
   "id": "b4ab4990",
   "metadata": {},
   "outputs": [
    {
     "name": "stdout",
     "output_type": "stream",
     "text": [
      "<class 'pandas.core.frame.DataFrame'>\n",
      "RangeIndex: 117012 entries, 0 to 117011\n",
      "Data columns (total 4 columns):\n",
      " #   Column           Non-Null Count   Dtype \n",
      "---  ------           --------------   ----- \n",
      " 0   UF               117012 non-null  object\n",
      " 1   MUNICIPIO        117012 non-null  object\n",
      " 2   TIPO DE VEICULO  117012 non-null  object\n",
      " 3   QUANTIDADE       117012 non-null  int64 \n",
      "dtypes: int64(1), object(3)\n",
      "memory usage: 3.6+ MB\n"
     ]
    }
   ],
   "source": [
    "df_frota_032020.info()"
   ]
  },
  {
   "cell_type": "code",
   "execution_count": 4,
   "id": "e048adf7",
   "metadata": {
    "scrolled": true
   },
   "outputs": [
    {
     "name": "stdout",
     "output_type": "stream",
     "text": [
      "<class 'pandas.core.frame.DataFrame'>\n",
      "RangeIndex: 117012 entries, 0 to 117011\n",
      "Data columns (total 4 columns):\n",
      " #   Column      Non-Null Count   Dtype \n",
      "---  ------      --------------   ----- \n",
      " 0   UF          117012 non-null  object\n",
      " 1   MUNICIPIO   117012 non-null  object\n",
      " 2   TIPO        117012 non-null  object\n",
      " 3   QUANTIDADE  117012 non-null  int64 \n",
      "dtypes: int64(1), object(3)\n",
      "memory usage: 3.6+ MB\n"
     ]
    }
   ],
   "source": [
    "df_frota_042020.info()"
   ]
  },
  {
   "cell_type": "code",
   "execution_count": 5,
   "id": "01a56993",
   "metadata": {
    "scrolled": true
   },
   "outputs": [
    {
     "name": "stdout",
     "output_type": "stream",
     "text": [
      "<class 'pandas.core.frame.DataFrame'>\n",
      "RangeIndex: 117012 entries, 0 to 117011\n",
      "Data columns (total 4 columns):\n",
      " #   Column           Non-Null Count   Dtype \n",
      "---  ------           --------------   ----- \n",
      " 0   UF               117012 non-null  object\n",
      " 1   MUNICIPIO        117012 non-null  object\n",
      " 2   TIPO DE VEICULO  117012 non-null  object\n",
      " 3   QUANTIDADE       117012 non-null  int64 \n",
      "dtypes: int64(1), object(3)\n",
      "memory usage: 3.6+ MB\n"
     ]
    }
   ],
   "source": [
    "df_frota_052020.info()"
   ]
  },
  {
   "cell_type": "code",
   "execution_count": 6,
   "id": "20b12efb",
   "metadata": {
    "scrolled": true
   },
   "outputs": [
    {
     "name": "stdout",
     "output_type": "stream",
     "text": [
      "<class 'pandas.core.frame.DataFrame'>\n",
      "RangeIndex: 117012 entries, 0 to 117011\n",
      "Data columns (total 4 columns):\n",
      " #   Column           Non-Null Count   Dtype \n",
      "---  ------           --------------   ----- \n",
      " 0   UF               117012 non-null  object\n",
      " 1   MUNICIPIO        117012 non-null  object\n",
      " 2   TIPO DE VEICULO  117012 non-null  object\n",
      " 3   QUANTIDADE       117012 non-null  int64 \n",
      "dtypes: int64(1), object(3)\n",
      "memory usage: 3.6+ MB\n"
     ]
    }
   ],
   "source": [
    "df_frota_062020.info()"
   ]
  },
  {
   "cell_type": "code",
   "execution_count": 7,
   "id": "504eb1f3",
   "metadata": {
    "scrolled": true
   },
   "outputs": [
    {
     "name": "stdout",
     "output_type": "stream",
     "text": [
      "<class 'pandas.core.frame.DataFrame'>\n",
      "RangeIndex: 117012 entries, 0 to 117011\n",
      "Data columns (total 4 columns):\n",
      " #   Column           Non-Null Count   Dtype \n",
      "---  ------           --------------   ----- \n",
      " 0   UF               117012 non-null  object\n",
      " 1   MUNICIPIO        117012 non-null  object\n",
      " 2   TIPO DE VEICULO  117012 non-null  object\n",
      " 3   QUANTIDADE       117012 non-null  int64 \n",
      "dtypes: int64(1), object(3)\n",
      "memory usage: 3.6+ MB\n"
     ]
    }
   ],
   "source": [
    "df_frota_072020.info()"
   ]
  },
  {
   "cell_type": "code",
   "execution_count": 8,
   "id": "a763565b",
   "metadata": {
    "scrolled": true
   },
   "outputs": [
    {
     "name": "stdout",
     "output_type": "stream",
     "text": [
      "<class 'pandas.core.frame.DataFrame'>\n",
      "RangeIndex: 117012 entries, 0 to 117011\n",
      "Data columns (total 4 columns):\n",
      " #   Column           Non-Null Count   Dtype \n",
      "---  ------           --------------   ----- \n",
      " 0   UF               117012 non-null  object\n",
      " 1   MUNICIPIO        117012 non-null  object\n",
      " 2   TIPO DE VEICULO  117012 non-null  object\n",
      " 3   QUANTIDADE       117012 non-null  int64 \n",
      "dtypes: int64(1), object(3)\n",
      "memory usage: 3.6+ MB\n"
     ]
    }
   ],
   "source": [
    "df_frota_082020.info()"
   ]
  },
  {
   "cell_type": "code",
   "execution_count": 9,
   "id": "2e0d7be1",
   "metadata": {
    "scrolled": true
   },
   "outputs": [
    {
     "name": "stdout",
     "output_type": "stream",
     "text": [
      "<class 'pandas.core.frame.DataFrame'>\n",
      "RangeIndex: 117012 entries, 0 to 117011\n",
      "Data columns (total 4 columns):\n",
      " #   Column           Non-Null Count   Dtype \n",
      "---  ------           --------------   ----- \n",
      " 0   UF               117012 non-null  object\n",
      " 1   MUNICIPIO        117012 non-null  object\n",
      " 2   TIPO DE VEICULO  117012 non-null  object\n",
      " 3   QUANTIDADE       117012 non-null  int64 \n",
      "dtypes: int64(1), object(3)\n",
      "memory usage: 3.6+ MB\n"
     ]
    }
   ],
   "source": [
    "df_frota_092020.info()"
   ]
  },
  {
   "cell_type": "code",
   "execution_count": 10,
   "id": "195348fc",
   "metadata": {
    "scrolled": false
   },
   "outputs": [
    {
     "name": "stdout",
     "output_type": "stream",
     "text": [
      "<class 'pandas.core.frame.DataFrame'>\n",
      "RangeIndex: 117012 entries, 0 to 117011\n",
      "Data columns (total 4 columns):\n",
      " #   Column           Non-Null Count   Dtype \n",
      "---  ------           --------------   ----- \n",
      " 0   UF               117012 non-null  object\n",
      " 1   MUNICIPIO        117012 non-null  object\n",
      " 2   TIPO DE VEICULO  117012 non-null  object\n",
      " 3   QUANTIDADE       117012 non-null  int64 \n",
      "dtypes: int64(1), object(3)\n",
      "memory usage: 3.6+ MB\n"
     ]
    }
   ],
   "source": [
    "df_frota_102020.info()"
   ]
  },
  {
   "cell_type": "code",
   "execution_count": 11,
   "id": "657e48b7",
   "metadata": {},
   "outputs": [
    {
     "name": "stdout",
     "output_type": "stream",
     "text": [
      "<class 'pandas.core.frame.DataFrame'>\n",
      "RangeIndex: 65535 entries, 0 to 65534\n",
      "Data columns (total 4 columns):\n",
      " #   Column           Non-Null Count  Dtype \n",
      "---  ------           --------------  ----- \n",
      " 0   UF               65535 non-null  object\n",
      " 1   MUNICIPIO        65535 non-null  object\n",
      " 2   TIPO DE VEÍCULO  65535 non-null  object\n",
      " 3   QUANTIDADE       65535 non-null  int64 \n",
      "dtypes: int64(1), object(3)\n",
      "memory usage: 2.0+ MB\n"
     ]
    }
   ],
   "source": [
    "df_frota_112020.info()"
   ]
  },
  {
   "cell_type": "markdown",
   "id": "bc83bbde",
   "metadata": {},
   "source": [
    "### Tratamentos"
   ]
  },
  {
   "cell_type": "markdown",
   "id": "87296e82",
   "metadata": {},
   "source": [
    "###### Renomear colunas"
   ]
  },
  {
   "cell_type": "code",
   "execution_count": 12,
   "id": "cd0ecae3",
   "metadata": {
    "scrolled": true
   },
   "outputs": [],
   "source": [
    "df_frota_042020.rename(columns={'TIPO': 'TIPO DE VEICULO'}, inplace=True)\n",
    "df_frota_112020.rename(columns={'TIPO DE VEÍCULO': 'TIPO DE VEICULO'}, inplace=True)"
   ]
  },
  {
   "cell_type": "markdown",
   "id": "456afd16",
   "metadata": {},
   "source": [
    "###### Criando coluna de data"
   ]
  },
  {
   "cell_type": "code",
   "execution_count": 13,
   "id": "7f2576ae",
   "metadata": {},
   "outputs": [],
   "source": [
    "df_frota_032020['DATE'] = pd.to_datetime('01032020', format='%d%m%Y')\n",
    "df_frota_042020['DATE'] = pd.to_datetime('01042020', format='%d%m%Y')\n",
    "df_frota_052020['DATE'] = pd.to_datetime('01052020', format='%d%m%Y')\n",
    "df_frota_062020['DATE'] = pd.to_datetime('01062020', format='%d%m%Y')\n",
    "df_frota_072020['DATE'] = pd.to_datetime('01072020', format='%d%m%Y')\n",
    "df_frota_082020['DATE'] = pd.to_datetime('01082020', format='%d%m%Y')\n",
    "df_frota_092020['DATE'] = pd.to_datetime('01092020', format='%d%m%Y')\n",
    "df_frota_102020['DATE'] = pd.to_datetime('01102020', format='%d%m%Y')\n",
    "df_frota_112020['DATE'] = pd.to_datetime('01112020', format='%d%m%Y')"
   ]
  },
  {
   "cell_type": "markdown",
   "id": "60bfa808",
   "metadata": {},
   "source": [
    "### Merge Datasets"
   ]
  },
  {
   "cell_type": "code",
   "execution_count": 14,
   "id": "7c013041",
   "metadata": {},
   "outputs": [],
   "source": [
    "df_frota_0311_2020 = pd.concat([df_frota_032020, df_frota_042020, df_frota_052020, \n",
    "                                df_frota_062020, df_frota_072020, df_frota_082020, \n",
    "                                df_frota_092020, df_frota_102020, df_frota_112020])"
   ]
  },
  {
   "cell_type": "code",
   "execution_count": 15,
   "id": "5e17d0dc",
   "metadata": {
    "scrolled": true
   },
   "outputs": [
    {
     "name": "stdout",
     "output_type": "stream",
     "text": [
      "<class 'pandas.core.frame.DataFrame'>\n",
      "Int64Index: 1001631 entries, 0 to 65534\n",
      "Data columns (total 5 columns):\n",
      " #   Column           Non-Null Count    Dtype         \n",
      "---  ------           --------------    -----         \n",
      " 0   UF               1001631 non-null  object        \n",
      " 1   MUNICIPIO        1001631 non-null  object        \n",
      " 2   TIPO DE VEICULO  1001631 non-null  object        \n",
      " 3   QUANTIDADE       1001631 non-null  int64         \n",
      " 4   DATE             1001631 non-null  datetime64[ns]\n",
      "dtypes: datetime64[ns](1), int64(1), object(3)\n",
      "memory usage: 45.9+ MB\n"
     ]
    }
   ],
   "source": [
    "df_frota_0311_2020.info()"
   ]
  },
  {
   "cell_type": "markdown",
   "id": "129b0068",
   "metadata": {},
   "source": [
    "### Save Dataset"
   ]
  },
  {
   "cell_type": "code",
   "execution_count": 16,
   "id": "8b0b13d9",
   "metadata": {},
   "outputs": [],
   "source": [
    "df_frota_0311_2020.to_csv('datasets/2020-0311_frota_de_veiculos.csv', index=None)"
   ]
  }
 ],
 "metadata": {
  "kernelspec": {
   "display_name": "Python 3",
   "language": "python",
   "name": "python3"
  },
  "language_info": {
   "codemirror_mode": {
    "name": "ipython",
    "version": 3
   },
   "file_extension": ".py",
   "mimetype": "text/x-python",
   "name": "python",
   "nbconvert_exporter": "python",
   "pygments_lexer": "ipython3",
   "version": "3.8.8"
  }
 },
 "nbformat": 4,
 "nbformat_minor": 5
}
