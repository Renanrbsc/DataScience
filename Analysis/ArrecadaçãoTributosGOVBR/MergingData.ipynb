{
 "cells": [
  {
   "cell_type": "markdown",
   "id": "1e4020a1",
   "metadata": {},
   "source": [
    "# Arrecadação de Tributos Estaduais GovBR"
   ]
  },
  {
   "cell_type": "markdown",
   "id": "1ed8c78b",
   "metadata": {},
   "source": [
    "## Mesclagem dos DataFrames"
   ]
  },
  {
   "cell_type": "code",
   "execution_count": 1,
   "id": "3ec0d917",
   "metadata": {},
   "outputs": [],
   "source": [
    "# imports\n",
    "import pandas as pd"
   ]
  },
  {
   "cell_type": "code",
   "execution_count": 2,
   "id": "2eeb823f",
   "metadata": {},
   "outputs": [],
   "source": [
    "# reads CSVs\n",
    "df_arr1 = pd.read_csv(r'datasets/Arrecadacao_01-01-1998_a_31-12-2001.csv')\n",
    "df_arr2 = pd.read_csv(r'datasets/Arrecadacao_01-01-2002_a_31-12-2005.csv')\n",
    "df_arr3 = pd.read_csv(r'datasets/Arrecadacao_01-01-2006_a_31-12-2009.csv')\n",
    "df_arr4 = pd.read_csv(r'datasets/Arrecadacao_01-01-2010_a_31-12-2013.csv')\n",
    "df_arr5 = pd.read_csv(r'datasets/Arrecadacao_01-01-2014_a_31-12-2017.csv')\n",
    "df_arr6 = pd.read_csv(r'datasets/Arrecadacao_01-01-2018_a_09-12-2020.csv')\n",
    "df_type_arr = pd.read_csv(r'datasets/TipoArrecadacao.csv')"
   ]
  },
  {
   "cell_type": "code",
   "execution_count": 3,
   "id": "27bedf61",
   "metadata": {},
   "outputs": [
    {
     "data": {
      "text/plain": [
       "((29808, 6),\n",
       " (29808, 6),\n",
       " (29187, 6),\n",
       " (29808, 6),\n",
       " (29808, 6),\n",
       " (21275, 6),\n",
       " (23, 5))"
      ]
     },
     "execution_count": 3,
     "metadata": {},
     "output_type": "execute_result"
    }
   ],
   "source": [
    "# general data\n",
    "df_arr1.shape, df_arr2.shape, df_arr3.shape, df_arr4.shape, df_arr5.shape, df_arr6.shape, df_type_arr.shape"
   ]
  },
  {
   "cell_type": "code",
   "execution_count": 4,
   "id": "273d20ac",
   "metadata": {},
   "outputs": [],
   "source": [
    "# check nulls"
   ]
  },
  {
   "cell_type": "code",
   "execution_count": 5,
   "id": "25908b28",
   "metadata": {},
   "outputs": [
    {
     "data": {
      "text/plain": [
       "sg_uf                  0\n",
       "ano_arrecadacao        0\n",
       "mes_arrecadacao        0\n",
       "co_tipo_arrecadacao    0\n",
       "va_arrecadacao         0\n",
       "DATA_BASE              0\n",
       "dtype: int64"
      ]
     },
     "execution_count": 5,
     "metadata": {},
     "output_type": "execute_result"
    }
   ],
   "source": [
    "df_arr1.isnull().sum()"
   ]
  },
  {
   "cell_type": "code",
   "execution_count": 6,
   "id": "f8ce0a87",
   "metadata": {
    "scrolled": true
   },
   "outputs": [
    {
     "data": {
      "text/plain": [
       "sg_uf                  0\n",
       "ano_arrecadacao        0\n",
       "mes_arrecadacao        0\n",
       "co_tipo_arrecadacao    0\n",
       "va_arrecadacao         0\n",
       "DATA_BASE              0\n",
       "dtype: int64"
      ]
     },
     "execution_count": 6,
     "metadata": {},
     "output_type": "execute_result"
    }
   ],
   "source": [
    "df_arr2.isnull().sum()"
   ]
  },
  {
   "cell_type": "code",
   "execution_count": 7,
   "id": "656c1a4c",
   "metadata": {},
   "outputs": [
    {
     "data": {
      "text/plain": [
       "sg_uf                  0\n",
       "ano_arrecadacao        0\n",
       "mes_arrecadacao        0\n",
       "co_tipo_arrecadacao    0\n",
       "va_arrecadacao         0\n",
       "DATA_BASE              0\n",
       "dtype: int64"
      ]
     },
     "execution_count": 7,
     "metadata": {},
     "output_type": "execute_result"
    }
   ],
   "source": [
    "df_arr3.isnull().sum()"
   ]
  },
  {
   "cell_type": "code",
   "execution_count": 8,
   "id": "cfa67bdd",
   "metadata": {},
   "outputs": [
    {
     "data": {
      "text/plain": [
       "sg_uf                  0\n",
       "ano_arrecadacao        0\n",
       "mes_arrecadacao        0\n",
       "co_tipo_arrecadacao    0\n",
       "va_arrecadacao         0\n",
       "DATA_BASE              0\n",
       "dtype: int64"
      ]
     },
     "execution_count": 8,
     "metadata": {},
     "output_type": "execute_result"
    }
   ],
   "source": [
    "df_arr4.isnull().sum()"
   ]
  },
  {
   "cell_type": "code",
   "execution_count": 9,
   "id": "4b27f1b0",
   "metadata": {},
   "outputs": [
    {
     "data": {
      "text/plain": [
       "sg_uf                  0\n",
       "ano_arrecadacao        0\n",
       "mes_arrecadacao        0\n",
       "co_tipo_arrecadacao    0\n",
       "va_arrecadacao         0\n",
       "DATA_BASE              0\n",
       "dtype: int64"
      ]
     },
     "execution_count": 9,
     "metadata": {},
     "output_type": "execute_result"
    }
   ],
   "source": [
    "df_arr5.isnull().sum()"
   ]
  },
  {
   "cell_type": "code",
   "execution_count": 10,
   "id": "3ed823a3",
   "metadata": {
    "scrolled": true
   },
   "outputs": [
    {
     "data": {
      "text/plain": [
       "sg_uf                  0\n",
       "ano_arrecadacao        0\n",
       "mes_arrecadacao        0\n",
       "co_tipo_arrecadacao    0\n",
       "va_arrecadacao         0\n",
       "DATA_BASE              0\n",
       "dtype: int64"
      ]
     },
     "execution_count": 10,
     "metadata": {},
     "output_type": "execute_result"
    }
   ],
   "source": [
    "df_arr6.isnull().sum()"
   ]
  },
  {
   "cell_type": "code",
   "execution_count": 11,
   "id": "fe7d4bf6",
   "metadata": {},
   "outputs": [
    {
     "data": {
      "text/plain": [
       "CD_TIP_ARRECAD    0\n",
       "NM_TIP_ARRECAD    0\n",
       "NM_SETOR          0\n",
       "NM_GRUPO_SETOR    0\n",
       "TIP_TRIBUTO       0\n",
       "dtype: int64"
      ]
     },
     "execution_count": 11,
     "metadata": {},
     "output_type": "execute_result"
    }
   ],
   "source": [
    "df_type_arr.isnull().sum()"
   ]
  },
  {
   "cell_type": "code",
   "execution_count": 12,
   "id": "0868a209",
   "metadata": {
    "scrolled": true
   },
   "outputs": [],
   "source": [
    "# merging datasets\n",
    "df_all_arr = pd.concat([df_arr1, df_arr2, df_arr3, df_arr4, df_arr5, df_arr6], ignore_index=True)"
   ]
  },
  {
   "cell_type": "code",
   "execution_count": 13,
   "id": "47514026",
   "metadata": {},
   "outputs": [
    {
     "data": {
      "text/plain": [
       "(169694, 6)"
      ]
     },
     "execution_count": 13,
     "metadata": {},
     "output_type": "execute_result"
    }
   ],
   "source": [
    "df_all_arr.shape"
   ]
  },
  {
   "cell_type": "code",
   "execution_count": 14,
   "id": "da1f6617",
   "metadata": {},
   "outputs": [],
   "source": [
    "df_type_arr.rename(columns={'CD_TIP_ARRECAD': 'co_tipo_arrecadacao'}, inplace=True)"
   ]
  },
  {
   "cell_type": "code",
   "execution_count": 15,
   "id": "7de3d981",
   "metadata": {},
   "outputs": [
    {
     "data": {
      "text/html": [
       "<div>\n",
       "<style scoped>\n",
       "    .dataframe tbody tr th:only-of-type {\n",
       "        vertical-align: middle;\n",
       "    }\n",
       "\n",
       "    .dataframe tbody tr th {\n",
       "        vertical-align: top;\n",
       "    }\n",
       "\n",
       "    .dataframe thead th {\n",
       "        text-align: right;\n",
       "    }\n",
       "</style>\n",
       "<table border=\"1\" class=\"dataframe\">\n",
       "  <thead>\n",
       "    <tr style=\"text-align: right;\">\n",
       "      <th></th>\n",
       "      <th>co_tipo_arrecadacao</th>\n",
       "      <th>NM_TIP_ARRECAD</th>\n",
       "      <th>NM_SETOR</th>\n",
       "      <th>NM_GRUPO_SETOR</th>\n",
       "      <th>TIP_TRIBUTO</th>\n",
       "    </tr>\n",
       "  </thead>\n",
       "  <tbody>\n",
       "    <tr>\n",
       "      <th>0</th>\n",
       "      <td>119</td>\n",
       "      <td>ICMS Primário</td>\n",
       "      <td>Primário</td>\n",
       "      <td>Arrecadação ICMS</td>\n",
       "      <td>ICMS</td>\n",
       "    </tr>\n",
       "    <tr>\n",
       "      <th>1</th>\n",
       "      <td>129</td>\n",
       "      <td>ICMS Secundário</td>\n",
       "      <td>Secundário</td>\n",
       "      <td>Arrecadação ICMS</td>\n",
       "      <td>ICMS</td>\n",
       "    </tr>\n",
       "    <tr>\n",
       "      <th>2</th>\n",
       "      <td>131</td>\n",
       "      <td>Comércio Atacadista</td>\n",
       "      <td>Terciário</td>\n",
       "      <td>Arrecadação ICMS</td>\n",
       "      <td>ICMS</td>\n",
       "    </tr>\n",
       "    <tr>\n",
       "      <th>3</th>\n",
       "      <td>132</td>\n",
       "      <td>Comércio Varejista</td>\n",
       "      <td>Terciário</td>\n",
       "      <td>Arrecadação ICMS</td>\n",
       "      <td>ICMS</td>\n",
       "    </tr>\n",
       "    <tr>\n",
       "      <th>4</th>\n",
       "      <td>133</td>\n",
       "      <td>Serviços de Transporte</td>\n",
       "      <td>Terciário</td>\n",
       "      <td>Arrecadação ICMS</td>\n",
       "      <td>ICMS</td>\n",
       "    </tr>\n",
       "    <tr>\n",
       "      <th>5</th>\n",
       "      <td>134</td>\n",
       "      <td>Serviços de Comunicação</td>\n",
       "      <td>Terciário</td>\n",
       "      <td>Arrecadação ICMS</td>\n",
       "      <td>ICMS</td>\n",
       "    </tr>\n",
       "    <tr>\n",
       "      <th>6</th>\n",
       "      <td>135</td>\n",
       "      <td>Outros ICMS</td>\n",
       "      <td>Terciário</td>\n",
       "      <td>Arrecadação ICMS</td>\n",
       "      <td>ICMS</td>\n",
       "    </tr>\n",
       "    <tr>\n",
       "      <th>7</th>\n",
       "      <td>139</td>\n",
       "      <td>ICMS Terciário</td>\n",
       "      <td>Sem Classificação</td>\n",
       "      <td>Arrecadação ICMS</td>\n",
       "      <td>ICMS</td>\n",
       "    </tr>\n",
       "    <tr>\n",
       "      <th>8</th>\n",
       "      <td>211</td>\n",
       "      <td>Energia Elétrica Secundária</td>\n",
       "      <td>Secundário</td>\n",
       "      <td>Arrecadação ICMS Específica</td>\n",
       "      <td>ICMS</td>\n",
       "    </tr>\n",
       "    <tr>\n",
       "      <th>9</th>\n",
       "      <td>212</td>\n",
       "      <td>Energia Elétrica Terciário</td>\n",
       "      <td>Terciário</td>\n",
       "      <td>Arrecadação ICMS Específica</td>\n",
       "      <td>ICMS</td>\n",
       "    </tr>\n",
       "    <tr>\n",
       "      <th>10</th>\n",
       "      <td>219</td>\n",
       "      <td>Total Energia Elétrica</td>\n",
       "      <td>Sem Classificação</td>\n",
       "      <td>Arrecadação ICMS</td>\n",
       "      <td>ICMS</td>\n",
       "    </tr>\n",
       "    <tr>\n",
       "      <th>11</th>\n",
       "      <td>221</td>\n",
       "      <td>Petróleo-Combustível-Lubrificantes Secundário</td>\n",
       "      <td>Secundário</td>\n",
       "      <td>Arrecadação ICMS Específica</td>\n",
       "      <td>ICMS</td>\n",
       "    </tr>\n",
       "    <tr>\n",
       "      <th>12</th>\n",
       "      <td>222</td>\n",
       "      <td>Petróleo-Combustível-Lubrificantes Terciário</td>\n",
       "      <td>Terciário</td>\n",
       "      <td>Arrecadação ICMS Específica</td>\n",
       "      <td>ICMS</td>\n",
       "    </tr>\n",
       "    <tr>\n",
       "      <th>13</th>\n",
       "      <td>229</td>\n",
       "      <td>Total Petróleo-Combustível-Lubrificantes</td>\n",
       "      <td>Sem Classificação</td>\n",
       "      <td>Arrecadação ICMS</td>\n",
       "      <td>ICMS</td>\n",
       "    </tr>\n",
       "    <tr>\n",
       "      <th>14</th>\n",
       "      <td>239</td>\n",
       "      <td>Dívida Ativa</td>\n",
       "      <td>Sem Classificação</td>\n",
       "      <td>Arrecadação ICMS Específica</td>\n",
       "      <td>ICMS</td>\n",
       "    </tr>\n",
       "    <tr>\n",
       "      <th>15</th>\n",
       "      <td>249</td>\n",
       "      <td>Outras Fontes de receitas</td>\n",
       "      <td>Sem Classificação</td>\n",
       "      <td>Arrecadação ICMS Específica</td>\n",
       "      <td>ICMS</td>\n",
       "    </tr>\n",
       "    <tr>\n",
       "      <th>16</th>\n",
       "      <td>399</td>\n",
       "      <td>ICMS</td>\n",
       "      <td>Sem Classificação</td>\n",
       "      <td>Arrecadação ICMS</td>\n",
       "      <td>ICMS</td>\n",
       "    </tr>\n",
       "    <tr>\n",
       "      <th>17</th>\n",
       "      <td>409</td>\n",
       "      <td>IPVA</td>\n",
       "      <td>Sem Classificação</td>\n",
       "      <td>Arrecadação de Outros Tributos</td>\n",
       "      <td>Outros Tributos</td>\n",
       "    </tr>\n",
       "    <tr>\n",
       "      <th>18</th>\n",
       "      <td>419</td>\n",
       "      <td>ITCD</td>\n",
       "      <td>Sem Classificação</td>\n",
       "      <td>Arrecadação de Outros Tributos</td>\n",
       "      <td>Outros Tributos</td>\n",
       "    </tr>\n",
       "    <tr>\n",
       "      <th>19</th>\n",
       "      <td>429</td>\n",
       "      <td>TAXAS</td>\n",
       "      <td>Sem Classificação</td>\n",
       "      <td>Arrecadação de Outros Tributos</td>\n",
       "      <td>Outros Tributos</td>\n",
       "    </tr>\n",
       "    <tr>\n",
       "      <th>20</th>\n",
       "      <td>439</td>\n",
       "      <td>Outros Tributos</td>\n",
       "      <td>Sem Classificação</td>\n",
       "      <td>Arrecadação de Outros Tributos</td>\n",
       "      <td>Outros Tributos</td>\n",
       "    </tr>\n",
       "    <tr>\n",
       "      <th>21</th>\n",
       "      <td>499</td>\n",
       "      <td>Total da Arrecadação de Outros Tributos</td>\n",
       "      <td>Sem Classificação</td>\n",
       "      <td>Arrecadação de Outros Tributos</td>\n",
       "      <td>Outros Tributos</td>\n",
       "    </tr>\n",
       "    <tr>\n",
       "      <th>22</th>\n",
       "      <td>999</td>\n",
       "      <td>Total Geral da Receita de Tributária</td>\n",
       "      <td>Sem Classificação</td>\n",
       "      <td>Sem Classificação</td>\n",
       "      <td>Sem Classificação</td>\n",
       "    </tr>\n",
       "  </tbody>\n",
       "</table>\n",
       "</div>"
      ],
      "text/plain": [
       "    co_tipo_arrecadacao                                 NM_TIP_ARRECAD  \\\n",
       "0                   119                                  ICMS Primário   \n",
       "1                   129                                ICMS Secundário   \n",
       "2                   131                            Comércio Atacadista   \n",
       "3                   132                             Comércio Varejista   \n",
       "4                   133                         Serviços de Transporte   \n",
       "5                   134                        Serviços de Comunicação   \n",
       "6                   135                                    Outros ICMS   \n",
       "7                   139                                 ICMS Terciário   \n",
       "8                   211                    Energia Elétrica Secundária   \n",
       "9                   212                     Energia Elétrica Terciário   \n",
       "10                  219                         Total Energia Elétrica   \n",
       "11                  221  Petróleo-Combustível-Lubrificantes Secundário   \n",
       "12                  222   Petróleo-Combustível-Lubrificantes Terciário   \n",
       "13                  229       Total Petróleo-Combustível-Lubrificantes   \n",
       "14                  239                                   Dívida Ativa   \n",
       "15                  249                      Outras Fontes de receitas   \n",
       "16                  399                                           ICMS   \n",
       "17                  409                                           IPVA   \n",
       "18                  419                                           ITCD   \n",
       "19                  429                                          TAXAS   \n",
       "20                  439                                Outros Tributos   \n",
       "21                  499        Total da Arrecadação de Outros Tributos   \n",
       "22                  999           Total Geral da Receita de Tributária   \n",
       "\n",
       "             NM_SETOR                  NM_GRUPO_SETOR        TIP_TRIBUTO  \n",
       "0            Primário                Arrecadação ICMS               ICMS  \n",
       "1          Secundário                Arrecadação ICMS               ICMS  \n",
       "2           Terciário                Arrecadação ICMS               ICMS  \n",
       "3           Terciário                Arrecadação ICMS               ICMS  \n",
       "4           Terciário                Arrecadação ICMS               ICMS  \n",
       "5           Terciário                Arrecadação ICMS               ICMS  \n",
       "6           Terciário                Arrecadação ICMS               ICMS  \n",
       "7   Sem Classificação                Arrecadação ICMS               ICMS  \n",
       "8          Secundário     Arrecadação ICMS Específica               ICMS  \n",
       "9           Terciário     Arrecadação ICMS Específica               ICMS  \n",
       "10  Sem Classificação                Arrecadação ICMS               ICMS  \n",
       "11         Secundário     Arrecadação ICMS Específica               ICMS  \n",
       "12          Terciário     Arrecadação ICMS Específica               ICMS  \n",
       "13  Sem Classificação                Arrecadação ICMS               ICMS  \n",
       "14  Sem Classificação     Arrecadação ICMS Específica               ICMS  \n",
       "15  Sem Classificação     Arrecadação ICMS Específica               ICMS  \n",
       "16  Sem Classificação                Arrecadação ICMS               ICMS  \n",
       "17  Sem Classificação  Arrecadação de Outros Tributos    Outros Tributos  \n",
       "18  Sem Classificação  Arrecadação de Outros Tributos    Outros Tributos  \n",
       "19  Sem Classificação  Arrecadação de Outros Tributos    Outros Tributos  \n",
       "20  Sem Classificação  Arrecadação de Outros Tributos    Outros Tributos  \n",
       "21  Sem Classificação  Arrecadação de Outros Tributos    Outros Tributos  \n",
       "22  Sem Classificação               Sem Classificação  Sem Classificação  "
      ]
     },
     "execution_count": 15,
     "metadata": {},
     "output_type": "execute_result"
    }
   ],
   "source": [
    "df_type_arr"
   ]
  },
  {
   "cell_type": "code",
   "execution_count": 16,
   "id": "7aba649c",
   "metadata": {},
   "outputs": [],
   "source": [
    "df_all_arr = pd.merge(df_all_arr, df_type_arr, how = 'inner', on = 'co_tipo_arrecadacao')"
   ]
  },
  {
   "cell_type": "code",
   "execution_count": 18,
   "id": "52a9b36c",
   "metadata": {},
   "outputs": [
    {
     "data": {
      "text/html": [
       "<div>\n",
       "<style scoped>\n",
       "    .dataframe tbody tr th:only-of-type {\n",
       "        vertical-align: middle;\n",
       "    }\n",
       "\n",
       "    .dataframe tbody tr th {\n",
       "        vertical-align: top;\n",
       "    }\n",
       "\n",
       "    .dataframe thead th {\n",
       "        text-align: right;\n",
       "    }\n",
       "</style>\n",
       "<table border=\"1\" class=\"dataframe\">\n",
       "  <thead>\n",
       "    <tr style=\"text-align: right;\">\n",
       "      <th></th>\n",
       "      <th>sg_uf</th>\n",
       "      <th>ano_arrecadacao</th>\n",
       "      <th>mes_arrecadacao</th>\n",
       "      <th>co_tipo_arrecadacao</th>\n",
       "      <th>va_arrecadacao</th>\n",
       "      <th>DATA_BASE</th>\n",
       "      <th>NM_TIP_ARRECAD</th>\n",
       "      <th>NM_SETOR</th>\n",
       "      <th>NM_GRUPO_SETOR</th>\n",
       "      <th>TIP_TRIBUTO</th>\n",
       "    </tr>\n",
       "  </thead>\n",
       "  <tbody>\n",
       "    <tr>\n",
       "      <th>0</th>\n",
       "      <td>AC</td>\n",
       "      <td>1998</td>\n",
       "      <td>1</td>\n",
       "      <td>119</td>\n",
       "      <td>97679.0</td>\n",
       "      <td>1998-01-01 00:00:00</td>\n",
       "      <td>ICMS Primário</td>\n",
       "      <td>Primário</td>\n",
       "      <td>Arrecadação ICMS</td>\n",
       "      <td>ICMS</td>\n",
       "    </tr>\n",
       "    <tr>\n",
       "      <th>1</th>\n",
       "      <td>AC</td>\n",
       "      <td>1998</td>\n",
       "      <td>10</td>\n",
       "      <td>119</td>\n",
       "      <td>70826.0</td>\n",
       "      <td>1998-10-01 00:00:00</td>\n",
       "      <td>ICMS Primário</td>\n",
       "      <td>Primário</td>\n",
       "      <td>Arrecadação ICMS</td>\n",
       "      <td>ICMS</td>\n",
       "    </tr>\n",
       "    <tr>\n",
       "      <th>2</th>\n",
       "      <td>AC</td>\n",
       "      <td>1998</td>\n",
       "      <td>11</td>\n",
       "      <td>119</td>\n",
       "      <td>57264.0</td>\n",
       "      <td>1998-11-01 00:00:00</td>\n",
       "      <td>ICMS Primário</td>\n",
       "      <td>Primário</td>\n",
       "      <td>Arrecadação ICMS</td>\n",
       "      <td>ICMS</td>\n",
       "    </tr>\n",
       "    <tr>\n",
       "      <th>3</th>\n",
       "      <td>AC</td>\n",
       "      <td>1998</td>\n",
       "      <td>12</td>\n",
       "      <td>119</td>\n",
       "      <td>43618.0</td>\n",
       "      <td>1998-12-01 00:00:00</td>\n",
       "      <td>ICMS Primário</td>\n",
       "      <td>Primário</td>\n",
       "      <td>Arrecadação ICMS</td>\n",
       "      <td>ICMS</td>\n",
       "    </tr>\n",
       "    <tr>\n",
       "      <th>4</th>\n",
       "      <td>AC</td>\n",
       "      <td>1998</td>\n",
       "      <td>2</td>\n",
       "      <td>119</td>\n",
       "      <td>114225.0</td>\n",
       "      <td>1998-02-01 00:00:00</td>\n",
       "      <td>ICMS Primário</td>\n",
       "      <td>Primário</td>\n",
       "      <td>Arrecadação ICMS</td>\n",
       "      <td>ICMS</td>\n",
       "    </tr>\n",
       "  </tbody>\n",
       "</table>\n",
       "</div>"
      ],
      "text/plain": [
       "  sg_uf  ano_arrecadacao  mes_arrecadacao  co_tipo_arrecadacao  \\\n",
       "0    AC             1998                1                  119   \n",
       "1    AC             1998               10                  119   \n",
       "2    AC             1998               11                  119   \n",
       "3    AC             1998               12                  119   \n",
       "4    AC             1998                2                  119   \n",
       "\n",
       "   va_arrecadacao            DATA_BASE NM_TIP_ARRECAD  NM_SETOR  \\\n",
       "0         97679.0  1998-01-01 00:00:00  ICMS Primário  Primário   \n",
       "1         70826.0  1998-10-01 00:00:00  ICMS Primário  Primário   \n",
       "2         57264.0  1998-11-01 00:00:00  ICMS Primário  Primário   \n",
       "3         43618.0  1998-12-01 00:00:00  ICMS Primário  Primário   \n",
       "4        114225.0  1998-02-01 00:00:00  ICMS Primário  Primário   \n",
       "\n",
       "     NM_GRUPO_SETOR TIP_TRIBUTO  \n",
       "0  Arrecadação ICMS        ICMS  \n",
       "1  Arrecadação ICMS        ICMS  \n",
       "2  Arrecadação ICMS        ICMS  \n",
       "3  Arrecadação ICMS        ICMS  \n",
       "4  Arrecadação ICMS        ICMS  "
      ]
     },
     "execution_count": 18,
     "metadata": {},
     "output_type": "execute_result"
    }
   ],
   "source": [
    "df_all_arr.head()"
   ]
  },
  {
   "cell_type": "code",
   "execution_count": 19,
   "id": "73ab4934",
   "metadata": {},
   "outputs": [],
   "source": [
    "# save new dataset\n",
    "df_all_arr.to_csv(r'datasets/Arrecadacao_01-01-1998_a_09-12-2020.csv', index=None)"
   ]
  }
 ],
 "metadata": {
  "kernelspec": {
   "display_name": "Python 3",
   "language": "python",
   "name": "python3"
  },
  "language_info": {
   "codemirror_mode": {
    "name": "ipython",
    "version": 3
   },
   "file_extension": ".py",
   "mimetype": "text/x-python",
   "name": "python",
   "nbconvert_exporter": "python",
   "pygments_lexer": "ipython3",
   "version": "3.8.8"
  }
 },
 "nbformat": 4,
 "nbformat_minor": 5
}
