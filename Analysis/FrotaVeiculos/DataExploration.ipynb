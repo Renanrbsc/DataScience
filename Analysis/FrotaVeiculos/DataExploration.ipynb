{
 "cells": [
  {
   "cell_type": "code",
   "execution_count": 1,
   "id": "b8c39889",
   "metadata": {},
   "outputs": [],
   "source": [
    "import pandas as pd"
   ]
  },
  {
   "cell_type": "code",
   "execution_count": 2,
   "id": "32544275",
   "metadata": {},
   "outputs": [],
   "source": [
    "df_frota = pd.read_csv('datasets/2020-0311_frota_de_veiculos.csv',\n",
    "                       usecols=['UF','MUNICIPIO','TIPO DE VEICULO','QUANTIDADE','DATE'],\n",
    "                       parse_dates=['DATE'],\n",
    "                       sep=',')"
   ]
  },
  {
   "cell_type": "code",
   "execution_count": 3,
   "id": "f3ed0280",
   "metadata": {
    "scrolled": true
   },
   "outputs": [
    {
     "name": "stdout",
     "output_type": "stream",
     "text": [
      "<class 'pandas.core.frame.DataFrame'>\n",
      "RangeIndex: 1001631 entries, 0 to 1001630\n",
      "Data columns (total 5 columns):\n",
      " #   Column           Non-Null Count    Dtype         \n",
      "---  ------           --------------    -----         \n",
      " 0   UF               1001631 non-null  object        \n",
      " 1   MUNICIPIO        1001631 non-null  object        \n",
      " 2   TIPO DE VEICULO  1001631 non-null  object        \n",
      " 3   QUANTIDADE       1001631 non-null  int64         \n",
      " 4   DATE             1001631 non-null  datetime64[ns]\n",
      "dtypes: datetime64[ns](1), int64(1), object(3)\n",
      "memory usage: 38.2+ MB\n"
     ]
    }
   ],
   "source": [
    "df_frota.info()"
   ]
  },
  {
   "cell_type": "code",
   "execution_count": 4,
   "id": "a2ed3c34",
   "metadata": {
    "scrolled": true
   },
   "outputs": [
    {
     "data": {
      "text/html": [
       "<div>\n",
       "<style scoped>\n",
       "    .dataframe tbody tr th:only-of-type {\n",
       "        vertical-align: middle;\n",
       "    }\n",
       "\n",
       "    .dataframe tbody tr th {\n",
       "        vertical-align: top;\n",
       "    }\n",
       "\n",
       "    .dataframe thead th {\n",
       "        text-align: right;\n",
       "    }\n",
       "</style>\n",
       "<table border=\"1\" class=\"dataframe\">\n",
       "  <thead>\n",
       "    <tr style=\"text-align: right;\">\n",
       "      <th></th>\n",
       "      <th>QUANTIDADE</th>\n",
       "    </tr>\n",
       "  </thead>\n",
       "  <tbody>\n",
       "    <tr>\n",
       "      <th>count</th>\n",
       "      <td>1.001631e+06</td>\n",
       "    </tr>\n",
       "    <tr>\n",
       "      <th>mean</th>\n",
       "      <td>8.923255e+02</td>\n",
       "    </tr>\n",
       "    <tr>\n",
       "      <th>std</th>\n",
       "      <td>2.089486e+04</td>\n",
       "    </tr>\n",
       "    <tr>\n",
       "      <th>min</th>\n",
       "      <td>0.000000e+00</td>\n",
       "    </tr>\n",
       "    <tr>\n",
       "      <th>25%</th>\n",
       "      <td>0.000000e+00</td>\n",
       "    </tr>\n",
       "    <tr>\n",
       "      <th>50%</th>\n",
       "      <td>1.000000e+01</td>\n",
       "    </tr>\n",
       "    <tr>\n",
       "      <th>75%</th>\n",
       "      <td>1.320000e+02</td>\n",
       "    </tr>\n",
       "    <tr>\n",
       "      <th>max</th>\n",
       "      <td>5.953694e+06</td>\n",
       "    </tr>\n",
       "  </tbody>\n",
       "</table>\n",
       "</div>"
      ],
      "text/plain": [
       "         QUANTIDADE\n",
       "count  1.001631e+06\n",
       "mean   8.923255e+02\n",
       "std    2.089486e+04\n",
       "min    0.000000e+00\n",
       "25%    0.000000e+00\n",
       "50%    1.000000e+01\n",
       "75%    1.320000e+02\n",
       "max    5.953694e+06"
      ]
     },
     "execution_count": 4,
     "metadata": {},
     "output_type": "execute_result"
    }
   ],
   "source": [
    "df_frota.describe()"
   ]
  },
  {
   "cell_type": "markdown",
   "id": "8aab7994",
   "metadata": {},
   "source": [
    "### Entendendo os Dados"
   ]
  },
  {
   "cell_type": "code",
   "execution_count": 5,
   "id": "7fd30dbd",
   "metadata": {},
   "outputs": [
    {
     "data": {
      "text/plain": [
       "UF                 0\n",
       "MUNICIPIO          0\n",
       "TIPO DE VEICULO    0\n",
       "QUANTIDADE         0\n",
       "DATE               0\n",
       "dtype: int64"
      ]
     },
     "execution_count": 5,
     "metadata": {},
     "output_type": "execute_result"
    }
   ],
   "source": [
    "df_frota.isnull().sum()"
   ]
  },
  {
   "cell_type": "markdown",
   "id": "37385040",
   "metadata": {},
   "source": [
    "###### Coluna TIPO DE VEICULO"
   ]
  },
  {
   "cell_type": "code",
   "execution_count": 6,
   "id": "36c27449",
   "metadata": {
    "scrolled": true
   },
   "outputs": [
    {
     "data": {
      "text/plain": [
       "array(['AUTOMOVEL', 'BONDE', 'CAMINHAO', 'CAMINHAO TRATOR', 'CAMINHONETE',\n",
       "       'CAMIONETA', 'CHASSI PLATAF', 'CICLOMOTOR', 'MICRO-ONIBUS',\n",
       "       'MOTOCICLETA', 'MOTONETA', 'ONIBUS', 'QUADRICICLO', 'REBOQUE',\n",
       "       'SEMI-REBOQUE', 'SIDE-CAR', 'OUTROS', 'TRATOR ESTEI',\n",
       "       'TRATOR RODAS', 'TRICICLO', 'UTILITARIO'], dtype=object)"
      ]
     },
     "execution_count": 6,
     "metadata": {},
     "output_type": "execute_result"
    }
   ],
   "source": [
    "veiculos = df_frota['TIPO DE VEICULO'].unique()\n",
    "veiculos"
   ]
  },
  {
   "cell_type": "code",
   "execution_count": 7,
   "id": "bed27978",
   "metadata": {},
   "outputs": [
    {
     "data": {
      "text/plain": [
       "21"
      ]
     },
     "execution_count": 7,
     "metadata": {},
     "output_type": "execute_result"
    }
   ],
   "source": [
    "df_frota['TIPO DE VEICULO'].nunique()"
   ]
  },
  {
   "cell_type": "code",
   "execution_count": 8,
   "id": "8c4199ee",
   "metadata": {
    "scrolled": false
   },
   "outputs": [
    {
     "data": {
      "text/plain": [
       "BONDE              47697\n",
       "CAMINHAO           47697\n",
       "CAMINHAO TRATOR    47697\n",
       "CHASSI PLATAF      47697\n",
       "MOTOCICLETA        47697\n",
       "QUADRICICLO        47697\n",
       "AUTOMOVEL          47697\n",
       "MICRO-ONIBUS       47697\n",
       "MOTONETA           47697\n",
       "REBOQUE            47697\n",
       "SEMI-REBOQUE       47697\n",
       "CICLOMOTOR         47697\n",
       "CAMIONETA          47697\n",
       "CAMINHONETE        47697\n",
       "ONIBUS             47697\n",
       "OUTROS             47696\n",
       "SIDE-CAR           47696\n",
       "UTILITARIO         47696\n",
       "TRICICLO           47696\n",
       "TRATOR RODAS       47696\n",
       "TRATOR ESTEI       47696\n",
       "Name: TIPO DE VEICULO, dtype: int64"
      ]
     },
     "execution_count": 8,
     "metadata": {},
     "output_type": "execute_result"
    }
   ],
   "source": [
    "df_frota['TIPO DE VEICULO'].value_counts()"
   ]
  },
  {
   "cell_type": "markdown",
   "id": "0c174a0f",
   "metadata": {},
   "source": [
    "###### Coluna UF"
   ]
  },
  {
   "cell_type": "code",
   "execution_count": 9,
   "id": "5425ee4f",
   "metadata": {
    "scrolled": true
   },
   "outputs": [
    {
     "data": {
      "text/plain": [
       "array(['AC', 'AL', 'AM', 'AP', 'BA', 'CE', 'DF', 'ES', 'GO', 'MA', 'MG',\n",
       "       'MS', 'MT', 'PA', 'PB', 'PE', 'PI', 'PR', 'RJ', 'RN', 'RO', 'RR',\n",
       "       'RS', 'SC', 'SE', 'SP', 'TO'], dtype=object)"
      ]
     },
     "execution_count": 9,
     "metadata": {},
     "output_type": "execute_result"
    }
   ],
   "source": [
    "uf = df_frota['UF'].unique()\n",
    "uf"
   ]
  },
  {
   "cell_type": "code",
   "execution_count": 10,
   "id": "9f7210e2",
   "metadata": {
    "scrolled": false
   },
   "outputs": [
    {
     "data": {
      "text/plain": [
       "27"
      ]
     },
     "execution_count": 10,
     "metadata": {},
     "output_type": "execute_result"
    }
   ],
   "source": [
    "df_frota['UF'].nunique()"
   ]
  },
  {
   "cell_type": "code",
   "execution_count": 11,
   "id": "af91e769",
   "metadata": {},
   "outputs": [
    {
     "data": {
      "text/plain": [
       "MG    161217\n",
       "SP    108528\n",
       "RS     83496\n",
       "BA     78813\n",
       "PR     67032\n",
       "SC     49560\n",
       "GO     46494\n",
       "PB     42147\n",
       "MA     41013\n",
       "PI     40797\n",
       "PE     34965\n",
       "CE     34776\n",
       "RN     28056\n",
       "PA     27216\n",
       "MT     26649\n",
       "TO     23352\n",
       "AL     19278\n",
       "RJ     15624\n",
       "MS     14931\n",
       "ES     14742\n",
       "SE     12600\n",
       "AM     11718\n",
       "RO      8736\n",
       "AC      4158\n",
       "AP      3024\n",
       "RR      2520\n",
       "DF       189\n",
       "Name: UF, dtype: int64"
      ]
     },
     "execution_count": 11,
     "metadata": {},
     "output_type": "execute_result"
    }
   ],
   "source": [
    "df_frota['UF'].value_counts()"
   ]
  },
  {
   "cell_type": "markdown",
   "id": "85c6caac",
   "metadata": {},
   "source": [
    "###### Coluna MUNICIPIO"
   ]
  },
  {
   "cell_type": "code",
   "execution_count": 12,
   "id": "cd40a61b",
   "metadata": {},
   "outputs": [
    {
     "data": {
      "text/plain": [
       "array(['ACRELANDIA', 'ASSIS BRASIL', 'BRASILEIA', ..., 'TUPIRATINS',\n",
       "       'WANDERLANDIA', 'XAMBIOA'], dtype=object)"
      ]
     },
     "execution_count": 12,
     "metadata": {},
     "output_type": "execute_result"
    }
   ],
   "source": [
    "municipios = df_frota['MUNICIPIO'].unique()\n",
    "municipios"
   ]
  },
  {
   "cell_type": "code",
   "execution_count": 13,
   "id": "e75e2ac4",
   "metadata": {
    "scrolled": true
   },
   "outputs": [
    {
     "data": {
      "text/plain": [
       "5288"
      ]
     },
     "execution_count": 13,
     "metadata": {},
     "output_type": "execute_result"
    }
   ],
   "source": [
    "df_frota['MUNICIPIO'].nunique()"
   ]
  },
  {
   "cell_type": "code",
   "execution_count": 14,
   "id": "805eb638",
   "metadata": {},
   "outputs": [
    {
     "data": {
      "text/plain": [
       "BOM JESUS               1071\n",
       "SANTA LUZIA              756\n",
       "BONITO                   756\n",
       "SANTA INES               735\n",
       "SAO DOMINGOS             714\n",
       "                        ... \n",
       "SOMBRIO                  168\n",
       "SANTA MARIA DO OESTE     168\n",
       "COLORADO DO OESTE        168\n",
       "SENTINELA DO SUL         168\n",
       "CAICO                    168\n",
       "Name: MUNICIPIO, Length: 5288, dtype: int64"
      ]
     },
     "execution_count": 14,
     "metadata": {},
     "output_type": "execute_result"
    }
   ],
   "source": [
    "df_frota['MUNICIPIO'].value_counts()"
   ]
  },
  {
   "cell_type": "markdown",
   "id": "9dfe9785",
   "metadata": {},
   "source": [
    "###### Coluna DATE"
   ]
  },
  {
   "cell_type": "code",
   "execution_count": 15,
   "id": "efbd02fc",
   "metadata": {},
   "outputs": [
    {
     "data": {
      "text/plain": [
       "array(['2020-03-01T00:00:00.000000000', '2020-04-01T00:00:00.000000000',\n",
       "       '2020-05-01T00:00:00.000000000', '2020-06-01T00:00:00.000000000',\n",
       "       '2020-07-01T00:00:00.000000000', '2020-08-01T00:00:00.000000000',\n",
       "       '2020-09-01T00:00:00.000000000', '2020-10-01T00:00:00.000000000',\n",
       "       '2020-11-01T00:00:00.000000000'], dtype='datetime64[ns]')"
      ]
     },
     "execution_count": 15,
     "metadata": {},
     "output_type": "execute_result"
    }
   ],
   "source": [
    "df_frota['DATE'].unique()"
   ]
  },
  {
   "cell_type": "code",
   "execution_count": 16,
   "id": "13a491ed",
   "metadata": {},
   "outputs": [
    {
     "data": {
      "text/plain": [
       "2020-03-01    117012\n",
       "2020-05-01    117012\n",
       "2020-10-01    117012\n",
       "2020-08-01    117012\n",
       "2020-06-01    117012\n",
       "2020-07-01    117012\n",
       "2020-09-01    117012\n",
       "2020-04-01    117012\n",
       "2020-11-01     65535\n",
       "Name: DATE, dtype: int64"
      ]
     },
     "execution_count": 16,
     "metadata": {},
     "output_type": "execute_result"
    }
   ],
   "source": [
    "df_frota['DATE'].value_counts()"
   ]
  },
  {
   "cell_type": "markdown",
   "id": "2b4b4d09",
   "metadata": {},
   "source": [
    "#### Buscas"
   ]
  },
  {
   "cell_type": "code",
   "execution_count": 17,
   "id": "321249f8",
   "metadata": {
    "scrolled": true
   },
   "outputs": [
    {
     "data": {
      "text/html": [
       "<div>\n",
       "<style scoped>\n",
       "    .dataframe tbody tr th:only-of-type {\n",
       "        vertical-align: middle;\n",
       "    }\n",
       "\n",
       "    .dataframe tbody tr th {\n",
       "        vertical-align: top;\n",
       "    }\n",
       "\n",
       "    .dataframe thead th {\n",
       "        text-align: right;\n",
       "    }\n",
       "</style>\n",
       "<table border=\"1\" class=\"dataframe\">\n",
       "  <thead>\n",
       "    <tr style=\"text-align: right;\">\n",
       "      <th></th>\n",
       "      <th>UF</th>\n",
       "      <th>MUNICIPIO</th>\n",
       "      <th>TIPO DE VEICULO</th>\n",
       "      <th>QUANTIDADE</th>\n",
       "      <th>DATE</th>\n",
       "    </tr>\n",
       "  </thead>\n",
       "  <tbody>\n",
       "    <tr>\n",
       "      <th>936096</th>\n",
       "      <td>AC</td>\n",
       "      <td>ACRELANDIA</td>\n",
       "      <td>AUTOMOVEL</td>\n",
       "      <td>1453</td>\n",
       "      <td>2020-11-01</td>\n",
       "    </tr>\n",
       "    <tr>\n",
       "      <th>936097</th>\n",
       "      <td>AC</td>\n",
       "      <td>ACRELANDIA</td>\n",
       "      <td>BONDE</td>\n",
       "      <td>0</td>\n",
       "      <td>2020-11-01</td>\n",
       "    </tr>\n",
       "    <tr>\n",
       "      <th>936098</th>\n",
       "      <td>AC</td>\n",
       "      <td>ACRELANDIA</td>\n",
       "      <td>CAMINHAO</td>\n",
       "      <td>502</td>\n",
       "      <td>2020-11-01</td>\n",
       "    </tr>\n",
       "    <tr>\n",
       "      <th>936099</th>\n",
       "      <td>AC</td>\n",
       "      <td>ACRELANDIA</td>\n",
       "      <td>CAMINHAO TRATOR</td>\n",
       "      <td>43</td>\n",
       "      <td>2020-11-01</td>\n",
       "    </tr>\n",
       "    <tr>\n",
       "      <th>936100</th>\n",
       "      <td>AC</td>\n",
       "      <td>ACRELANDIA</td>\n",
       "      <td>CAMINHONETE</td>\n",
       "      <td>722</td>\n",
       "      <td>2020-11-01</td>\n",
       "    </tr>\n",
       "  </tbody>\n",
       "</table>\n",
       "</div>"
      ],
      "text/plain": [
       "        UF   MUNICIPIO  TIPO DE VEICULO  QUANTIDADE       DATE\n",
       "936096  AC  ACRELANDIA        AUTOMOVEL        1453 2020-11-01\n",
       "936097  AC  ACRELANDIA            BONDE           0 2020-11-01\n",
       "936098  AC  ACRELANDIA         CAMINHAO         502 2020-11-01\n",
       "936099  AC  ACRELANDIA  CAMINHAO TRATOR          43 2020-11-01\n",
       "936100  AC  ACRELANDIA      CAMINHONETE         722 2020-11-01"
      ]
     },
     "execution_count": 17,
     "metadata": {},
     "output_type": "execute_result"
    }
   ],
   "source": [
    "# buscando dados do mes 11/2020\n",
    "df_112020 = df_frota[df_frota['DATE'].dt.month == 11]\n",
    "df_112020.head()"
   ]
  },
  {
   "cell_type": "code",
   "execution_count": 18,
   "id": "5cea2a5c",
   "metadata": {
    "scrolled": true
   },
   "outputs": [
    {
     "data": {
      "text/plain": [
       "['PR', 'RJ', 'RN', 'RO', 'RR', 'RS', 'SC', 'SE', 'SP', 'TO']"
      ]
     },
     "execution_count": 18,
     "metadata": {},
     "output_type": "execute_result"
    }
   ],
   "source": [
    "# salvando as uf faltantes do mes 11/2020\n",
    "missing_uf_112020 = list()\n",
    "for i in uf:\n",
    "    if not i in df_112020['UF'].unique():\n",
    "        missing_uf_112020.append(i)\n",
    "missing_uf_112020"
   ]
  },
  {
   "cell_type": "code",
   "execution_count": 19,
   "id": "9f08029b",
   "metadata": {
    "scrolled": true
   },
   "outputs": [
    {
     "data": {
      "text/plain": [
       "BONDE              19024\n",
       "SEMI-REBOQUE       19024\n",
       "MOTONETA           19024\n",
       "ONIBUS             19024\n",
       "CAMINHAO TRATOR    19024\n",
       "CHASSI PLATAF      19024\n",
       "REBOQUE            19024\n",
       "CAMINHAO           19024\n",
       "SIDE-CAR           19024\n",
       "TRATOR RODAS       19024\n",
       "TRICICLO           19024\n",
       "MICRO-ONIBUS       19024\n",
       "MOTOCICLETA        19024\n",
       "CICLOMOTOR         19024\n",
       "CAMIONETA          19024\n",
       "CAMINHONETE        19024\n",
       "TRATOR ESTEI       19024\n",
       "QUADRICICLO        19024\n",
       "OUTROS             19024\n",
       "AUTOMOVEL          19024\n",
       "UTILITARIO         19024\n",
       "Name: TIPO DE VEICULO, dtype: int64"
      ]
     },
     "execution_count": 19,
     "metadata": {},
     "output_type": "execute_result"
    }
   ],
   "source": [
    "# busca geral das uf incompletas do mes 11 \n",
    "df_frota[(df_frota['UF'].isin(missing_uf_112020))]['TIPO DE VEICULO'].value_counts()"
   ]
  },
  {
   "cell_type": "code",
   "execution_count": 20,
   "id": "388b2490",
   "metadata": {
    "scrolled": true
   },
   "outputs": [
    {
     "data": {
      "text/plain": [
       "BONDE              3121\n",
       "REBOQUE            3121\n",
       "CAMIONETA          3121\n",
       "SEMI-REBOQUE       3121\n",
       "CAMINHAO TRATOR    3121\n",
       "MICRO-ONIBUS       3121\n",
       "MOTONETA           3121\n",
       "CHASSI PLATAF      3121\n",
       "QUADRICICLO        3121\n",
       "CAMINHONETE        3121\n",
       "AUTOMOVEL          3121\n",
       "MOTOCICLETA        3121\n",
       "CICLOMOTOR         3121\n",
       "CAMINHAO           3121\n",
       "ONIBUS             3121\n",
       "SIDE-CAR           3120\n",
       "TRICICLO           3120\n",
       "OUTROS             3120\n",
       "TRATOR RODAS       3120\n",
       "TRATOR ESTEI       3120\n",
       "UTILITARIO         3120\n",
       "Name: TIPO DE VEICULO, dtype: int64"
      ]
     },
     "execution_count": 20,
     "metadata": {},
     "output_type": "execute_result"
    }
   ],
   "source": [
    "# dados faltantes estão nas uf completas e no mes 11/2020\n",
    "df_frota[~(df_frota['UF'].isin(missing_uf_112020)) & \\\n",
    "         (df_frota['DATE'].dt.month == 11) ]['TIPO DE VEICULO'].value_counts()"
   ]
  },
  {
   "cell_type": "code",
   "execution_count": 21,
   "id": "bc9bb665",
   "metadata": {},
   "outputs": [
    {
     "data": {
      "text/plain": [
       "3036"
      ]
     },
     "execution_count": 21,
     "metadata": {},
     "output_type": "execute_result"
    }
   ],
   "source": [
    "municipios_completos = df_frota[~(df_frota['UF'].isin(missing_uf_112020)) & \\\n",
    "                                (df_frota['DATE'].dt.month == 11) ]['MUNICIPIO'].unique()\n",
    "len(municipios_completos)"
   ]
  },
  {
   "cell_type": "code",
   "execution_count": 22,
   "id": "90b14b8a",
   "metadata": {
    "scrolled": true
   },
   "outputs": [],
   "source": [
    "# 6 x 3036 = 18216 requesições em busca dos itens faltantes\n",
    "\n",
    "# Municipio: PARNAGUA falta dados sobre TIPO DE VEICULO: TRATOR ESTEI\n",
    "# Municipio: PARNAGUA falta dados sobre TIPO DE VEICULO: TRICICLO\n",
    "# Municipio: PARNAGUA falta dados sobre TIPO DE VEICULO: OUTROS\n",
    "# Municipio: PARNAGUA falta dados sobre TIPO DE VEICULO: SIDE-CAR\n",
    "# Municipio: PARNAGUA falta dados sobre TIPO DE VEICULO: TRATOR RODAS\n",
    "# Municipio: PARNAGUA falta dados sobre TIPO DE VEICULO: UTILITARIO\n",
    "\n",
    "veiculos_faltantes = ['TRATOR ESTEI', 'TRICICLO', 'OUTROS', 'SIDE-CAR', 'TRATOR RODAS', 'UTILITARIO'] \n",
    "#for i in veiculos_faltantes:\n",
    "#    for j in municipios_completos:\n",
    "#        veiculo_cidade = df_frota[~(df_frota['UF'].isin(missing_uf_112020)) & \\\n",
    "#                                  (df_frota['DATE'].dt.month == 11) & \\\n",
    "#                                  (df_frota['TIPO DE VEICULO'] == i) & \\\n",
    "#                                  (df_frota['MUNICIPIO'] == j)]\n",
    "#       if len(veiculo_cidade) == 0:\n",
    "#            print(f\"Municipio: {j} falta dados sobre TIPO DE VEICULO: {i}\")"
   ]
  },
  {
   "cell_type": "code",
   "execution_count": 23,
   "id": "c67a0aff",
   "metadata": {},
   "outputs": [
    {
     "data": {
      "text/html": [
       "<div>\n",
       "<style scoped>\n",
       "    .dataframe tbody tr th:only-of-type {\n",
       "        vertical-align: middle;\n",
       "    }\n",
       "\n",
       "    .dataframe tbody tr th {\n",
       "        vertical-align: top;\n",
       "    }\n",
       "\n",
       "    .dataframe thead th {\n",
       "        text-align: right;\n",
       "    }\n",
       "</style>\n",
       "<table border=\"1\" class=\"dataframe\">\n",
       "  <thead>\n",
       "    <tr style=\"text-align: right;\">\n",
       "      <th></th>\n",
       "      <th>UF</th>\n",
       "      <th>MUNICIPIO</th>\n",
       "      <th>TIPO DE VEICULO</th>\n",
       "      <th>QUANTIDADE</th>\n",
       "      <th>DATE</th>\n",
       "    </tr>\n",
       "  </thead>\n",
       "  <tbody>\n",
       "    <tr>\n",
       "      <th>1001616</th>\n",
       "      <td>PI</td>\n",
       "      <td>PARNAGUA</td>\n",
       "      <td>AUTOMOVEL</td>\n",
       "      <td>179</td>\n",
       "      <td>2020-11-01</td>\n",
       "    </tr>\n",
       "    <tr>\n",
       "      <th>1001617</th>\n",
       "      <td>PI</td>\n",
       "      <td>PARNAGUA</td>\n",
       "      <td>BONDE</td>\n",
       "      <td>0</td>\n",
       "      <td>2020-11-01</td>\n",
       "    </tr>\n",
       "    <tr>\n",
       "      <th>1001618</th>\n",
       "      <td>PI</td>\n",
       "      <td>PARNAGUA</td>\n",
       "      <td>CAMINHAO</td>\n",
       "      <td>26</td>\n",
       "      <td>2020-11-01</td>\n",
       "    </tr>\n",
       "    <tr>\n",
       "      <th>1001619</th>\n",
       "      <td>PI</td>\n",
       "      <td>PARNAGUA</td>\n",
       "      <td>CAMINHAO TRATOR</td>\n",
       "      <td>1</td>\n",
       "      <td>2020-11-01</td>\n",
       "    </tr>\n",
       "    <tr>\n",
       "      <th>1001620</th>\n",
       "      <td>PI</td>\n",
       "      <td>PARNAGUA</td>\n",
       "      <td>CAMINHONETE</td>\n",
       "      <td>84</td>\n",
       "      <td>2020-11-01</td>\n",
       "    </tr>\n",
       "    <tr>\n",
       "      <th>1001621</th>\n",
       "      <td>PI</td>\n",
       "      <td>PARNAGUA</td>\n",
       "      <td>CAMIONETA</td>\n",
       "      <td>12</td>\n",
       "      <td>2020-11-01</td>\n",
       "    </tr>\n",
       "    <tr>\n",
       "      <th>1001622</th>\n",
       "      <td>PI</td>\n",
       "      <td>PARNAGUA</td>\n",
       "      <td>CHASSI PLATAF</td>\n",
       "      <td>0</td>\n",
       "      <td>2020-11-01</td>\n",
       "    </tr>\n",
       "    <tr>\n",
       "      <th>1001623</th>\n",
       "      <td>PI</td>\n",
       "      <td>PARNAGUA</td>\n",
       "      <td>CICLOMOTOR</td>\n",
       "      <td>0</td>\n",
       "      <td>2020-11-01</td>\n",
       "    </tr>\n",
       "    <tr>\n",
       "      <th>1001624</th>\n",
       "      <td>PI</td>\n",
       "      <td>PARNAGUA</td>\n",
       "      <td>MICRO-ONIBUS</td>\n",
       "      <td>5</td>\n",
       "      <td>2020-11-01</td>\n",
       "    </tr>\n",
       "    <tr>\n",
       "      <th>1001625</th>\n",
       "      <td>PI</td>\n",
       "      <td>PARNAGUA</td>\n",
       "      <td>MOTOCICLETA</td>\n",
       "      <td>834</td>\n",
       "      <td>2020-11-01</td>\n",
       "    </tr>\n",
       "    <tr>\n",
       "      <th>1001626</th>\n",
       "      <td>PI</td>\n",
       "      <td>PARNAGUA</td>\n",
       "      <td>MOTONETA</td>\n",
       "      <td>108</td>\n",
       "      <td>2020-11-01</td>\n",
       "    </tr>\n",
       "    <tr>\n",
       "      <th>1001627</th>\n",
       "      <td>PI</td>\n",
       "      <td>PARNAGUA</td>\n",
       "      <td>ONIBUS</td>\n",
       "      <td>5</td>\n",
       "      <td>2020-11-01</td>\n",
       "    </tr>\n",
       "    <tr>\n",
       "      <th>1001628</th>\n",
       "      <td>PI</td>\n",
       "      <td>PARNAGUA</td>\n",
       "      <td>QUADRICICLO</td>\n",
       "      <td>0</td>\n",
       "      <td>2020-11-01</td>\n",
       "    </tr>\n",
       "    <tr>\n",
       "      <th>1001629</th>\n",
       "      <td>PI</td>\n",
       "      <td>PARNAGUA</td>\n",
       "      <td>REBOQUE</td>\n",
       "      <td>11</td>\n",
       "      <td>2020-11-01</td>\n",
       "    </tr>\n",
       "    <tr>\n",
       "      <th>1001630</th>\n",
       "      <td>PI</td>\n",
       "      <td>PARNAGUA</td>\n",
       "      <td>SEMI-REBOQUE</td>\n",
       "      <td>6</td>\n",
       "      <td>2020-11-01</td>\n",
       "    </tr>\n",
       "  </tbody>\n",
       "</table>\n",
       "</div>"
      ],
      "text/plain": [
       "         UF MUNICIPIO  TIPO DE VEICULO  QUANTIDADE       DATE\n",
       "1001616  PI  PARNAGUA        AUTOMOVEL         179 2020-11-01\n",
       "1001617  PI  PARNAGUA            BONDE           0 2020-11-01\n",
       "1001618  PI  PARNAGUA         CAMINHAO          26 2020-11-01\n",
       "1001619  PI  PARNAGUA  CAMINHAO TRATOR           1 2020-11-01\n",
       "1001620  PI  PARNAGUA      CAMINHONETE          84 2020-11-01\n",
       "1001621  PI  PARNAGUA        CAMIONETA          12 2020-11-01\n",
       "1001622  PI  PARNAGUA    CHASSI PLATAF           0 2020-11-01\n",
       "1001623  PI  PARNAGUA       CICLOMOTOR           0 2020-11-01\n",
       "1001624  PI  PARNAGUA     MICRO-ONIBUS           5 2020-11-01\n",
       "1001625  PI  PARNAGUA      MOTOCICLETA         834 2020-11-01\n",
       "1001626  PI  PARNAGUA         MOTONETA         108 2020-11-01\n",
       "1001627  PI  PARNAGUA           ONIBUS           5 2020-11-01\n",
       "1001628  PI  PARNAGUA      QUADRICICLO           0 2020-11-01\n",
       "1001629  PI  PARNAGUA          REBOQUE          11 2020-11-01\n",
       "1001630  PI  PARNAGUA     SEMI-REBOQUE           6 2020-11-01"
      ]
     },
     "execution_count": 23,
     "metadata": {},
     "output_type": "execute_result"
    }
   ],
   "source": [
    "cidade_incompleta = df_frota[~(df_frota['UF'].isin(missing_uf_112020)) & \\\n",
    "                                 (df_frota['DATE'].dt.month == 11) & \\\n",
    "                                 (df_frota['MUNICIPIO'] == 'PARNAGUA') & \\\n",
    "                                 (df_frota['TIPO DE VEICULO'].isin(veiculos))]\n",
    "cidade_incompleta"
   ]
  },
  {
   "cell_type": "markdown",
   "id": "dfa21edc",
   "metadata": {},
   "source": [
    "---"
   ]
  },
  {
   "cell_type": "code",
   "execution_count": 24,
   "id": "ae7ae819",
   "metadata": {},
   "outputs": [
    {
     "data": {
      "text/html": [
       "<div>\n",
       "<style scoped>\n",
       "    .dataframe tbody tr th:only-of-type {\n",
       "        vertical-align: middle;\n",
       "    }\n",
       "\n",
       "    .dataframe tbody tr th {\n",
       "        vertical-align: top;\n",
       "    }\n",
       "\n",
       "    .dataframe thead th {\n",
       "        text-align: right;\n",
       "    }\n",
       "</style>\n",
       "<table border=\"1\" class=\"dataframe\">\n",
       "  <thead>\n",
       "    <tr style=\"text-align: right;\">\n",
       "      <th></th>\n",
       "      <th>UF</th>\n",
       "      <th>MUNICIPIO</th>\n",
       "      <th>TIPO DE VEICULO</th>\n",
       "      <th>QUANTIDADE</th>\n",
       "      <th>DATE</th>\n",
       "    </tr>\n",
       "  </thead>\n",
       "  <tbody>\n",
       "    <tr>\n",
       "      <th>2</th>\n",
       "      <td>AC</td>\n",
       "      <td>ACRELANDIA</td>\n",
       "      <td>CAMINHAO</td>\n",
       "      <td>350</td>\n",
       "      <td>2020-03-01</td>\n",
       "    </tr>\n",
       "    <tr>\n",
       "      <th>23</th>\n",
       "      <td>AC</td>\n",
       "      <td>ASSIS BRASIL</td>\n",
       "      <td>CAMINHAO</td>\n",
       "      <td>25</td>\n",
       "      <td>2020-03-01</td>\n",
       "    </tr>\n",
       "    <tr>\n",
       "      <th>44</th>\n",
       "      <td>AC</td>\n",
       "      <td>BRASILEIA</td>\n",
       "      <td>CAMINHAO</td>\n",
       "      <td>276</td>\n",
       "      <td>2020-03-01</td>\n",
       "    </tr>\n",
       "    <tr>\n",
       "      <th>65</th>\n",
       "      <td>AC</td>\n",
       "      <td>BUJARI</td>\n",
       "      <td>CAMINHAO</td>\n",
       "      <td>121</td>\n",
       "      <td>2020-03-01</td>\n",
       "    </tr>\n",
       "    <tr>\n",
       "      <th>86</th>\n",
       "      <td>AC</td>\n",
       "      <td>CAPIXABA</td>\n",
       "      <td>CAMINHAO</td>\n",
       "      <td>88</td>\n",
       "      <td>2020-03-01</td>\n",
       "    </tr>\n",
       "    <tr>\n",
       "      <th>...</th>\n",
       "      <td>...</td>\n",
       "      <td>...</td>\n",
       "      <td>...</td>\n",
       "      <td>...</td>\n",
       "      <td>...</td>\n",
       "    </tr>\n",
       "    <tr>\n",
       "      <th>1001534</th>\n",
       "      <td>PI</td>\n",
       "      <td>PAJEU DO PIAUI</td>\n",
       "      <td>CAMINHAO</td>\n",
       "      <td>14</td>\n",
       "      <td>2020-11-01</td>\n",
       "    </tr>\n",
       "    <tr>\n",
       "      <th>1001555</th>\n",
       "      <td>PI</td>\n",
       "      <td>PALMEIRA DO PIAUI</td>\n",
       "      <td>CAMINHAO</td>\n",
       "      <td>46</td>\n",
       "      <td>2020-11-01</td>\n",
       "    </tr>\n",
       "    <tr>\n",
       "      <th>1001576</th>\n",
       "      <td>PI</td>\n",
       "      <td>PALMEIRAIS</td>\n",
       "      <td>CAMINHAO</td>\n",
       "      <td>24</td>\n",
       "      <td>2020-11-01</td>\n",
       "    </tr>\n",
       "    <tr>\n",
       "      <th>1001597</th>\n",
       "      <td>PI</td>\n",
       "      <td>PAQUETA</td>\n",
       "      <td>CAMINHAO</td>\n",
       "      <td>25</td>\n",
       "      <td>2020-11-01</td>\n",
       "    </tr>\n",
       "    <tr>\n",
       "      <th>1001618</th>\n",
       "      <td>PI</td>\n",
       "      <td>PARNAGUA</td>\n",
       "      <td>CAMINHAO</td>\n",
       "      <td>26</td>\n",
       "      <td>2020-11-01</td>\n",
       "    </tr>\n",
       "  </tbody>\n",
       "</table>\n",
       "<p>47697 rows × 5 columns</p>\n",
       "</div>"
      ],
      "text/plain": [
       "         UF          MUNICIPIO TIPO DE VEICULO  QUANTIDADE       DATE\n",
       "2        AC         ACRELANDIA        CAMINHAO         350 2020-03-01\n",
       "23       AC       ASSIS BRASIL        CAMINHAO          25 2020-03-01\n",
       "44       AC          BRASILEIA        CAMINHAO         276 2020-03-01\n",
       "65       AC             BUJARI        CAMINHAO         121 2020-03-01\n",
       "86       AC           CAPIXABA        CAMINHAO          88 2020-03-01\n",
       "...      ..                ...             ...         ...        ...\n",
       "1001534  PI     PAJEU DO PIAUI        CAMINHAO          14 2020-11-01\n",
       "1001555  PI  PALMEIRA DO PIAUI        CAMINHAO          46 2020-11-01\n",
       "1001576  PI         PALMEIRAIS        CAMINHAO          24 2020-11-01\n",
       "1001597  PI            PAQUETA        CAMINHAO          25 2020-11-01\n",
       "1001618  PI           PARNAGUA        CAMINHAO          26 2020-11-01\n",
       "\n",
       "[47697 rows x 5 columns]"
      ]
     },
     "execution_count": 24,
     "metadata": {},
     "output_type": "execute_result"
    }
   ],
   "source": [
    "df_frota[(df_frota['TIPO DE VEICULO'] == 'CAMINHAO')]"
   ]
  },
  {
   "cell_type": "code",
   "execution_count": 25,
   "id": "62cf821e",
   "metadata": {},
   "outputs": [
    {
     "data": {
      "text/html": [
       "<div>\n",
       "<style scoped>\n",
       "    .dataframe tbody tr th:only-of-type {\n",
       "        vertical-align: middle;\n",
       "    }\n",
       "\n",
       "    .dataframe tbody tr th {\n",
       "        vertical-align: top;\n",
       "    }\n",
       "\n",
       "    .dataframe thead th {\n",
       "        text-align: right;\n",
       "    }\n",
       "</style>\n",
       "<table border=\"1\" class=\"dataframe\">\n",
       "  <thead>\n",
       "    <tr style=\"text-align: right;\">\n",
       "      <th></th>\n",
       "      <th>UF</th>\n",
       "      <th>MUNICIPIO</th>\n",
       "      <th>TIPO DE VEICULO</th>\n",
       "      <th>QUANTIDADE</th>\n",
       "      <th>DATE</th>\n",
       "    </tr>\n",
       "  </thead>\n",
       "  <tbody>\n",
       "    <tr>\n",
       "      <th>2</th>\n",
       "      <td>AC</td>\n",
       "      <td>ACRELANDIA</td>\n",
       "      <td>CAMINHAO</td>\n",
       "      <td>350</td>\n",
       "      <td>2020-03-01</td>\n",
       "    </tr>\n",
       "    <tr>\n",
       "      <th>117014</th>\n",
       "      <td>AC</td>\n",
       "      <td>ACRELANDIA</td>\n",
       "      <td>CAMINHAO</td>\n",
       "      <td>349</td>\n",
       "      <td>2020-04-01</td>\n",
       "    </tr>\n",
       "    <tr>\n",
       "      <th>234026</th>\n",
       "      <td>AC</td>\n",
       "      <td>ACRELANDIA</td>\n",
       "      <td>CAMINHAO</td>\n",
       "      <td>362</td>\n",
       "      <td>2020-05-01</td>\n",
       "    </tr>\n",
       "    <tr>\n",
       "      <th>351038</th>\n",
       "      <td>AC</td>\n",
       "      <td>ACRELANDIA</td>\n",
       "      <td>CAMINHAO</td>\n",
       "      <td>367</td>\n",
       "      <td>2020-06-01</td>\n",
       "    </tr>\n",
       "    <tr>\n",
       "      <th>468050</th>\n",
       "      <td>AC</td>\n",
       "      <td>ACRELANDIA</td>\n",
       "      <td>CAMINHAO</td>\n",
       "      <td>386</td>\n",
       "      <td>2020-07-01</td>\n",
       "    </tr>\n",
       "    <tr>\n",
       "      <th>585062</th>\n",
       "      <td>AC</td>\n",
       "      <td>ACRELANDIA</td>\n",
       "      <td>CAMINHAO</td>\n",
       "      <td>421</td>\n",
       "      <td>2020-08-01</td>\n",
       "    </tr>\n",
       "    <tr>\n",
       "      <th>702074</th>\n",
       "      <td>AC</td>\n",
       "      <td>ACRELANDIA</td>\n",
       "      <td>CAMINHAO</td>\n",
       "      <td>443</td>\n",
       "      <td>2020-09-01</td>\n",
       "    </tr>\n",
       "    <tr>\n",
       "      <th>819086</th>\n",
       "      <td>AC</td>\n",
       "      <td>ACRELANDIA</td>\n",
       "      <td>CAMINHAO</td>\n",
       "      <td>476</td>\n",
       "      <td>2020-10-01</td>\n",
       "    </tr>\n",
       "    <tr>\n",
       "      <th>936098</th>\n",
       "      <td>AC</td>\n",
       "      <td>ACRELANDIA</td>\n",
       "      <td>CAMINHAO</td>\n",
       "      <td>502</td>\n",
       "      <td>2020-11-01</td>\n",
       "    </tr>\n",
       "  </tbody>\n",
       "</table>\n",
       "</div>"
      ],
      "text/plain": [
       "        UF   MUNICIPIO TIPO DE VEICULO  QUANTIDADE       DATE\n",
       "2       AC  ACRELANDIA        CAMINHAO         350 2020-03-01\n",
       "117014  AC  ACRELANDIA        CAMINHAO         349 2020-04-01\n",
       "234026  AC  ACRELANDIA        CAMINHAO         362 2020-05-01\n",
       "351038  AC  ACRELANDIA        CAMINHAO         367 2020-06-01\n",
       "468050  AC  ACRELANDIA        CAMINHAO         386 2020-07-01\n",
       "585062  AC  ACRELANDIA        CAMINHAO         421 2020-08-01\n",
       "702074  AC  ACRELANDIA        CAMINHAO         443 2020-09-01\n",
       "819086  AC  ACRELANDIA        CAMINHAO         476 2020-10-01\n",
       "936098  AC  ACRELANDIA        CAMINHAO         502 2020-11-01"
      ]
     },
     "execution_count": 25,
     "metadata": {},
     "output_type": "execute_result"
    }
   ],
   "source": [
    "df_frota[(df_frota['TIPO DE VEICULO'] == 'CAMINHAO') & (df_frota['MUNICIPIO'] == 'ACRELANDIA')]"
   ]
  },
  {
   "cell_type": "markdown",
   "id": "86a844ed",
   "metadata": {},
   "source": [
    "### Tratamentos"
   ]
  },
  {
   "cell_type": "code",
   "execution_count": 26,
   "id": "692fbd44",
   "metadata": {
    "scrolled": true
   },
   "outputs": [],
   "source": [
    "# Adição dos dados faltantes do mes 11/2020 na cidade PARNAGUA PI\n",
    "for i in veiculos_faltantes:\n",
    "    veiculo_cidade_add = {'UF': 'PI', 'MUNICIPIO': 'PARNAGUA', 'TIPO DE VEICULO': i, \n",
    "                          'QUANTIDADE': 0, 'DATE': '2020-11-01'}\n",
    "    df_frota = df_frota.append(veiculo_cidade_add, ignore_index=True)"
   ]
  },
  {
   "cell_type": "code",
   "execution_count": 27,
   "id": "c22de7eb",
   "metadata": {},
   "outputs": [],
   "source": [
    "# CHASSI PLATAF = CHASSI PLATAFORMA\n",
    "chassi_plataf = df_frota[df_frota['TIPO DE VEICULO'] == 'CHASSI PLATAF']\n",
    "df_frota.loc[chassi_plataf.index, 'TIPO DE VEICULO'] = 'CHASSI PLATAFORMA'\n",
    "\n",
    "# TRATOR ESTEI = TRATOR ESTEIRA\n",
    "trator_estei = df_frota[df_frota['TIPO DE VEICULO'] == 'TRATOR ESTEI']\n",
    "df_frota.loc[trator_estei.index, 'TIPO DE VEICULO'] = 'TRATOR ESTEIRA'"
   ]
  },
  {
   "cell_type": "code",
   "execution_count": 28,
   "id": "9907696a",
   "metadata": {},
   "outputs": [],
   "source": [
    "# Conversão para formato datetime Year/month/day\n",
    "df_frota['DATE'] = pd.to_datetime(df_frota['DATE'], format='%Y/%m/%d')"
   ]
  },
  {
   "cell_type": "markdown",
   "id": "d5ce8d2c",
   "metadata": {},
   "source": [
    "#### Salvando CSV TRATADO"
   ]
  },
  {
   "cell_type": "code",
   "execution_count": 29,
   "id": "f3cd1c14",
   "metadata": {},
   "outputs": [],
   "source": [
    "df_frota.to_csv('datasets/2020-0311_frota_de_veiculos_tratado.csv', index=None)"
   ]
  }
 ],
 "metadata": {
  "kernelspec": {
   "display_name": "Python 3",
   "language": "python",
   "name": "python3"
  },
  "language_info": {
   "codemirror_mode": {
    "name": "ipython",
    "version": 3
   },
   "file_extension": ".py",
   "mimetype": "text/x-python",
   "name": "python",
   "nbconvert_exporter": "python",
   "pygments_lexer": "ipython3",
   "version": "3.8.8"
  }
 },
 "nbformat": 4,
 "nbformat_minor": 5
}
