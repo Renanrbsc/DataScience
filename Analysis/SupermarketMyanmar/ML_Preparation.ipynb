{
 "cells": [
  {
   "cell_type": "markdown",
   "id": "e6f0af73",
   "metadata": {},
   "source": [
    "# FILIAIS DE SUPERMERCADO EM MYANMAR"
   ]
  },
  {
   "cell_type": "markdown",
   "id": "c4c10063",
   "metadata": {},
   "source": [
    "## PREPARAÇÃO PARA MACHINE LEARNING"
   ]
  },
  {
   "cell_type": "markdown",
   "id": "3d67e4ad",
   "metadata": {},
   "source": [
    "### Remoção de colunas sem uso para ML "
   ]
  },
  {
   "cell_type": "code",
   "execution_count": 17,
   "id": "ace78d0f",
   "metadata": {},
   "outputs": [
    {
     "data": {
      "text/html": [
       "<div>\n",
       "<style scoped>\n",
       "    .dataframe tbody tr th:only-of-type {\n",
       "        vertical-align: middle;\n",
       "    }\n",
       "\n",
       "    .dataframe tbody tr th {\n",
       "        vertical-align: top;\n",
       "    }\n",
       "\n",
       "    .dataframe thead th {\n",
       "        text-align: right;\n",
       "    }\n",
       "</style>\n",
       "<table border=\"1\" class=\"dataframe\">\n",
       "  <thead>\n",
       "    <tr style=\"text-align: right;\">\n",
       "      <th></th>\n",
       "      <th>Invoice ID</th>\n",
       "      <th>Branch</th>\n",
       "      <th>City</th>\n",
       "      <th>Customer type</th>\n",
       "      <th>Gender</th>\n",
       "      <th>Product line</th>\n",
       "      <th>Unit price</th>\n",
       "      <th>Quantity</th>\n",
       "      <th>Tax 5%</th>\n",
       "      <th>Total</th>\n",
       "      <th>Date</th>\n",
       "      <th>Time</th>\n",
       "      <th>Payment</th>\n",
       "      <th>cogs</th>\n",
       "      <th>gross margin percentage</th>\n",
       "      <th>gross income</th>\n",
       "      <th>Rating</th>\n",
       "    </tr>\n",
       "  </thead>\n",
       "  <tbody>\n",
       "    <tr>\n",
       "      <th>0</th>\n",
       "      <td>750-67-8428</td>\n",
       "      <td>A</td>\n",
       "      <td>Yangon</td>\n",
       "      <td>Member</td>\n",
       "      <td>Female</td>\n",
       "      <td>Health and beauty</td>\n",
       "      <td>74.69</td>\n",
       "      <td>7</td>\n",
       "      <td>26.1415</td>\n",
       "      <td>548.9715</td>\n",
       "      <td>2019-05-01</td>\n",
       "      <td>13:08</td>\n",
       "      <td>Ewallet</td>\n",
       "      <td>522.83</td>\n",
       "      <td>4.761905</td>\n",
       "      <td>26.1415</td>\n",
       "      <td>9.1</td>\n",
       "    </tr>\n",
       "  </tbody>\n",
       "</table>\n",
       "</div>"
      ],
      "text/plain": [
       "    Invoice ID Branch    City Customer type  Gender       Product line  \\\n",
       "0  750-67-8428      A  Yangon        Member  Female  Health and beauty   \n",
       "\n",
       "   Unit price  Quantity   Tax 5%     Total       Date   Time  Payment    cogs  \\\n",
       "0       74.69         7  26.1415  548.9715 2019-05-01  13:08  Ewallet  522.83   \n",
       "\n",
       "   gross margin percentage  gross income  Rating  \n",
       "0                 4.761905       26.1415     9.1  "
      ]
     },
     "execution_count": 17,
     "metadata": {},
     "output_type": "execute_result"
    }
   ],
   "source": [
    "df_supermarket.head(1)"
   ]
  },
  {
   "cell_type": "code",
   "execution_count": 18,
   "id": "2d34b643",
   "metadata": {
    "scrolled": false
   },
   "outputs": [
    {
     "data": {
      "text/html": [
       "<div>\n",
       "<style scoped>\n",
       "    .dataframe tbody tr th:only-of-type {\n",
       "        vertical-align: middle;\n",
       "    }\n",
       "\n",
       "    .dataframe tbody tr th {\n",
       "        vertical-align: top;\n",
       "    }\n",
       "\n",
       "    .dataframe thead th {\n",
       "        text-align: right;\n",
       "    }\n",
       "</style>\n",
       "<table border=\"1\" class=\"dataframe\">\n",
       "  <thead>\n",
       "    <tr style=\"text-align: right;\">\n",
       "      <th></th>\n",
       "      <th>Branch</th>\n",
       "      <th>City</th>\n",
       "      <th>Customer type</th>\n",
       "      <th>Gender</th>\n",
       "      <th>Product line</th>\n",
       "      <th>Unit price</th>\n",
       "      <th>Quantity</th>\n",
       "      <th>Tax 5%</th>\n",
       "      <th>Total</th>\n",
       "      <th>Payment</th>\n",
       "      <th>cogs</th>\n",
       "      <th>gross margin percentage</th>\n",
       "      <th>gross income</th>\n",
       "      <th>Rating</th>\n",
       "    </tr>\n",
       "  </thead>\n",
       "  <tbody>\n",
       "    <tr>\n",
       "      <th>0</th>\n",
       "      <td>A</td>\n",
       "      <td>Yangon</td>\n",
       "      <td>Member</td>\n",
       "      <td>Female</td>\n",
       "      <td>Health and beauty</td>\n",
       "      <td>74.69</td>\n",
       "      <td>7</td>\n",
       "      <td>26.1415</td>\n",
       "      <td>548.9715</td>\n",
       "      <td>Ewallet</td>\n",
       "      <td>522.83</td>\n",
       "      <td>4.761905</td>\n",
       "      <td>26.1415</td>\n",
       "      <td>9.1</td>\n",
       "    </tr>\n",
       "    <tr>\n",
       "      <th>1</th>\n",
       "      <td>C</td>\n",
       "      <td>Naypyitaw</td>\n",
       "      <td>Normal</td>\n",
       "      <td>Female</td>\n",
       "      <td>Electronic accessories</td>\n",
       "      <td>15.28</td>\n",
       "      <td>5</td>\n",
       "      <td>3.8200</td>\n",
       "      <td>80.2200</td>\n",
       "      <td>Cash</td>\n",
       "      <td>76.40</td>\n",
       "      <td>4.761905</td>\n",
       "      <td>3.8200</td>\n",
       "      <td>9.6</td>\n",
       "    </tr>\n",
       "    <tr>\n",
       "      <th>2</th>\n",
       "      <td>A</td>\n",
       "      <td>Yangon</td>\n",
       "      <td>Normal</td>\n",
       "      <td>Male</td>\n",
       "      <td>Home and lifestyle</td>\n",
       "      <td>46.33</td>\n",
       "      <td>7</td>\n",
       "      <td>16.2155</td>\n",
       "      <td>340.5255</td>\n",
       "      <td>Credit card</td>\n",
       "      <td>324.31</td>\n",
       "      <td>4.761905</td>\n",
       "      <td>16.2155</td>\n",
       "      <td>7.4</td>\n",
       "    </tr>\n",
       "    <tr>\n",
       "      <th>3</th>\n",
       "      <td>A</td>\n",
       "      <td>Yangon</td>\n",
       "      <td>Member</td>\n",
       "      <td>Male</td>\n",
       "      <td>Health and beauty</td>\n",
       "      <td>58.22</td>\n",
       "      <td>8</td>\n",
       "      <td>23.2880</td>\n",
       "      <td>489.0480</td>\n",
       "      <td>Ewallet</td>\n",
       "      <td>465.76</td>\n",
       "      <td>4.761905</td>\n",
       "      <td>23.2880</td>\n",
       "      <td>8.4</td>\n",
       "    </tr>\n",
       "    <tr>\n",
       "      <th>4</th>\n",
       "      <td>A</td>\n",
       "      <td>Yangon</td>\n",
       "      <td>Normal</td>\n",
       "      <td>Male</td>\n",
       "      <td>Sports and travel</td>\n",
       "      <td>86.31</td>\n",
       "      <td>7</td>\n",
       "      <td>30.2085</td>\n",
       "      <td>634.3785</td>\n",
       "      <td>Ewallet</td>\n",
       "      <td>604.17</td>\n",
       "      <td>4.761905</td>\n",
       "      <td>30.2085</td>\n",
       "      <td>5.3</td>\n",
       "    </tr>\n",
       "    <tr>\n",
       "      <th>5</th>\n",
       "      <td>C</td>\n",
       "      <td>Naypyitaw</td>\n",
       "      <td>Normal</td>\n",
       "      <td>Male</td>\n",
       "      <td>Electronic accessories</td>\n",
       "      <td>85.39</td>\n",
       "      <td>7</td>\n",
       "      <td>29.8865</td>\n",
       "      <td>627.6165</td>\n",
       "      <td>Ewallet</td>\n",
       "      <td>597.73</td>\n",
       "      <td>4.761905</td>\n",
       "      <td>29.8865</td>\n",
       "      <td>4.1</td>\n",
       "    </tr>\n",
       "    <tr>\n",
       "      <th>6</th>\n",
       "      <td>A</td>\n",
       "      <td>Yangon</td>\n",
       "      <td>Member</td>\n",
       "      <td>Female</td>\n",
       "      <td>Electronic accessories</td>\n",
       "      <td>68.84</td>\n",
       "      <td>6</td>\n",
       "      <td>20.6520</td>\n",
       "      <td>433.6920</td>\n",
       "      <td>Ewallet</td>\n",
       "      <td>413.04</td>\n",
       "      <td>4.761905</td>\n",
       "      <td>20.6520</td>\n",
       "      <td>5.8</td>\n",
       "    </tr>\n",
       "    <tr>\n",
       "      <th>7</th>\n",
       "      <td>C</td>\n",
       "      <td>Naypyitaw</td>\n",
       "      <td>Normal</td>\n",
       "      <td>Female</td>\n",
       "      <td>Home and lifestyle</td>\n",
       "      <td>73.56</td>\n",
       "      <td>10</td>\n",
       "      <td>36.7800</td>\n",
       "      <td>772.3800</td>\n",
       "      <td>Ewallet</td>\n",
       "      <td>735.60</td>\n",
       "      <td>4.761905</td>\n",
       "      <td>36.7800</td>\n",
       "      <td>8.0</td>\n",
       "    </tr>\n",
       "    <tr>\n",
       "      <th>8</th>\n",
       "      <td>A</td>\n",
       "      <td>Yangon</td>\n",
       "      <td>Member</td>\n",
       "      <td>Female</td>\n",
       "      <td>Health and beauty</td>\n",
       "      <td>36.26</td>\n",
       "      <td>2</td>\n",
       "      <td>3.6260</td>\n",
       "      <td>76.1460</td>\n",
       "      <td>Credit card</td>\n",
       "      <td>72.52</td>\n",
       "      <td>4.761905</td>\n",
       "      <td>3.6260</td>\n",
       "      <td>7.2</td>\n",
       "    </tr>\n",
       "    <tr>\n",
       "      <th>9</th>\n",
       "      <td>B</td>\n",
       "      <td>Mandalay</td>\n",
       "      <td>Member</td>\n",
       "      <td>Female</td>\n",
       "      <td>Food and beverages</td>\n",
       "      <td>54.84</td>\n",
       "      <td>3</td>\n",
       "      <td>8.2260</td>\n",
       "      <td>172.7460</td>\n",
       "      <td>Credit card</td>\n",
       "      <td>164.52</td>\n",
       "      <td>4.761905</td>\n",
       "      <td>8.2260</td>\n",
       "      <td>5.9</td>\n",
       "    </tr>\n",
       "  </tbody>\n",
       "</table>\n",
       "</div>"
      ],
      "text/plain": [
       "  Branch       City Customer type  Gender            Product line  Unit price  \\\n",
       "0      A     Yangon        Member  Female       Health and beauty       74.69   \n",
       "1      C  Naypyitaw        Normal  Female  Electronic accessories       15.28   \n",
       "2      A     Yangon        Normal    Male      Home and lifestyle       46.33   \n",
       "3      A     Yangon        Member    Male       Health and beauty       58.22   \n",
       "4      A     Yangon        Normal    Male       Sports and travel       86.31   \n",
       "5      C  Naypyitaw        Normal    Male  Electronic accessories       85.39   \n",
       "6      A     Yangon        Member  Female  Electronic accessories       68.84   \n",
       "7      C  Naypyitaw        Normal  Female      Home and lifestyle       73.56   \n",
       "8      A     Yangon        Member  Female       Health and beauty       36.26   \n",
       "9      B   Mandalay        Member  Female      Food and beverages       54.84   \n",
       "\n",
       "   Quantity   Tax 5%     Total      Payment    cogs  gross margin percentage  \\\n",
       "0         7  26.1415  548.9715      Ewallet  522.83                 4.761905   \n",
       "1         5   3.8200   80.2200         Cash   76.40                 4.761905   \n",
       "2         7  16.2155  340.5255  Credit card  324.31                 4.761905   \n",
       "3         8  23.2880  489.0480      Ewallet  465.76                 4.761905   \n",
       "4         7  30.2085  634.3785      Ewallet  604.17                 4.761905   \n",
       "5         7  29.8865  627.6165      Ewallet  597.73                 4.761905   \n",
       "6         6  20.6520  433.6920      Ewallet  413.04                 4.761905   \n",
       "7        10  36.7800  772.3800      Ewallet  735.60                 4.761905   \n",
       "8         2   3.6260   76.1460  Credit card   72.52                 4.761905   \n",
       "9         3   8.2260  172.7460  Credit card  164.52                 4.761905   \n",
       "\n",
       "   gross income  Rating  \n",
       "0       26.1415     9.1  \n",
       "1        3.8200     9.6  \n",
       "2       16.2155     7.4  \n",
       "3       23.2880     8.4  \n",
       "4       30.2085     5.3  \n",
       "5       29.8865     4.1  \n",
       "6       20.6520     5.8  \n",
       "7       36.7800     8.0  \n",
       "8        3.6260     7.2  \n",
       "9        8.2260     5.9  "
      ]
     },
     "execution_count": 18,
     "metadata": {},
     "output_type": "execute_result"
    }
   ],
   "source": [
    "ml_supermarket = df_supermarket.drop(['Invoice ID', 'Date', 'Time'], axis=1)\n",
    "ml_supermarket.head(10)"
   ]
  },
  {
   "cell_type": "markdown",
   "id": "957deecd",
   "metadata": {},
   "source": [
    "### Conversão de valores categoricos em valores numericos"
   ]
  },
  {
   "cell_type": "markdown",
   "id": "5e2d52a6",
   "metadata": {},
   "source": [
    "##### coluna BRANCH"
   ]
  },
  {
   "cell_type": "code",
   "execution_count": 19,
   "id": "2ed5627f",
   "metadata": {},
   "outputs": [
    {
     "data": {
      "text/plain": [
       "array(['A', 'C', 'B'], dtype=object)"
      ]
     },
     "execution_count": 19,
     "metadata": {},
     "output_type": "execute_result"
    }
   ],
   "source": [
    "ml_supermarket['Branch'].unique()"
   ]
  },
  {
   "cell_type": "code",
   "execution_count": 20,
   "id": "e456b7ea",
   "metadata": {},
   "outputs": [],
   "source": [
    "ml_supermarket['Branch'] = ml_supermarket['Branch'].map({'A': 1, 'B': 2, 'C': 3})"
   ]
  },
  {
   "cell_type": "markdown",
   "id": "25af0b00",
   "metadata": {},
   "source": [
    "##### coluna CITY"
   ]
  },
  {
   "cell_type": "code",
   "execution_count": 21,
   "id": "d70af733",
   "metadata": {},
   "outputs": [
    {
     "data": {
      "text/plain": [
       "array(['Yangon', 'Naypyitaw', 'Mandalay'], dtype=object)"
      ]
     },
     "execution_count": 21,
     "metadata": {},
     "output_type": "execute_result"
    }
   ],
   "source": [
    "ml_supermarket['City'].unique()"
   ]
  },
  {
   "cell_type": "code",
   "execution_count": 22,
   "id": "54d4b46f",
   "metadata": {},
   "outputs": [],
   "source": [
    "ml_supermarket['City'] = ml_supermarket['City'].map({'Yangon': 1, 'Mandalay': 2, 'Naypyitaw': 3,})"
   ]
  },
  {
   "cell_type": "markdown",
   "id": "e08c5243",
   "metadata": {},
   "source": [
    "##### coluna CUSTOMER TYPE"
   ]
  },
  {
   "cell_type": "code",
   "execution_count": 23,
   "id": "239d89f9",
   "metadata": {},
   "outputs": [
    {
     "data": {
      "text/plain": [
       "array(['Member', 'Normal'], dtype=object)"
      ]
     },
     "execution_count": 23,
     "metadata": {},
     "output_type": "execute_result"
    }
   ],
   "source": [
    "ml_supermarket['Customer type'].unique()"
   ]
  },
  {
   "cell_type": "code",
   "execution_count": 24,
   "id": "ffc80681",
   "metadata": {},
   "outputs": [],
   "source": [
    "ml_supermarket['Customer type'] = ml_supermarket['Customer type'].map({'Member': 1, 'Normal': 2})"
   ]
  },
  {
   "cell_type": "markdown",
   "id": "aef82e78",
   "metadata": {},
   "source": [
    "##### coluna GENDER"
   ]
  },
  {
   "cell_type": "code",
   "execution_count": 25,
   "id": "d46eda24",
   "metadata": {},
   "outputs": [
    {
     "data": {
      "text/plain": [
       "array(['Female', 'Male'], dtype=object)"
      ]
     },
     "execution_count": 25,
     "metadata": {},
     "output_type": "execute_result"
    }
   ],
   "source": [
    "ml_supermarket['Gender'].unique()"
   ]
  },
  {
   "cell_type": "code",
   "execution_count": 26,
   "id": "cfb32c57",
   "metadata": {},
   "outputs": [],
   "source": [
    "ml_supermarket['Gender'] = ml_supermarket['Gender'].map({'Female': 1, 'Male': 2})"
   ]
  },
  {
   "cell_type": "markdown",
   "id": "742b8d4c",
   "metadata": {},
   "source": [
    "##### coluna PRODUCT LINE"
   ]
  },
  {
   "cell_type": "code",
   "execution_count": 27,
   "id": "04ef3c53",
   "metadata": {},
   "outputs": [
    {
     "data": {
      "text/plain": [
       "array(['Health and beauty', 'Electronic accessories',\n",
       "       'Home and lifestyle', 'Sports and travel', 'Food and beverages',\n",
       "       'Fashion accessories'], dtype=object)"
      ]
     },
     "execution_count": 27,
     "metadata": {},
     "output_type": "execute_result"
    }
   ],
   "source": [
    "ml_supermarket['Product line'].unique()"
   ]
  },
  {
   "cell_type": "code",
   "execution_count": 28,
   "id": "90330e8b",
   "metadata": {},
   "outputs": [],
   "source": [
    "ml_supermarket['Product line'] = ml_supermarket['Product line'].map({'Health and beauty': 1, 'Electronic accessories': 2, \n",
    "                                                                     'Home and lifestyle': 3, 'Sports and travel': 4,\n",
    "                                                                     'Food and beverages': 5, 'Fashion accessories': 6})"
   ]
  },
  {
   "cell_type": "markdown",
   "id": "2e2dd896",
   "metadata": {},
   "source": [
    "##### coluna PAYMENT"
   ]
  },
  {
   "cell_type": "code",
   "execution_count": 29,
   "id": "d8668047",
   "metadata": {},
   "outputs": [
    {
     "data": {
      "text/plain": [
       "array(['Ewallet', 'Cash', 'Credit card'], dtype=object)"
      ]
     },
     "execution_count": 29,
     "metadata": {},
     "output_type": "execute_result"
    }
   ],
   "source": [
    "ml_supermarket['Payment'].unique()"
   ]
  },
  {
   "cell_type": "code",
   "execution_count": 30,
   "id": "0f546d1b",
   "metadata": {},
   "outputs": [],
   "source": [
    "ml_supermarket['Payment'] = ml_supermarket['Payment'].map({'Ewallet': 1, 'Cash': 2, 'Credit card': 3})"
   ]
  },
  {
   "cell_type": "markdown",
   "id": "7bf80e24",
   "metadata": {},
   "source": [
    "### Visualização ML"
   ]
  },
  {
   "cell_type": "code",
   "execution_count": 31,
   "id": "f4c6d567",
   "metadata": {
    "scrolled": true
   },
   "outputs": [
    {
     "data": {
      "text/html": [
       "<div>\n",
       "<style scoped>\n",
       "    .dataframe tbody tr th:only-of-type {\n",
       "        vertical-align: middle;\n",
       "    }\n",
       "\n",
       "    .dataframe tbody tr th {\n",
       "        vertical-align: top;\n",
       "    }\n",
       "\n",
       "    .dataframe thead th {\n",
       "        text-align: right;\n",
       "    }\n",
       "</style>\n",
       "<table border=\"1\" class=\"dataframe\">\n",
       "  <thead>\n",
       "    <tr style=\"text-align: right;\">\n",
       "      <th></th>\n",
       "      <th>Branch</th>\n",
       "      <th>City</th>\n",
       "      <th>Customer type</th>\n",
       "      <th>Gender</th>\n",
       "      <th>Product line</th>\n",
       "      <th>Unit price</th>\n",
       "      <th>Quantity</th>\n",
       "      <th>Tax 5%</th>\n",
       "      <th>Total</th>\n",
       "      <th>Payment</th>\n",
       "      <th>cogs</th>\n",
       "      <th>gross margin percentage</th>\n",
       "      <th>gross income</th>\n",
       "      <th>Rating</th>\n",
       "    </tr>\n",
       "  </thead>\n",
       "  <tbody>\n",
       "    <tr>\n",
       "      <th>0</th>\n",
       "      <td>1</td>\n",
       "      <td>1</td>\n",
       "      <td>1</td>\n",
       "      <td>1</td>\n",
       "      <td>1</td>\n",
       "      <td>74.69</td>\n",
       "      <td>7</td>\n",
       "      <td>26.1415</td>\n",
       "      <td>548.9715</td>\n",
       "      <td>1</td>\n",
       "      <td>522.83</td>\n",
       "      <td>4.761905</td>\n",
       "      <td>26.1415</td>\n",
       "      <td>9.1</td>\n",
       "    </tr>\n",
       "    <tr>\n",
       "      <th>1</th>\n",
       "      <td>3</td>\n",
       "      <td>3</td>\n",
       "      <td>2</td>\n",
       "      <td>1</td>\n",
       "      <td>2</td>\n",
       "      <td>15.28</td>\n",
       "      <td>5</td>\n",
       "      <td>3.8200</td>\n",
       "      <td>80.2200</td>\n",
       "      <td>2</td>\n",
       "      <td>76.40</td>\n",
       "      <td>4.761905</td>\n",
       "      <td>3.8200</td>\n",
       "      <td>9.6</td>\n",
       "    </tr>\n",
       "    <tr>\n",
       "      <th>2</th>\n",
       "      <td>1</td>\n",
       "      <td>1</td>\n",
       "      <td>2</td>\n",
       "      <td>2</td>\n",
       "      <td>3</td>\n",
       "      <td>46.33</td>\n",
       "      <td>7</td>\n",
       "      <td>16.2155</td>\n",
       "      <td>340.5255</td>\n",
       "      <td>3</td>\n",
       "      <td>324.31</td>\n",
       "      <td>4.761905</td>\n",
       "      <td>16.2155</td>\n",
       "      <td>7.4</td>\n",
       "    </tr>\n",
       "    <tr>\n",
       "      <th>3</th>\n",
       "      <td>1</td>\n",
       "      <td>1</td>\n",
       "      <td>1</td>\n",
       "      <td>2</td>\n",
       "      <td>1</td>\n",
       "      <td>58.22</td>\n",
       "      <td>8</td>\n",
       "      <td>23.2880</td>\n",
       "      <td>489.0480</td>\n",
       "      <td>1</td>\n",
       "      <td>465.76</td>\n",
       "      <td>4.761905</td>\n",
       "      <td>23.2880</td>\n",
       "      <td>8.4</td>\n",
       "    </tr>\n",
       "    <tr>\n",
       "      <th>4</th>\n",
       "      <td>1</td>\n",
       "      <td>1</td>\n",
       "      <td>2</td>\n",
       "      <td>2</td>\n",
       "      <td>4</td>\n",
       "      <td>86.31</td>\n",
       "      <td>7</td>\n",
       "      <td>30.2085</td>\n",
       "      <td>634.3785</td>\n",
       "      <td>1</td>\n",
       "      <td>604.17</td>\n",
       "      <td>4.761905</td>\n",
       "      <td>30.2085</td>\n",
       "      <td>5.3</td>\n",
       "    </tr>\n",
       "  </tbody>\n",
       "</table>\n",
       "</div>"
      ],
      "text/plain": [
       "   Branch  City  Customer type  Gender  Product line  Unit price  Quantity  \\\n",
       "0       1     1              1       1             1       74.69         7   \n",
       "1       3     3              2       1             2       15.28         5   \n",
       "2       1     1              2       2             3       46.33         7   \n",
       "3       1     1              1       2             1       58.22         8   \n",
       "4       1     1              2       2             4       86.31         7   \n",
       "\n",
       "    Tax 5%     Total  Payment    cogs  gross margin percentage  gross income  \\\n",
       "0  26.1415  548.9715        1  522.83                 4.761905       26.1415   \n",
       "1   3.8200   80.2200        2   76.40                 4.761905        3.8200   \n",
       "2  16.2155  340.5255        3  324.31                 4.761905       16.2155   \n",
       "3  23.2880  489.0480        1  465.76                 4.761905       23.2880   \n",
       "4  30.2085  634.3785        1  604.17                 4.761905       30.2085   \n",
       "\n",
       "   Rating  \n",
       "0     9.1  \n",
       "1     9.6  \n",
       "2     7.4  \n",
       "3     8.4  \n",
       "4     5.3  "
      ]
     },
     "execution_count": 31,
     "metadata": {},
     "output_type": "execute_result"
    }
   ],
   "source": [
    "ml_supermarket.head()"
   ]
  },
  {
   "cell_type": "markdown",
   "id": "114c6ab7",
   "metadata": {},
   "source": [
    "# MACHINE LEARNING UNSUPERVISED K-Means"
   ]
  },
  {
   "cell_type": "code",
   "execution_count": 32,
   "id": "b51bd81a",
   "metadata": {},
   "outputs": [],
   "source": [
    "import numpy as np #para manipular os vetores\n",
    "from sklearn.cluster import KMeans #para usar o KMeans"
   ]
  },
  {
   "cell_type": "markdown",
   "id": "e7ce30aa",
   "metadata": {},
   "source": [
    "##### Dados a serem agrupados"
   ]
  },
  {
   "cell_type": "code",
   "execution_count": 33,
   "id": "5be4d8a5",
   "metadata": {},
   "outputs": [
    {
     "data": {
      "text/plain": [
       "array([[  9.1   , 548.9715],\n",
       "       [  9.6   ,  80.22  ],\n",
       "       [  7.4   , 340.5255],\n",
       "       ...,\n",
       "       [  7.7   ,  33.432 ],\n",
       "       [  4.1   ,  69.111 ],\n",
       "       [  6.6   , 649.299 ]])"
      ]
     },
     "execution_count": 33,
     "metadata": {},
     "output_type": "execute_result"
    }
   ],
   "source": [
    "ml_array = np.array(ml_supermarket[['Rating', 'Total']])\n",
    "ml_array"
   ]
  },
  {
   "cell_type": "markdown",
   "id": "bce788b6",
   "metadata": {},
   "source": [
    "##### Dados plotados sem agrupamento"
   ]
  },
  {
   "cell_type": "code",
   "execution_count": 34,
   "id": "1e9747e6",
   "metadata": {},
   "outputs": [
    {
     "data": {
      "image/png": "[encoded data removed]",
      "text/plain": [
       "<Figure size 432x288 with 1 Axes>"
      ]
     },
     "metadata": {},
     "output_type": "display_data"
    }
   ],
   "source": [
    "plt.scatter(ml_array[:,1], ml_array[:,0]) #posicionamento dos eixos x e y\n",
    "\n",
    "plt.grid() #função que desenha a grade no nosso gráfico"
   ]
  },
  {
   "cell_type": "markdown",
   "id": "e86d4499",
   "metadata": {},
   "source": [
    "##### Dados com o processo de agrupamento pelo K-means"
   ]
  },
  {
   "cell_type": "code",
   "execution_count": 36,
   "id": "b06f67d9",
   "metadata": {},
   "outputs": [
    {
     "data": {
      "image/png": "[encoded data removed]",
      "text/plain": [
       "<Figure size 432x288 with 1 Axes>"
      ]
     },
     "metadata": {},
     "output_type": "display_data"
    }
   ],
   "source": [
    "kmeans = KMeans(n_clusters = 3, #numero de clusters\n",
    "init = 'k-means++', n_init = 10, #algoritmo que define a posição dos clusters de maneira mais assertiva\n",
    "max_iter = 500)#numero máximo de iterações\n",
    "\n",
    "pred_y = kmeans.fit_predict(ml_array)\n",
    "\n",
    "plt.scatter(ml_array[:,1], ml_array[:,0], c = pred_y) #posicionamento dos eixos x e y\n",
    "\n",
    "plt.grid() #função que desenha a grade no nosso gráfico\n",
    "plt.scatter(kmeans.cluster_centers_[:,1], \n",
    "            kmeans.cluster_centers_[:,0], \n",
    "            s = 70, c = 'red') #posição de cada centroide no gráfico\n",
    "plt.show()"
   ]
  }
 ],
 "metadata": {
  "kernelspec": {
   "display_name": "Python 3",
   "language": "python",
   "name": "python3"
  },
  "language_info": {
   "codemirror_mode": {
    "name": "ipython",
    "version": 3
   },
   "file_extension": ".py",
   "mimetype": "text/x-python",
   "name": "python",
   "nbconvert_exporter": "python",
   "pygments_lexer": "ipython3",
   "version": "3.8.8"
  }
 },
 "nbformat": 4,
 "nbformat_minor": 5
}
