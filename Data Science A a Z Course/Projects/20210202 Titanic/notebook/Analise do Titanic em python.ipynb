{
 "cells": [
  {
   "cell_type": "markdown",
   "id": "governmental-numbers",
   "metadata": {},
   "source": [
    "# Tratamento de dados sobre o Titanic"
   ]
  },
  {
   "cell_type": "code",
   "execution_count": 1,
   "id": "postal-processing",
   "metadata": {},
   "outputs": [],
   "source": [
    "titanic_csv = open('../csv/titanic.csv','r') # abre o arquivo csv"
   ]
  },
  {
   "cell_type": "code",
   "execution_count": 2,
   "id": "caroline-adjustment",
   "metadata": {},
   "outputs": [],
   "source": [
    "linhas = titanic_csv.readlines() # le o arquivo csv e retorna uma lista de linhas"
   ]
  },
  {
   "cell_type": "code",
   "execution_count": 3,
   "id": "freelance-christmas",
   "metadata": {},
   "outputs": [],
   "source": [
    "# linhas # View dataset"
   ]
  },
  {
   "cell_type": "code",
   "execution_count": 4,
   "id": "chinese-empire",
   "metadata": {
    "scrolled": true
   },
   "outputs": [
    {
     "name": "stdout",
     "output_type": "stream",
     "text": [
      "PassengerId,Survived,Pclass,Name,Sex,Age,SibSp,Parch,Ticket,Fare,Cabin,Embarked\n",
      "\n",
      "1,0,3,\"Braund, Mr. Owen Harris\",male,22,1,0,A/5 21171,7.25,,S\n",
      "\n",
      "23,1,3,\"McGowan, Miss. Anna \"\"Annie\"\"\",female,15,0,0,330923,8.0292,,Q\n",
      "\n"
     ]
    }
   ],
   "source": [
    "print(linhas[0]) #imprime o index 0 'Cabeçalho'\n",
    "print(linhas[1]) #imprime o index 1 'Dados'\n",
    "print(linhas[23]) #imprime o index 23 'Dados'"
   ]
  },
  {
   "cell_type": "code",
   "execution_count": 5,
   "id": "regular-matter",
   "metadata": {},
   "outputs": [],
   "source": [
    "titanic_csv.close() # fecha o arquivo da memoria"
   ]
  },
  {
   "cell_type": "code",
   "execution_count": 6,
   "id": "proprietary-abortion",
   "metadata": {},
   "outputs": [
    {
     "data": {
      "text/plain": [
       "str"
      ]
     },
     "execution_count": 6,
     "metadata": {},
     "output_type": "execute_result"
    }
   ],
   "source": [
    "type(linhas[0]) # verificar o tipo de dado"
   ]
  },
  {
   "cell_type": "markdown",
   "id": "looking-apparel",
   "metadata": {},
   "source": [
    "# colunas = ['PassengerId', 'Survived', 'Pclass', 'Name', 'Sex', 'Age', 'SibSp', 'Parch', 'Ticket', 'Fare', 'Cabin', 'Embarked\\n']\n",
    "# linhas = todas as linhas do Dataset"
   ]
  },
  {
   "cell_type": "code",
   "execution_count": 7,
   "id": "ecological-aerospace",
   "metadata": {},
   "outputs": [],
   "source": [
    "colunas = linhas[0].split(',') # separa em indexes o 'Cabeçalho'"
   ]
  },
  {
   "cell_type": "code",
   "execution_count": 8,
   "id": "adequate-blood",
   "metadata": {},
   "outputs": [],
   "source": [
    "dado1 = linhas[1].split(',') # separa em indexes o 'Dado' index 1"
   ]
  },
  {
   "cell_type": "code",
   "execution_count": 9,
   "id": "curious-recipe",
   "metadata": {},
   "outputs": [
    {
     "name": "stdout",
     "output_type": "stream",
     "text": [
      "['PassengerId', 'Survived', 'Pclass', 'Name', 'Sex', 'Age', 'SibSp', 'Parch', 'Ticket', 'Fare', 'Cabin', 'Embarked\\n']\n",
      "['1', '0', '3', '\"Braund', ' Mr. Owen Harris\"', 'male', '22', '1', '0', 'A/5 21171', '7.25', '', 'S\\n']\n"
     ]
    }
   ],
   "source": [
    "print(colunas)\n",
    "print(dado1)"
   ]
  },
  {
   "cell_type": "code",
   "execution_count": 10,
   "id": "optical-savannah",
   "metadata": {},
   "outputs": [
    {
     "name": "stdout",
     "output_type": "stream",
     "text": [
      "12 13\n"
     ]
    }
   ],
   "source": [
    "print(len(colunas), len(dado1)) # verificando a consistencia dos dados"
   ]
  },
  {
   "cell_type": "code",
   "execution_count": 11,
   "id": "involved-tribune",
   "metadata": {},
   "outputs": [
    {
     "name": "stdout",
     "output_type": "stream",
     "text": [
      "Name \"Braund\n",
      "Sex  Mr. Owen Harris\"\n"
     ]
    }
   ],
   "source": [
    "print(colunas[3], dado1[3]) # Nome imcompleto\n",
    "print(colunas[4], dado1[4]) # dado incoerente"
   ]
  },
  {
   "cell_type": "markdown",
   "id": "bronze-sacrifice",
   "metadata": {},
   "source": [
    "# Função de Expressão regular para retirar virgula\n",
    "# e inverter 'sobrenome nome' para 'nome sobrenome'\n",
    "\n",
    "# Uso do site https://www.regexpal.com/ para tratar o nome\n"
   ]
  },
  {
   "cell_type": "code",
   "execution_count": 12,
   "id": "electrical-medicare",
   "metadata": {},
   "outputs": [
    {
     "data": {
      "text/plain": [
       "'1,0,3,\" Mr. Owen Harris Braund\",male,22,1,0,A/5 21171,7.25,,S\\n'"
      ]
     },
     "execution_count": 12,
     "metadata": {},
     "output_type": "execute_result"
    }
   ],
   "source": [
    "import re # Lib Regular Expression\n",
    "\n",
    "match = re.compile(r'\"(.*)(,)(\\s.*)\"') # compilando toda a string que contem ' \" , e espaços '\n",
    "match.sub(r'\"\\3 \\1\"', linhas[1]) # ordenando os blocos da string obtida para 'nome sobrenome'"
   ]
  },
  {
   "cell_type": "code",
   "execution_count": 13,
   "id": "surrounded-insertion",
   "metadata": {},
   "outputs": [],
   "source": [
    "# criando uma funcao que remove a virgula dos nomes e troca a ordem\n",
    "def tratar_nome(linha):\n",
    "    import re\n",
    "    match = re.compile(r'\"(.*)(,)(\\s.*)\"')\n",
    "    return match.sub(r'\"\\3 \\1\"', linha)"
   ]
  },
  {
   "cell_type": "code",
   "execution_count": 14,
   "id": "advanced-weapon",
   "metadata": {},
   "outputs": [
    {
     "data": {
      "text/plain": [
       "'1,0,3,\" Mr. Owen Harris Braund\",male,22,1,0,A/5 21171,7.25,,S\\n'"
      ]
     },
     "execution_count": 14,
     "metadata": {},
     "output_type": "execute_result"
    }
   ],
   "source": [
    "# testando a funcao na linha 1\n",
    "tratar_nome(linhas[1])"
   ]
  },
  {
   "cell_type": "code",
   "execution_count": 15,
   "id": "returning-defeat",
   "metadata": {},
   "outputs": [
    {
     "data": {
      "text/plain": [
       "str"
      ]
     },
     "execution_count": 15,
     "metadata": {},
     "output_type": "execute_result"
    }
   ],
   "source": [
    "linha1_tratada = tratar_nome(linhas[1])\n",
    "type(linha1_tratada) # verificando tipo para usar split"
   ]
  },
  {
   "cell_type": "code",
   "execution_count": 16,
   "id": "catholic-guitar",
   "metadata": {},
   "outputs": [],
   "source": [
    "linha1_separada = linha1_tratada.split(\",\") # separando a str em lista pela virgula"
   ]
  },
  {
   "cell_type": "code",
   "execution_count": 17,
   "id": "advised-worship",
   "metadata": {},
   "outputs": [
    {
     "name": "stdout",
     "output_type": "stream",
     "text": [
      "['PassengerId', 'Survived', 'Pclass', 'Name', 'Sex', 'Age', 'SibSp', 'Parch', 'Ticket', 'Fare', 'Cabin', 'Embarked\\n']\n",
      "1,0,3,\" Mr. Owen Harris Braund\",male,22,1,0,A/5 21171,7.25,,S\n",
      "\n",
      "['1', '0', '3', '\" Mr. Owen Harris Braund\"', 'male', '22', '1', '0', 'A/5 21171', '7.25', '', 'S\\n']\n",
      "12 12\n"
     ]
    }
   ],
   "source": [
    "print(colunas) # colunas\n",
    "print(linha1_tratada) # str\n",
    "print(linha1_separada) # lista\n",
    "print(len(colunas), len(linha1_separada)) # contagem de indexes"
   ]
  },
  {
   "cell_type": "markdown",
   "id": "revised-debut",
   "metadata": {},
   "source": [
    "# Juntar os dados com suas devidas colunas"
   ]
  },
  {
   "cell_type": "code",
   "execution_count": 18,
   "id": "departmental-brake",
   "metadata": {},
   "outputs": [
    {
     "data": {
      "text/plain": [
       "{'PassengerId': [],\n",
       " 'Survived': [],\n",
       " 'Pclass': [],\n",
       " 'Name': [],\n",
       " 'Sex': [],\n",
       " 'Age': [],\n",
       " 'SibSp': [],\n",
       " 'Parch': [],\n",
       " 'Ticket': [],\n",
       " 'Fare': [],\n",
       " 'Cabin': [],\n",
       " 'Embarked\\n': []}"
      ]
     },
     "execution_count": 18,
     "metadata": {},
     "output_type": "execute_result"
    }
   ],
   "source": [
    "# criuando dicionario, sendo as colunas-chave e os valores-dados\n",
    "titanic_dados = {}\n",
    "for coluna in colunas:\n",
    "    titanic_dados[coluna] = []\n",
    "titanic_dados"
   ]
  },
  {
   "cell_type": "code",
   "execution_count": 19,
   "id": "attended-roman",
   "metadata": {},
   "outputs": [],
   "source": [
    "# retornando todas as linhas, excluindo linha 0 que é o cabeçalho\n",
    "# View dataset em linhas str\n",
    "\n",
    "# for dado in linhas[1:]:\n",
    "#     dado_tratado = tratar_nome(dado)\n",
    "#     print(dado_tratado)"
   ]
  },
  {
   "cell_type": "code",
   "execution_count": 20,
   "id": "official-literacy",
   "metadata": {},
   "outputs": [],
   "source": [
    "# type(dado_tratado)"
   ]
  },
  {
   "cell_type": "code",
   "execution_count": 21,
   "id": "indonesian-actress",
   "metadata": {},
   "outputs": [],
   "source": [
    "# retornando as linhas em formato de listas separadas pela virgula\n",
    "# View dataset em linhas de listas\n",
    "\n",
    "# for dado in linhas[1:]:\n",
    "#     dado_tratado = tratar_nome(dado)\n",
    "#     dado_como_lista = dado_tratado.split(\",\")\n",
    "#     print(dado_como_lista)"
   ]
  },
  {
   "cell_type": "code",
   "execution_count": 22,
   "id": "prescription-homeless",
   "metadata": {},
   "outputs": [],
   "source": [
    "# Aqui retornamos o mesmo passo porem em uma lista aninhada\n",
    "\n",
    "dados_tratados = []\n",
    "\n",
    "for dado in linhas[1:]:\n",
    "    dado_tratado = tratar_nome(dado)\n",
    "    dado_como_lista = dado_tratado.split(\",\")\n",
    "    dados_tratados.append(dado_como_lista)"
   ]
  },
  {
   "cell_type": "code",
   "execution_count": 23,
   "id": "loved-incentive",
   "metadata": {},
   "outputs": [
    {
     "name": "stdout",
     "output_type": "stream",
     "text": [
      "['1', '0', '3', '\" Mr. Owen Harris Braund\"', 'male', '22', '1', '0', 'A/5 21171', '7.25', '', 'S\\n']\n",
      "['14', '0', '3', '\" Mr. Anders Johan Andersson\"', 'male', '39', '1', '5', '347082', '31.275', '', 'S\\n']\n",
      "['801', '0', '2', '\" Mr. Martin Ponesell\"', 'male', '34', '0', '0', '250647', '13', '', 'S\\n']\n"
     ]
    }
   ],
   "source": [
    "print(dados_tratados[0])\n",
    "print(dados_tratados[13])\n",
    "print(dados_tratados[800])\n"
   ]
  },
  {
   "cell_type": "code",
   "execution_count": 24,
   "id": "measured-april",
   "metadata": {},
   "outputs": [
    {
     "name": "stdout",
     "output_type": "stream",
     "text": [
      "Survived 0\n",
      "Name \" Mr. Anders Johan Andersson\"\n"
     ]
    }
   ],
   "source": [
    "# Relacionando dados das listas\n",
    "\n",
    "# Sobrevivente 0 = Não, 1 = Sim\n",
    "# Nome = Nome Sobrenome\n",
    "\n",
    "print(colunas[1], dados_tratados[13][1])\n",
    "print(colunas[3], dados_tratados[13][3])"
   ]
  },
  {
   "cell_type": "code",
   "execution_count": 25,
   "id": "attractive-hazard",
   "metadata": {},
   "outputs": [],
   "source": [
    "# View dataset com ordenação dos dados em ' Nome: \"\" Age: \"\" '\n",
    "\n",
    "# for passageiro in dados_tratados:\n",
    "#     print(colunas[3], passageiro[3], colunas[5], passageiro[5])"
   ]
  },
  {
   "cell_type": "markdown",
   "id": "virtual-madness",
   "metadata": {},
   "source": [
    "# linhas = todo o arquivo, sem tratamento\n",
    "# dados_tratados = todas as linhas tratadas, sem o cabeçalho\n",
    "# colunas = ['PassengerId', 'Survived', 'Pclass', 'Name', 'Sex', 'Age'...]\n",
    "# dados = ['45', '1', '3', '\" Miss. Margaret Delia Devaney\"', 'female', '19'...]\n",
    "# titanic_dados = O dicionario com as chaves(colunas) sem os valores"
   ]
  },
  {
   "cell_type": "code",
   "execution_count": 26,
   "id": "purple-bracelet",
   "metadata": {},
   "outputs": [
    {
     "name": "stdout",
     "output_type": "stream",
     "text": [
      "{'PassengerId': [], 'Survived': [], 'Pclass': [], 'Name': [], 'Sex': [], 'Age': [], 'SibSp': [], 'Parch': [], 'Ticket': [], 'Fare': [], 'Cabin': [], 'Embarked\\n': []}\n"
     ]
    }
   ],
   "source": [
    "print(titanic_dados)"
   ]
  },
  {
   "cell_type": "code",
   "execution_count": 27,
   "id": "amino-president",
   "metadata": {},
   "outputs": [],
   "source": [
    "# 1 - Pegar cada linha da variavel dados_tratados e colocar em passageiros\n",
    "# 2 - Faço um FOR em passageiro e pegp o index e o restante dos dados\n",
    "# 3 - Vou na variavel coluna e pego a colina no respectivo index\n",
    "\n",
    "for passageiro in dados_tratados:\n",
    "    for index, dado in enumerate(passageiro):\n",
    "        coluna = colunas[index]\n",
    "        titanic_dados[coluna].append(dado)"
   ]
  },
  {
   "cell_type": "code",
   "execution_count": 28,
   "id": "tight-american",
   "metadata": {},
   "outputs": [],
   "source": [
    "# titanic_dados # View dataset com lista aninhada"
   ]
  },
  {
   "cell_type": "code",
   "execution_count": 29,
   "id": "thousand-print",
   "metadata": {},
   "outputs": [
    {
     "name": "stdout",
     "output_type": "stream",
     "text": [
      "Passageiro: 14\n",
      "Nome: \" Mr. Anders Johan Andersson\"\n",
      "Idade: 39\n"
     ]
    }
   ],
   "source": [
    "print(\"Passageiro:\", titanic_dados[\"PassengerId\"][13])\n",
    "print(\"Nome:\", titanic_dados[\"Name\"][13])\n",
    "print(\"Idade:\", titanic_dados[\"Age\"][13])"
   ]
  },
  {
   "cell_type": "code",
   "execution_count": 30,
   "id": "surgical-design",
   "metadata": {},
   "outputs": [],
   "source": [
    "# titanic_dados[\"Age\"] # View lista de Idades"
   ]
  },
  {
   "cell_type": "markdown",
   "id": "micro-sequence",
   "metadata": {},
   "source": [
    "# Criando MEDIAS para valores do dataset"
   ]
  },
  {
   "cell_type": "code",
   "execution_count": 31,
   "id": "noble-birmingham",
   "metadata": {},
   "outputs": [],
   "source": [
    "# Tratando idades nulas para valor (-1) e alterando tipo str para float\n",
    "\n",
    "for index, age in enumerate(titanic_dados[\"Age\"]):\n",
    "    if titanic_dados[\"Age\"][index] != '':\n",
    "        titanic_dados[\"Age\"][index] = float(age)\n",
    "    else:\n",
    "        titanic_dados[\"Age\"][index] = -1"
   ]
  },
  {
   "cell_type": "code",
   "execution_count": 32,
   "id": "signed-humanity",
   "metadata": {},
   "outputs": [],
   "source": [
    "# titanic_dados[\"Age\"] # View lista de idades tratadas"
   ]
  },
  {
   "cell_type": "code",
   "execution_count": 33,
   "id": "chief-prediction",
   "metadata": {},
   "outputs": [],
   "source": [
    "idades_validas = []\n",
    "\n",
    "for idade in titanic_dados[\"Age\"]:\n",
    "    if idade != -1:\n",
    "        idades_validas.append(idade)"
   ]
  },
  {
   "cell_type": "code",
   "execution_count": 34,
   "id": "normal-exhibition",
   "metadata": {},
   "outputs": [],
   "source": [
    "# Media = soma, contagem e aredondamento de 2 casas\n",
    "def media(lista):\n",
    "    soma_total = sum(lista)\n",
    "    quant = len(lista)\n",
    "    return round(soma_total / quant, 2)"
   ]
  },
  {
   "cell_type": "code",
   "execution_count": 35,
   "id": "anonymous-plumbing",
   "metadata": {},
   "outputs": [
    {
     "name": "stdout",
     "output_type": "stream",
     "text": [
      "Media: 29.7\n"
     ]
    }
   ],
   "source": [
    "print(\"Media:\", media(idades_validas))"
   ]
  },
  {
   "cell_type": "code",
   "execution_count": 36,
   "id": "defensive-tourist",
   "metadata": {},
   "outputs": [],
   "source": [
    "media_idades = media(idades_validas)"
   ]
  },
  {
   "cell_type": "code",
   "execution_count": 37,
   "id": "capital-split",
   "metadata": {},
   "outputs": [],
   "source": [
    "# Alterando valores nulos(-1) para a media de idades\n",
    "for index, age in enumerate(titanic_dados[\"Age\"]):\n",
    "    if age == -1:\n",
    "        titanic_dados[\"Age\"][index] = media_idades"
   ]
  },
  {
   "cell_type": "code",
   "execution_count": 38,
   "id": "joined-airplane",
   "metadata": {},
   "outputs": [],
   "source": [
    "# titanic_dados[\"Age\"] # View idades tratadas com media em idades nulas"
   ]
  }
 ],
 "metadata": {
  "kernelspec": {
   "display_name": "Python 3",
   "language": "python",
   "name": "python3"
  },
  "language_info": {
   "codemirror_mode": {
    "name": "ipython",
    "version": 3
   },
   "file_extension": ".py",
   "mimetype": "text/x-python",
   "name": "python",
   "nbconvert_exporter": "python",
   "pygments_lexer": "ipython3",
   "version": "3.6.5"
  }
 },
 "nbformat": 4,
 "nbformat_minor": 5
}
