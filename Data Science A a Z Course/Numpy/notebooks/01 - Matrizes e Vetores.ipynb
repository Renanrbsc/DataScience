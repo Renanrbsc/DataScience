{
 "cells": [
  {
   "cell_type": "markdown",
   "id": "appreciated-privilege",
   "metadata": {},
   "source": [
    "# Matrizes e Vetores"
   ]
  },
  {
   "cell_type": "code",
   "execution_count": 1,
   "id": "integral-parks",
   "metadata": {},
   "outputs": [],
   "source": [
    "import numpy as np"
   ]
  },
  {
   "cell_type": "code",
   "execution_count": 4,
   "id": "attempted-hobby",
   "metadata": {},
   "outputs": [],
   "source": [
    "# Vetores unidimensionais\n",
    "vetor1 = np.array(['Carro','Casa','Predio','Moto'])"
   ]
  },
  {
   "cell_type": "code",
   "execution_count": 5,
   "id": "joint-auction",
   "metadata": {},
   "outputs": [
    {
     "data": {
      "text/plain": [
       "array(['Carro', 'Casa', 'Predio', 'Moto'], dtype='<U6')"
      ]
     },
     "execution_count": 5,
     "metadata": {},
     "output_type": "execute_result"
    }
   ],
   "source": [
    "vetor1"
   ]
  },
  {
   "cell_type": "code",
   "execution_count": 7,
   "id": "descending-filing",
   "metadata": {},
   "outputs": [],
   "source": [
    "# Vetores Bidimensionais\n",
    "vetor2 = np.array([['Moto','Carro','Caminhão'],['Predio','Casa','Trailer']])"
   ]
  },
  {
   "cell_type": "code",
   "execution_count": 8,
   "id": "numerical-aberdeen",
   "metadata": {},
   "outputs": [
    {
     "data": {
      "text/plain": [
       "array([['Moto', 'Carro', 'Caminhão'],\n",
       "       ['Predio', 'Casa', 'Trailer']], dtype='<U8')"
      ]
     },
     "execution_count": 8,
     "metadata": {},
     "output_type": "execute_result"
    }
   ],
   "source": [
    "vetor2"
   ]
  },
  {
   "cell_type": "code",
   "execution_count": 10,
   "id": "abroad-knight",
   "metadata": {},
   "outputs": [
    {
     "name": "stdout",
     "output_type": "stream",
     "text": [
      "(4,)\n",
      "(2, 3)\n"
     ]
    }
   ],
   "source": [
    "# Verificando Tamanho do vetor\n",
    "print(vetor1.shape)\n",
    "print(vetor2.shape)"
   ]
  },
  {
   "cell_type": "code",
   "execution_count": 14,
   "id": "incorrect-activity",
   "metadata": {},
   "outputs": [
    {
     "name": "stdout",
     "output_type": "stream",
     "text": [
      "Vetor 1: 1\n",
      "Vetor 2: 2\n"
     ]
    }
   ],
   "source": [
    "# Verificando Dimensão do vetor\n",
    "print(\"Vetor 1:\", vetor1.ndim)\n",
    "print(\"Vetor 2:\", vetor2.ndim)"
   ]
  },
  {
   "cell_type": "markdown",
   "id": "negative-grocery",
   "metadata": {},
   "source": [
    "# Metodos de criação"
   ]
  },
  {
   "cell_type": "markdown",
   "id": "surgical-sailing",
   "metadata": {},
   "source": [
    "## numpy.arange - Criar um vetor com n posições"
   ]
  },
  {
   "cell_type": "code",
   "execution_count": 33,
   "id": "solid-engineer",
   "metadata": {},
   "outputs": [
    {
     "data": {
      "text/plain": [
       "array([ 0,  1,  2,  3,  4,  5,  6,  7,  8,  9, 10, 11, 12, 13, 14, 15, 16,\n",
       "       17, 18, 19])"
      ]
     },
     "execution_count": 33,
     "metadata": {},
     "output_type": "execute_result"
    }
   ],
   "source": [
    "arange1 = np.arange(20)\n",
    "arange1"
   ]
  },
  {
   "cell_type": "markdown",
   "id": "occasional-boards",
   "metadata": {},
   "source": [
    "## usando arange start/end/skip - de start a end de skip em skip\n"
   ]
  },
  {
   "cell_type": "code",
   "execution_count": 34,
   "id": "constitutional-malaysia",
   "metadata": {},
   "outputs": [
    {
     "data": {
      "text/plain": [
       "array([ 0, 10, 20, 30, 40])"
      ]
     },
     "execution_count": 34,
     "metadata": {},
     "output_type": "execute_result"
    }
   ],
   "source": [
    "# Usando start/end/skip - de start a end de skip em skip\n",
    "arange2 = np.arange(0, 50, 10)\n",
    "arange2"
   ]
  },
  {
   "cell_type": "markdown",
   "id": "embedded-alliance",
   "metadata": {},
   "source": [
    "## numpy.linspace(start/end/amount) - de start a end aleatorio até obter amount valores\n"
   ]
  },
  {
   "cell_type": "code",
   "execution_count": 35,
   "id": "controversial-rouge",
   "metadata": {},
   "outputs": [
    {
     "data": {
      "text/plain": [
       "array([ 0.        ,  0.52631579,  1.05263158,  1.57894737,  2.10526316,\n",
       "        2.63157895,  3.15789474,  3.68421053,  4.21052632,  4.73684211,\n",
       "        5.26315789,  5.78947368,  6.31578947,  6.84210526,  7.36842105,\n",
       "        7.89473684,  8.42105263,  8.94736842,  9.47368421, 10.        ])"
      ]
     },
     "execution_count": 35,
     "metadata": {},
     "output_type": "execute_result"
    }
   ],
   "source": [
    "linspace1 = np.linspace(0, 10, 20)\n",
    "linspace1"
   ]
  },
  {
   "cell_type": "code",
   "execution_count": 21,
   "id": "visible-stranger",
   "metadata": {},
   "outputs": [
    {
     "data": {
      "text/plain": [
       "array([ 0. ,  2.5,  5. ,  7.5, 10. ])"
      ]
     },
     "execution_count": 21,
     "metadata": {},
     "output_type": "execute_result"
    }
   ],
   "source": [
    "linspace2 = np.linspace(0,10,5)\n",
    "linspace2"
   ]
  },
  {
   "cell_type": "markdown",
   "id": "liable-spectrum",
   "metadata": {},
   "source": [
    "## numpy.zeros - cria uma matriz com todas as casas com valor ZERO\n"
   ]
  },
  {
   "cell_type": "code",
   "execution_count": 36,
   "id": "multiple-spectacular",
   "metadata": {},
   "outputs": [
    {
     "data": {
      "text/plain": [
       "array([[0., 0., 0., 0., 0., 0., 0., 0., 0., 0.],\n",
       "       [0., 0., 0., 0., 0., 0., 0., 0., 0., 0.],\n",
       "       [0., 0., 0., 0., 0., 0., 0., 0., 0., 0.],\n",
       "       [0., 0., 0., 0., 0., 0., 0., 0., 0., 0.],\n",
       "       [0., 0., 0., 0., 0., 0., 0., 0., 0., 0.],\n",
       "       [0., 0., 0., 0., 0., 0., 0., 0., 0., 0.],\n",
       "       [0., 0., 0., 0., 0., 0., 0., 0., 0., 0.],\n",
       "       [0., 0., 0., 0., 0., 0., 0., 0., 0., 0.],\n",
       "       [0., 0., 0., 0., 0., 0., 0., 0., 0., 0.],\n",
       "       [0., 0., 0., 0., 0., 0., 0., 0., 0., 0.]])"
      ]
     },
     "execution_count": 36,
     "metadata": {},
     "output_type": "execute_result"
    }
   ],
   "source": [
    "zeros1 = np.zeros((10, 10))\n",
    "zeros1"
   ]
  },
  {
   "cell_type": "code",
   "execution_count": 37,
   "id": "systematic-defendant",
   "metadata": {
    "scrolled": true
   },
   "outputs": [
    {
     "data": {
      "text/plain": [
       "array([[0., 0., 0., 0., 0.],\n",
       "       [0., 0., 0., 0., 0.],\n",
       "       [0., 0., 0., 0., 0.],\n",
       "       [0., 0., 0., 0., 0.],\n",
       "       [0., 0., 0., 0., 0.]])"
      ]
     },
     "execution_count": 37,
     "metadata": {},
     "output_type": "execute_result"
    }
   ],
   "source": [
    "zeros2 = np.zeros((5, 5))\n",
    "zeros2"
   ]
  },
  {
   "cell_type": "markdown",
   "id": "unavailable-coral",
   "metadata": {},
   "source": [
    "## numpy.ones - cria uma matriz com todas as casas com valor UM"
   ]
  },
  {
   "cell_type": "code",
   "execution_count": 38,
   "id": "chicken-setting",
   "metadata": {},
   "outputs": [
    {
     "data": {
      "text/plain": [
       "array([[1., 1., 1., 1., 1., 1., 1., 1., 1., 1.],\n",
       "       [1., 1., 1., 1., 1., 1., 1., 1., 1., 1.],\n",
       "       [1., 1., 1., 1., 1., 1., 1., 1., 1., 1.],\n",
       "       [1., 1., 1., 1., 1., 1., 1., 1., 1., 1.],\n",
       "       [1., 1., 1., 1., 1., 1., 1., 1., 1., 1.],\n",
       "       [1., 1., 1., 1., 1., 1., 1., 1., 1., 1.],\n",
       "       [1., 1., 1., 1., 1., 1., 1., 1., 1., 1.],\n",
       "       [1., 1., 1., 1., 1., 1., 1., 1., 1., 1.],\n",
       "       [1., 1., 1., 1., 1., 1., 1., 1., 1., 1.],\n",
       "       [1., 1., 1., 1., 1., 1., 1., 1., 1., 1.]])"
      ]
     },
     "execution_count": 38,
     "metadata": {},
     "output_type": "execute_result"
    }
   ],
   "source": [
    "ones1 = np.ones((10, 10))\n",
    "ones1"
   ]
  },
  {
   "cell_type": "code",
   "execution_count": 39,
   "id": "three-creator",
   "metadata": {},
   "outputs": [
    {
     "data": {
      "text/plain": [
       "array([[1., 1., 1., 1., 1.],\n",
       "       [1., 1., 1., 1., 1.],\n",
       "       [1., 1., 1., 1., 1.],\n",
       "       [1., 1., 1., 1., 1.],\n",
       "       [1., 1., 1., 1., 1.]])"
      ]
     },
     "execution_count": 39,
     "metadata": {},
     "output_type": "execute_result"
    }
   ],
   "source": [
    "ones2 = np.ones((5, 5))\n",
    "ones2"
   ]
  },
  {
   "cell_type": "markdown",
   "id": "subsequent-corps",
   "metadata": {},
   "source": [
    "## numpy.eye - cria uma matriz do tipo Identity"
   ]
  },
  {
   "cell_type": "code",
   "execution_count": 40,
   "id": "tamil-mexico",
   "metadata": {},
   "outputs": [
    {
     "data": {
      "text/plain": [
       "array([[1., 0., 0., 0., 0., 0., 0., 0., 0., 0.],\n",
       "       [0., 1., 0., 0., 0., 0., 0., 0., 0., 0.],\n",
       "       [0., 0., 1., 0., 0., 0., 0., 0., 0., 0.],\n",
       "       [0., 0., 0., 1., 0., 0., 0., 0., 0., 0.],\n",
       "       [0., 0., 0., 0., 1., 0., 0., 0., 0., 0.],\n",
       "       [0., 0., 0., 0., 0., 1., 0., 0., 0., 0.],\n",
       "       [0., 0., 0., 0., 0., 0., 1., 0., 0., 0.],\n",
       "       [0., 0., 0., 0., 0., 0., 0., 1., 0., 0.],\n",
       "       [0., 0., 0., 0., 0., 0., 0., 0., 1., 0.],\n",
       "       [0., 0., 0., 0., 0., 0., 0., 0., 0., 1.]])"
      ]
     },
     "execution_count": 40,
     "metadata": {},
     "output_type": "execute_result"
    }
   ],
   "source": [
    "eye1 = np.eye(10)\n",
    "eye1"
   ]
  },
  {
   "cell_type": "code",
   "execution_count": 41,
   "id": "foreign-mixer",
   "metadata": {},
   "outputs": [
    {
     "data": {
      "text/plain": [
       "array([[1., 0., 0., 0., 0.],\n",
       "       [0., 1., 0., 0., 0.],\n",
       "       [0., 0., 1., 0., 0.],\n",
       "       [0., 0., 0., 1., 0.],\n",
       "       [0., 0., 0., 0., 1.]])"
      ]
     },
     "execution_count": 41,
     "metadata": {},
     "output_type": "execute_result"
    }
   ],
   "source": [
    "eye2 = np.eye(5)\n",
    "eye2"
   ]
  },
  {
   "cell_type": "markdown",
   "id": "charged-wrapping",
   "metadata": {},
   "source": [
    "## numpy.diag - produz o mesmo resultado, porem definimos os numeros das diagonais"
   ]
  },
  {
   "cell_type": "code",
   "execution_count": 31,
   "id": "sunrise-squad",
   "metadata": {},
   "outputs": [
    {
     "data": {
      "text/plain": [
       "array([[ 2,  0,  0,  0,  0,  0,  0,  0,  0,  0],\n",
       "       [ 0,  4,  0,  0,  0,  0,  0,  0,  0,  0],\n",
       "       [ 0,  0,  6,  0,  0,  0,  0,  0,  0,  0],\n",
       "       [ 0,  0,  0,  8,  0,  0,  0,  0,  0,  0],\n",
       "       [ 0,  0,  0,  0, 10,  0,  0,  0,  0,  0],\n",
       "       [ 0,  0,  0,  0,  0, 12,  0,  0,  0,  0],\n",
       "       [ 0,  0,  0,  0,  0,  0, 14,  0,  0,  0],\n",
       "       [ 0,  0,  0,  0,  0,  0,  0, 16,  0,  0],\n",
       "       [ 0,  0,  0,  0,  0,  0,  0,  0, 18,  0],\n",
       "       [ 0,  0,  0,  0,  0,  0,  0,  0,  0, 20]])"
      ]
     },
     "execution_count": 31,
     "metadata": {},
     "output_type": "execute_result"
    }
   ],
   "source": [
    "diag1 = np.diag((2,4,6,8,10,12,14,16,18,20))\n",
    "diag1"
   ]
  },
  {
   "cell_type": "code",
   "execution_count": 48,
   "id": "vocal-ensemble",
   "metadata": {},
   "outputs": [
    {
     "data": {
      "text/plain": [
       "array([[ 2,  0,  0,  0,  0],\n",
       "       [ 0,  4,  0,  0,  0],\n",
       "       [ 0,  0,  6,  0,  0],\n",
       "       [ 0,  0,  0,  8,  0],\n",
       "       [ 0,  0,  0,  0, 10]])"
      ]
     },
     "execution_count": 48,
     "metadata": {},
     "output_type": "execute_result"
    }
   ],
   "source": [
    "diag2 = np.diag((2,4,6,8,10))\n",
    "diag2"
   ]
  },
  {
   "cell_type": "markdown",
   "id": "sublime-repeat",
   "metadata": {},
   "source": [
    "## numpy.empty - produz uma matriz vazia"
   ]
  },
  {
   "cell_type": "code",
   "execution_count": 74,
   "id": "romance-episode",
   "metadata": {},
   "outputs": [
    {
     "data": {
      "text/plain": [
       "array([[0, 0, 0],\n",
       "       [0, 0, 0],\n",
       "       [0, 0, 0]])"
      ]
     },
     "execution_count": 74,
     "metadata": {},
     "output_type": "execute_result"
    }
   ],
   "source": [
    "empty1 = np.empty([3,3])\n",
    "empty1"
   ]
  },
  {
   "cell_type": "markdown",
   "id": "innocent-shift",
   "metadata": {},
   "source": [
    "## numpy.tile - multiplica os valores do array em vertical e horizontal"
   ]
  },
  {
   "cell_type": "code",
   "execution_count": 78,
   "id": "environmental-phone",
   "metadata": {},
   "outputs": [
    {
     "data": {
      "text/plain": [
       "array([[1, 2, 1, 2, 1, 2],\n",
       "       [3, 4, 3, 4, 3, 4],\n",
       "       [5, 6, 5, 6, 5, 6]])"
      ]
     },
     "execution_count": 78,
     "metadata": {},
     "output_type": "execute_result"
    }
   ],
   "source": [
    "# cada array repete n vezes em cada linha\n",
    "tile1 = np.tile(np.array([[1, 2], [3, 4], [5, 6]]), 3)\n",
    "tile1"
   ]
  },
  {
   "cell_type": "code",
   "execution_count": 79,
   "id": "italic-colorado",
   "metadata": {},
   "outputs": [
    {
     "data": {
      "text/plain": [
       "array([[1, 2, 1, 2, 1, 2, 1, 2, 1, 2, 1, 2],\n",
       "       [3, 4, 3, 4, 3, 4, 3, 4, 3, 4, 3, 4],\n",
       "       [1, 2, 1, 2, 1, 2, 1, 2, 1, 2, 1, 2],\n",
       "       [3, 4, 3, 4, 3, 4, 3, 4, 3, 4, 3, 4],\n",
       "       [1, 2, 1, 2, 1, 2, 1, 2, 1, 2, 1, 2],\n",
       "       [3, 4, 3, 4, 3, 4, 3, 4, 3, 4, 3, 4]])"
      ]
     },
     "execution_count": 79,
     "metadata": {},
     "output_type": "execute_result"
    }
   ],
   "source": [
    "#Num de vezes do array na vertical , num de vezes array na horizontal\n",
    "tile2 = np.tile(np.array([[1, 2], [3, 4]]), (3,6)) \n",
    "tile2"
   ]
  }
 ],
 "metadata": {
  "kernelspec": {
   "display_name": "Python 3",
   "language": "python",
   "name": "python3"
  },
  "language_info": {
   "codemirror_mode": {
    "name": "ipython",
    "version": 3
   },
   "file_extension": ".py",
   "mimetype": "text/x-python",
   "name": "python",
   "nbconvert_exporter": "python",
   "pygments_lexer": "ipython3",
   "version": "3.6.5"
  }
 },
 "nbformat": 4,
 "nbformat_minor": 5
}
