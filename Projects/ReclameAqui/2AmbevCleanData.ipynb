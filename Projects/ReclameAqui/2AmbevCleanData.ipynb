{
 "cells": [
  {
   "cell_type": "code",
   "execution_count": 1,
   "metadata": {},
   "outputs": [],
   "source": [
    "import pandas as pd"
   ]
  },
  {
   "cell_type": "code",
   "execution_count": 2,
   "metadata": {
    "scrolled": true
   },
   "outputs": [
    {
     "name": "stdout",
     "output_type": "stream",
     "text": [
      "<class 'pandas.core.frame.DataFrame'>\n",
      "RangeIndex: 1010 entries, 0 to 1009\n",
      "Data columns (total 12 columns):\n",
      " #   Column              Non-Null Count  Dtype \n",
      "---  ------              --------------  ----- \n",
      " 0   NA                  1010 non-null   int64 \n",
      " 1   location            1010 non-null   object\n",
      " 2   date                1010 non-null   object\n",
      " 3   title               1010 non-null   object\n",
      " 4   coment              1010 non-null   object\n",
      " 5   answer              1001 non-null   object\n",
      " 6   time_answer         1001 non-null   object\n",
      " 7   coment_client_text  1010 non-null   object\n",
      " 8   time_client         1010 non-null   object\n",
      " 9   resolved            1010 non-null   object\n",
      " 10  business            1010 non-null   object\n",
      " 11  assessment          1010 non-null   int64 \n",
      "dtypes: int64(2), object(10)\n",
      "memory usage: 94.8+ KB\n"
     ]
    }
   ],
   "source": [
    "df = pd.read_csv(r'datasets\\reclame_aqui_completo_ambev.csv', \n",
    "                 names=['NA', 'location', 'date', 'title', 'coment', 'answer', 'time_answer', \n",
    "                        'coment_client_text', 'time_client', 'resolved', 'business', 'assessment'], \n",
    "                 index_col=False) \n",
    "df.info()"
   ]
  },
  {
   "cell_type": "code",
   "execution_count": 3,
   "metadata": {
    "scrolled": true
   },
   "outputs": [
    {
     "data": {
      "text/html": [
       "<div>\n",
       "<style scoped>\n",
       "    .dataframe tbody tr th:only-of-type {\n",
       "        vertical-align: middle;\n",
       "    }\n",
       "\n",
       "    .dataframe tbody tr th {\n",
       "        vertical-align: top;\n",
       "    }\n",
       "\n",
       "    .dataframe thead th {\n",
       "        text-align: right;\n",
       "    }\n",
       "</style>\n",
       "<table border=\"1\" class=\"dataframe\">\n",
       "  <thead>\n",
       "    <tr style=\"text-align: right;\">\n",
       "      <th></th>\n",
       "      <th>NA</th>\n",
       "      <th>location</th>\n",
       "      <th>date</th>\n",
       "      <th>title</th>\n",
       "      <th>coment</th>\n",
       "      <th>answer</th>\n",
       "      <th>time_answer</th>\n",
       "      <th>coment_client_text</th>\n",
       "      <th>time_client</th>\n",
       "      <th>resolved</th>\n",
       "      <th>business</th>\n",
       "      <th>assessment</th>\n",
       "    </tr>\n",
       "  </thead>\n",
       "  <tbody>\n",
       "    <tr>\n",
       "      <th>0</th>\n",
       "      <td>0</td>\n",
       "      <td>Maceió - AL</td>\n",
       "      <td>27/07/21 às 00h45</td>\n",
       "      <td>Quero fazer acordo</td>\n",
       "      <td>Fiz uma compra em seguida acabei fechando e nã...</td>\n",
       "      <td>Olá Alame,\\n\\nEnviamos as orientações de seu c...</td>\n",
       "      <td>29/07/21 às 13h06</td>\n",
       "      <td>Muito satisfatório</td>\n",
       "      <td>29/07/21 às 13h21</td>\n",
       "      <td>Resolvido</td>\n",
       "      <td>Sim</td>\n",
       "      <td>8</td>\n",
       "    </tr>\n",
       "    <tr>\n",
       "      <th>1</th>\n",
       "      <td>1</td>\n",
       "      <td>São Paulo - SP</td>\n",
       "      <td>26/07/21 às 16h52</td>\n",
       "      <td>Estou sendo perseguido pela logística do cdd d...</td>\n",
       "      <td>Ha oito meses estou sendo perseguido pela logí...</td>\n",
       "      <td>Olá Alexandre,\\n\\nInformamos que encaminhamos ...</td>\n",
       "      <td>27/07/21 às 11h27</td>\n",
       "      <td>Pessimo</td>\n",
       "      <td>27/07/21 às 11h30</td>\n",
       "      <td>Não resolvido</td>\n",
       "      <td>Não</td>\n",
       "      <td>0</td>\n",
       "    </tr>\n",
       "    <tr>\n",
       "      <th>2</th>\n",
       "      <td>2</td>\n",
       "      <td>Armação de Búzios - RJ</td>\n",
       "      <td>26/07/21 às 16h27</td>\n",
       "      <td>Código cliente</td>\n",
       "      <td>Realizei o cadastro no app e já faz dias, não ...</td>\n",
       "      <td>Olá Adriana,\\n\\nConforme conversamos, o sistem...</td>\n",
       "      <td>28/07/21 às 13h28</td>\n",
       "      <td>Fui muito bem atendida e orientada. O represen...</td>\n",
       "      <td>28/07/21 às 17h39</td>\n",
       "      <td>Resolvido</td>\n",
       "      <td>Sim</td>\n",
       "      <td>10</td>\n",
       "    </tr>\n",
       "    <tr>\n",
       "      <th>3</th>\n",
       "      <td>3</td>\n",
       "      <td>Cotia - SP</td>\n",
       "      <td>26/07/21 às 15h15</td>\n",
       "      <td>Não aumentam prazo do boleto</td>\n",
       "      <td>Deixo aqui, minha grande insatisfação com AMBE...</td>\n",
       "      <td>Olá Tadeu,\\n\\nInformamos que encaminhamos seu ...</td>\n",
       "      <td>27/07/21 às 11h04</td>\n",
       "      <td>Vocês não trabalham com verdade, meu score no ...</td>\n",
       "      <td>27/07/21 às 15h59</td>\n",
       "      <td>Não resolvido</td>\n",
       "      <td>Não</td>\n",
       "      <td>0</td>\n",
       "    </tr>\n",
       "    <tr>\n",
       "      <th>4</th>\n",
       "      <td>4</td>\n",
       "      <td>CAMBORIU - SC</td>\n",
       "      <td>24/07/21 às 23h01</td>\n",
       "      <td>Equipamento</td>\n",
       "      <td>Aguardando equipamento para meu comercio desde...</td>\n",
       "      <td>Olá, William.\\n\\nInformamos que sua solicitaçã...</td>\n",
       "      <td>26/07/21 às 12h13</td>\n",
       "      <td>9</td>\n",
       "      <td>27/07/21 às 23h45</td>\n",
       "      <td>Não resolvido</td>\n",
       "      <td>Não</td>\n",
       "      <td>0</td>\n",
       "    </tr>\n",
       "  </tbody>\n",
       "</table>\n",
       "</div>"
      ],
      "text/plain": [
       "   NA                location               date  \\\n",
       "0   0             Maceió - AL  27/07/21 às 00h45   \n",
       "1   1          São Paulo - SP  26/07/21 às 16h52   \n",
       "2   2  Armação de Búzios - RJ  26/07/21 às 16h27   \n",
       "3   3              Cotia - SP  26/07/21 às 15h15   \n",
       "4   4           CAMBORIU - SC  24/07/21 às 23h01   \n",
       "\n",
       "                                               title  \\\n",
       "0                                 Quero fazer acordo   \n",
       "1  Estou sendo perseguido pela logística do cdd d...   \n",
       "2                                     Código cliente   \n",
       "3                       Não aumentam prazo do boleto   \n",
       "4                                        Equipamento   \n",
       "\n",
       "                                              coment  \\\n",
       "0  Fiz uma compra em seguida acabei fechando e nã...   \n",
       "1  Ha oito meses estou sendo perseguido pela logí...   \n",
       "2  Realizei o cadastro no app e já faz dias, não ...   \n",
       "3  Deixo aqui, minha grande insatisfação com AMBE...   \n",
       "4  Aguardando equipamento para meu comercio desde...   \n",
       "\n",
       "                                              answer        time_answer  \\\n",
       "0  Olá Alame,\\n\\nEnviamos as orientações de seu c...  29/07/21 às 13h06   \n",
       "1  Olá Alexandre,\\n\\nInformamos que encaminhamos ...  27/07/21 às 11h27   \n",
       "2  Olá Adriana,\\n\\nConforme conversamos, o sistem...  28/07/21 às 13h28   \n",
       "3  Olá Tadeu,\\n\\nInformamos que encaminhamos seu ...  27/07/21 às 11h04   \n",
       "4  Olá, William.\\n\\nInformamos que sua solicitaçã...  26/07/21 às 12h13   \n",
       "\n",
       "                                  coment_client_text        time_client  \\\n",
       "0                                 Muito satisfatório  29/07/21 às 13h21   \n",
       "1                                            Pessimo  27/07/21 às 11h30   \n",
       "2  Fui muito bem atendida e orientada. O represen...  28/07/21 às 17h39   \n",
       "3  Vocês não trabalham com verdade, meu score no ...  27/07/21 às 15h59   \n",
       "4                                                  9  27/07/21 às 23h45   \n",
       "\n",
       "        resolved business  assessment  \n",
       "0      Resolvido      Sim           8  \n",
       "1  Não resolvido      Não           0  \n",
       "2      Resolvido      Sim          10  \n",
       "3  Não resolvido      Não           0  \n",
       "4  Não resolvido      Não           0  "
      ]
     },
     "execution_count": 3,
     "metadata": {},
     "output_type": "execute_result"
    }
   ],
   "source": [
    "df.head()"
   ]
  },
  {
   "cell_type": "code",
   "execution_count": 4,
   "metadata": {},
   "outputs": [
    {
     "data": {
      "text/plain": [
       "array([   0,    1,    2, ..., 1007, 1008, 1009], dtype=int64)"
      ]
     },
     "execution_count": 4,
     "metadata": {},
     "output_type": "execute_result"
    }
   ],
   "source": [
    "df['NA'].unique()"
   ]
  },
  {
   "cell_type": "code",
   "execution_count": 5,
   "metadata": {},
   "outputs": [],
   "source": [
    "df.drop('NA', axis=1, inplace=True)"
   ]
  },
  {
   "cell_type": "code",
   "execution_count": 6,
   "metadata": {
    "scrolled": true
   },
   "outputs": [
    {
     "data": {
      "text/html": [
       "<div>\n",
       "<style scoped>\n",
       "    .dataframe tbody tr th:only-of-type {\n",
       "        vertical-align: middle;\n",
       "    }\n",
       "\n",
       "    .dataframe tbody tr th {\n",
       "        vertical-align: top;\n",
       "    }\n",
       "\n",
       "    .dataframe thead th {\n",
       "        text-align: right;\n",
       "    }\n",
       "</style>\n",
       "<table border=\"1\" class=\"dataframe\">\n",
       "  <thead>\n",
       "    <tr style=\"text-align: right;\">\n",
       "      <th></th>\n",
       "      <th>location</th>\n",
       "      <th>date</th>\n",
       "      <th>title</th>\n",
       "      <th>coment</th>\n",
       "      <th>answer</th>\n",
       "      <th>time_answer</th>\n",
       "      <th>coment_client_text</th>\n",
       "      <th>time_client</th>\n",
       "      <th>resolved</th>\n",
       "      <th>business</th>\n",
       "      <th>assessment</th>\n",
       "    </tr>\n",
       "  </thead>\n",
       "  <tbody>\n",
       "    <tr>\n",
       "      <th>0</th>\n",
       "      <td>Maceió - AL</td>\n",
       "      <td>27/07/21 às 00h45</td>\n",
       "      <td>Quero fazer acordo</td>\n",
       "      <td>Fiz uma compra em seguida acabei fechando e nã...</td>\n",
       "      <td>Olá Alame,\\n\\nEnviamos as orientações de seu c...</td>\n",
       "      <td>29/07/21 às 13h06</td>\n",
       "      <td>Muito satisfatório</td>\n",
       "      <td>29/07/21 às 13h21</td>\n",
       "      <td>Resolvido</td>\n",
       "      <td>Sim</td>\n",
       "      <td>8</td>\n",
       "    </tr>\n",
       "    <tr>\n",
       "      <th>1</th>\n",
       "      <td>São Paulo - SP</td>\n",
       "      <td>26/07/21 às 16h52</td>\n",
       "      <td>Estou sendo perseguido pela logística do cdd d...</td>\n",
       "      <td>Ha oito meses estou sendo perseguido pela logí...</td>\n",
       "      <td>Olá Alexandre,\\n\\nInformamos que encaminhamos ...</td>\n",
       "      <td>27/07/21 às 11h27</td>\n",
       "      <td>Pessimo</td>\n",
       "      <td>27/07/21 às 11h30</td>\n",
       "      <td>Não resolvido</td>\n",
       "      <td>Não</td>\n",
       "      <td>0</td>\n",
       "    </tr>\n",
       "    <tr>\n",
       "      <th>2</th>\n",
       "      <td>Armação de Búzios - RJ</td>\n",
       "      <td>26/07/21 às 16h27</td>\n",
       "      <td>Código cliente</td>\n",
       "      <td>Realizei o cadastro no app e já faz dias, não ...</td>\n",
       "      <td>Olá Adriana,\\n\\nConforme conversamos, o sistem...</td>\n",
       "      <td>28/07/21 às 13h28</td>\n",
       "      <td>Fui muito bem atendida e orientada. O represen...</td>\n",
       "      <td>28/07/21 às 17h39</td>\n",
       "      <td>Resolvido</td>\n",
       "      <td>Sim</td>\n",
       "      <td>10</td>\n",
       "    </tr>\n",
       "    <tr>\n",
       "      <th>3</th>\n",
       "      <td>Cotia - SP</td>\n",
       "      <td>26/07/21 às 15h15</td>\n",
       "      <td>Não aumentam prazo do boleto</td>\n",
       "      <td>Deixo aqui, minha grande insatisfação com AMBE...</td>\n",
       "      <td>Olá Tadeu,\\n\\nInformamos que encaminhamos seu ...</td>\n",
       "      <td>27/07/21 às 11h04</td>\n",
       "      <td>Vocês não trabalham com verdade, meu score no ...</td>\n",
       "      <td>27/07/21 às 15h59</td>\n",
       "      <td>Não resolvido</td>\n",
       "      <td>Não</td>\n",
       "      <td>0</td>\n",
       "    </tr>\n",
       "    <tr>\n",
       "      <th>4</th>\n",
       "      <td>CAMBORIU - SC</td>\n",
       "      <td>24/07/21 às 23h01</td>\n",
       "      <td>Equipamento</td>\n",
       "      <td>Aguardando equipamento para meu comercio desde...</td>\n",
       "      <td>Olá, William.\\n\\nInformamos que sua solicitaçã...</td>\n",
       "      <td>26/07/21 às 12h13</td>\n",
       "      <td>9</td>\n",
       "      <td>27/07/21 às 23h45</td>\n",
       "      <td>Não resolvido</td>\n",
       "      <td>Não</td>\n",
       "      <td>0</td>\n",
       "    </tr>\n",
       "  </tbody>\n",
       "</table>\n",
       "</div>"
      ],
      "text/plain": [
       "                 location               date  \\\n",
       "0             Maceió - AL  27/07/21 às 00h45   \n",
       "1          São Paulo - SP  26/07/21 às 16h52   \n",
       "2  Armação de Búzios - RJ  26/07/21 às 16h27   \n",
       "3              Cotia - SP  26/07/21 às 15h15   \n",
       "4           CAMBORIU - SC  24/07/21 às 23h01   \n",
       "\n",
       "                                               title  \\\n",
       "0                                 Quero fazer acordo   \n",
       "1  Estou sendo perseguido pela logística do cdd d...   \n",
       "2                                     Código cliente   \n",
       "3                       Não aumentam prazo do boleto   \n",
       "4                                        Equipamento   \n",
       "\n",
       "                                              coment  \\\n",
       "0  Fiz uma compra em seguida acabei fechando e nã...   \n",
       "1  Ha oito meses estou sendo perseguido pela logí...   \n",
       "2  Realizei o cadastro no app e já faz dias, não ...   \n",
       "3  Deixo aqui, minha grande insatisfação com AMBE...   \n",
       "4  Aguardando equipamento para meu comercio desde...   \n",
       "\n",
       "                                              answer        time_answer  \\\n",
       "0  Olá Alame,\\n\\nEnviamos as orientações de seu c...  29/07/21 às 13h06   \n",
       "1  Olá Alexandre,\\n\\nInformamos que encaminhamos ...  27/07/21 às 11h27   \n",
       "2  Olá Adriana,\\n\\nConforme conversamos, o sistem...  28/07/21 às 13h28   \n",
       "3  Olá Tadeu,\\n\\nInformamos que encaminhamos seu ...  27/07/21 às 11h04   \n",
       "4  Olá, William.\\n\\nInformamos que sua solicitaçã...  26/07/21 às 12h13   \n",
       "\n",
       "                                  coment_client_text        time_client  \\\n",
       "0                                 Muito satisfatório  29/07/21 às 13h21   \n",
       "1                                            Pessimo  27/07/21 às 11h30   \n",
       "2  Fui muito bem atendida e orientada. O represen...  28/07/21 às 17h39   \n",
       "3  Vocês não trabalham com verdade, meu score no ...  27/07/21 às 15h59   \n",
       "4                                                  9  27/07/21 às 23h45   \n",
       "\n",
       "        resolved business  assessment  \n",
       "0      Resolvido      Sim           8  \n",
       "1  Não resolvido      Não           0  \n",
       "2      Resolvido      Sim          10  \n",
       "3  Não resolvido      Não           0  \n",
       "4  Não resolvido      Não           0  "
      ]
     },
     "execution_count": 6,
     "metadata": {},
     "output_type": "execute_result"
    }
   ],
   "source": [
    "df.head()"
   ]
  },
  {
   "cell_type": "markdown",
   "metadata": {},
   "source": [
    "### Treatment"
   ]
  },
  {
   "cell_type": "markdown",
   "metadata": {},
   "source": [
    "##### Date fields to datetime"
   ]
  },
  {
   "cell_type": "code",
   "execution_count": 7,
   "metadata": {
    "scrolled": true
   },
   "outputs": [],
   "source": [
    "df['date'] = df['date'].apply(lambda x: x.replace('/', '-').replace('às ', '').replace('h', ':'))\n",
    "df['date'] = pd.to_datetime(df['date'], dayfirst=True)"
   ]
  },
  {
   "cell_type": "code",
   "execution_count": 8,
   "metadata": {},
   "outputs": [],
   "source": [
    "df['time_answer'] = df['time_answer'].apply(lambda x: x.replace('/', '-').replace('às ', '').replace('h', ':') if type(x) != float else x)\n",
    "df['time_answer'] = pd.to_datetime(df['time_answer'], dayfirst=True)"
   ]
  },
  {
   "cell_type": "code",
   "execution_count": 9,
   "metadata": {},
   "outputs": [],
   "source": [
    "df['time_client'] = df['time_client'].apply(lambda x: x.replace('/', '-').replace('às ', '').replace('h', ':'))  \n",
    "df['time_client'] = pd.to_datetime(df['time_client'], dayfirst=True)"
   ]
  },
  {
   "cell_type": "code",
   "execution_count": 10,
   "metadata": {
    "scrolled": true
   },
   "outputs": [
    {
     "name": "stdout",
     "output_type": "stream",
     "text": [
      "<class 'pandas.core.frame.DataFrame'>\n",
      "RangeIndex: 1010 entries, 0 to 1009\n",
      "Data columns (total 11 columns):\n",
      " #   Column              Non-Null Count  Dtype         \n",
      "---  ------              --------------  -----         \n",
      " 0   location            1010 non-null   object        \n",
      " 1   date                1010 non-null   datetime64[ns]\n",
      " 2   title               1010 non-null   object        \n",
      " 3   coment              1010 non-null   object        \n",
      " 4   answer              1001 non-null   object        \n",
      " 5   time_answer         1001 non-null   datetime64[ns]\n",
      " 6   coment_client_text  1010 non-null   object        \n",
      " 7   time_client         1010 non-null   datetime64[ns]\n",
      " 8   resolved            1010 non-null   object        \n",
      " 9   business            1010 non-null   object        \n",
      " 10  assessment          1010 non-null   int64         \n",
      "dtypes: datetime64[ns](3), int64(1), object(7)\n",
      "memory usage: 86.9+ KB\n"
     ]
    }
   ],
   "source": [
    "df.info()"
   ]
  },
  {
   "cell_type": "markdown",
   "metadata": {},
   "source": [
    "###### Line breaks in comments"
   ]
  },
  {
   "cell_type": "code",
   "execution_count": 11,
   "metadata": {},
   "outputs": [],
   "source": [
    "df['answer'] = df['answer'].apply(lambda x: x.replace('\\n', '') if type(x) != float else x)"
   ]
  },
  {
   "cell_type": "code",
   "execution_count": 12,
   "metadata": {},
   "outputs": [
    {
     "data": {
      "text/plain": [
       "0    Olá Alame,Enviamos as orientações de seu caso ...\n",
       "1    Olá Alexandre,Informamos que encaminhamos o se...\n",
       "2    Olá Adriana,Conforme conversamos, o sistema nã...\n",
       "3    Olá Tadeu,Informamos que encaminhamos seu caso...\n",
       "4    Olá, William.Informamos que sua solicitação fo...\n",
       "Name: answer, dtype: object"
      ]
     },
     "execution_count": 12,
     "metadata": {},
     "output_type": "execute_result"
    }
   ],
   "source": [
    "df['answer'].head()"
   ]
  },
  {
   "cell_type": "code",
   "execution_count": 13,
   "metadata": {},
   "outputs": [],
   "source": [
    "df['coment'] = df['coment'].apply(lambda x: x.replace('\\n', '') if type(x) != float else x)"
   ]
  },
  {
   "cell_type": "code",
   "execution_count": 14,
   "metadata": {},
   "outputs": [
    {
     "data": {
      "text/plain": [
       "0    Fiz uma compra em seguida acabei fechando e nã...\n",
       "1    Ha oito meses estou sendo perseguido pela logí...\n",
       "2    Realizei o cadastro no app e já faz dias, não ...\n",
       "3    Deixo aqui, minha grande insatisfação com AMBE...\n",
       "4    Aguardando equipamento para meu comercio desde...\n",
       "Name: coment, dtype: object"
      ]
     },
     "execution_count": 14,
     "metadata": {},
     "output_type": "execute_result"
    }
   ],
   "source": [
    "df['coment'].head()"
   ]
  },
  {
   "cell_type": "code",
   "execution_count": 15,
   "metadata": {},
   "outputs": [],
   "source": [
    "df['coment_client_text'] = df['coment_client_text'].apply(lambda x: x.replace('\\n', '') if type(x) != float else x)"
   ]
  },
  {
   "cell_type": "code",
   "execution_count": 16,
   "metadata": {
    "scrolled": true
   },
   "outputs": [
    {
     "data": {
      "text/plain": [
       "0                                   Muito satisfatório\n",
       "1                                              Pessimo\n",
       "2    Fui muito bem atendida e orientada. O represen...\n",
       "3    Vocês não trabalham com verdade, meu score no ...\n",
       "4                                                    9\n",
       "Name: coment_client_text, dtype: object"
      ]
     },
     "execution_count": 16,
     "metadata": {},
     "output_type": "execute_result"
    }
   ],
   "source": [
    "df['coment_client_text'].head()"
   ]
  },
  {
   "cell_type": "code",
   "execution_count": 17,
   "metadata": {
    "scrolled": true
   },
   "outputs": [
    {
     "data": {
      "text/html": [
       "<div>\n",
       "<style scoped>\n",
       "    .dataframe tbody tr th:only-of-type {\n",
       "        vertical-align: middle;\n",
       "    }\n",
       "\n",
       "    .dataframe tbody tr th {\n",
       "        vertical-align: top;\n",
       "    }\n",
       "\n",
       "    .dataframe thead th {\n",
       "        text-align: right;\n",
       "    }\n",
       "</style>\n",
       "<table border=\"1\" class=\"dataframe\">\n",
       "  <thead>\n",
       "    <tr style=\"text-align: right;\">\n",
       "      <th></th>\n",
       "      <th>date</th>\n",
       "      <th>title</th>\n",
       "      <th>coment</th>\n",
       "      <th>answer</th>\n",
       "      <th>time_answer</th>\n",
       "      <th>coment_client_text</th>\n",
       "      <th>time_client</th>\n",
       "      <th>resolved</th>\n",
       "      <th>business</th>\n",
       "      <th>assessment</th>\n",
       "      <th>city</th>\n",
       "      <th>uf</th>\n",
       "    </tr>\n",
       "  </thead>\n",
       "  <tbody>\n",
       "    <tr>\n",
       "      <th>0</th>\n",
       "      <td>2021-07-27 00:45:00</td>\n",
       "      <td>Quero fazer acordo</td>\n",
       "      <td>Fiz uma compra em seguida acabei fechando e nã...</td>\n",
       "      <td>Olá Alame,Enviamos as orientações de seu caso ...</td>\n",
       "      <td>2021-07-29 13:06:00</td>\n",
       "      <td>Muito satisfatório</td>\n",
       "      <td>2021-07-29 13:21:00</td>\n",
       "      <td>Resolvido</td>\n",
       "      <td>Sim</td>\n",
       "      <td>8</td>\n",
       "      <td>Maceió</td>\n",
       "      <td>AL</td>\n",
       "    </tr>\n",
       "  </tbody>\n",
       "</table>\n",
       "</div>"
      ],
      "text/plain": [
       "                 date               title  \\\n",
       "0 2021-07-27 00:45:00  Quero fazer acordo   \n",
       "\n",
       "                                              coment  \\\n",
       "0  Fiz uma compra em seguida acabei fechando e nã...   \n",
       "\n",
       "                                              answer         time_answer  \\\n",
       "0  Olá Alame,Enviamos as orientações de seu caso ... 2021-07-29 13:06:00   \n",
       "\n",
       "   coment_client_text         time_client   resolved business  assessment  \\\n",
       "0  Muito satisfatório 2021-07-29 13:21:00  Resolvido      Sim           8   \n",
       "\n",
       "     city  uf  \n",
       "0  Maceió  AL  "
      ]
     },
     "execution_count": 17,
     "metadata": {},
     "output_type": "execute_result"
    }
   ],
   "source": [
    "df[['city', 'uf']] = df['location'].str.split(' - ', expand=True)\n",
    "df.drop(columns=['location'], inplace=True)\n",
    "df.head(1)"
   ]
  },
  {
   "cell_type": "code",
   "execution_count": 18,
   "metadata": {},
   "outputs": [],
   "source": [
    "new_columns = ['date', 'uf', 'city', 'title', 'coment', 'answer', 'time_answer', \n",
    "               'coment_client_text', 'time_client', 'resolved', 'business', 'assessment']\n",
    "\n",
    "df = df.reindex(columns=new_columns)"
   ]
  },
  {
   "cell_type": "code",
   "execution_count": 19,
   "metadata": {
    "scrolled": true
   },
   "outputs": [
    {
     "data": {
      "text/html": [
       "<div>\n",
       "<style scoped>\n",
       "    .dataframe tbody tr th:only-of-type {\n",
       "        vertical-align: middle;\n",
       "    }\n",
       "\n",
       "    .dataframe tbody tr th {\n",
       "        vertical-align: top;\n",
       "    }\n",
       "\n",
       "    .dataframe thead th {\n",
       "        text-align: right;\n",
       "    }\n",
       "</style>\n",
       "<table border=\"1\" class=\"dataframe\">\n",
       "  <thead>\n",
       "    <tr style=\"text-align: right;\">\n",
       "      <th></th>\n",
       "      <th>date</th>\n",
       "      <th>uf</th>\n",
       "      <th>city</th>\n",
       "      <th>title</th>\n",
       "      <th>coment</th>\n",
       "      <th>answer</th>\n",
       "      <th>time_answer</th>\n",
       "      <th>coment_client_text</th>\n",
       "      <th>time_client</th>\n",
       "      <th>resolved</th>\n",
       "      <th>business</th>\n",
       "      <th>assessment</th>\n",
       "    </tr>\n",
       "  </thead>\n",
       "  <tbody>\n",
       "    <tr>\n",
       "      <th>0</th>\n",
       "      <td>2021-07-27 00:45:00</td>\n",
       "      <td>AL</td>\n",
       "      <td>Maceió</td>\n",
       "      <td>Quero fazer acordo</td>\n",
       "      <td>Fiz uma compra em seguida acabei fechando e nã...</td>\n",
       "      <td>Olá Alame,Enviamos as orientações de seu caso ...</td>\n",
       "      <td>2021-07-29 13:06:00</td>\n",
       "      <td>Muito satisfatório</td>\n",
       "      <td>2021-07-29 13:21:00</td>\n",
       "      <td>Resolvido</td>\n",
       "      <td>Sim</td>\n",
       "      <td>8</td>\n",
       "    </tr>\n",
       "    <tr>\n",
       "      <th>1</th>\n",
       "      <td>2021-07-26 16:52:00</td>\n",
       "      <td>SP</td>\n",
       "      <td>São Paulo</td>\n",
       "      <td>Estou sendo perseguido pela logística do cdd d...</td>\n",
       "      <td>Ha oito meses estou sendo perseguido pela logí...</td>\n",
       "      <td>Olá Alexandre,Informamos que encaminhamos o se...</td>\n",
       "      <td>2021-07-27 11:27:00</td>\n",
       "      <td>Pessimo</td>\n",
       "      <td>2021-07-27 11:30:00</td>\n",
       "      <td>Não resolvido</td>\n",
       "      <td>Não</td>\n",
       "      <td>0</td>\n",
       "    </tr>\n",
       "    <tr>\n",
       "      <th>2</th>\n",
       "      <td>2021-07-26 16:27:00</td>\n",
       "      <td>RJ</td>\n",
       "      <td>Armação de Búzios</td>\n",
       "      <td>Código cliente</td>\n",
       "      <td>Realizei o cadastro no app e já faz dias, não ...</td>\n",
       "      <td>Olá Adriana,Conforme conversamos, o sistema nã...</td>\n",
       "      <td>2021-07-28 13:28:00</td>\n",
       "      <td>Fui muito bem atendida e orientada. O represen...</td>\n",
       "      <td>2021-07-28 17:39:00</td>\n",
       "      <td>Resolvido</td>\n",
       "      <td>Sim</td>\n",
       "      <td>10</td>\n",
       "    </tr>\n",
       "    <tr>\n",
       "      <th>3</th>\n",
       "      <td>2021-07-26 15:15:00</td>\n",
       "      <td>SP</td>\n",
       "      <td>Cotia</td>\n",
       "      <td>Não aumentam prazo do boleto</td>\n",
       "      <td>Deixo aqui, minha grande insatisfação com AMBE...</td>\n",
       "      <td>Olá Tadeu,Informamos que encaminhamos seu caso...</td>\n",
       "      <td>2021-07-27 11:04:00</td>\n",
       "      <td>Vocês não trabalham com verdade, meu score no ...</td>\n",
       "      <td>2021-07-27 15:59:00</td>\n",
       "      <td>Não resolvido</td>\n",
       "      <td>Não</td>\n",
       "      <td>0</td>\n",
       "    </tr>\n",
       "    <tr>\n",
       "      <th>4</th>\n",
       "      <td>2021-07-24 23:01:00</td>\n",
       "      <td>SC</td>\n",
       "      <td>CAMBORIU</td>\n",
       "      <td>Equipamento</td>\n",
       "      <td>Aguardando equipamento para meu comercio desde...</td>\n",
       "      <td>Olá, William.Informamos que sua solicitação fo...</td>\n",
       "      <td>2021-07-26 12:13:00</td>\n",
       "      <td>9</td>\n",
       "      <td>2021-07-27 23:45:00</td>\n",
       "      <td>Não resolvido</td>\n",
       "      <td>Não</td>\n",
       "      <td>0</td>\n",
       "    </tr>\n",
       "  </tbody>\n",
       "</table>\n",
       "</div>"
      ],
      "text/plain": [
       "                 date  uf               city  \\\n",
       "0 2021-07-27 00:45:00  AL             Maceió   \n",
       "1 2021-07-26 16:52:00  SP          São Paulo   \n",
       "2 2021-07-26 16:27:00  RJ  Armação de Búzios   \n",
       "3 2021-07-26 15:15:00  SP              Cotia   \n",
       "4 2021-07-24 23:01:00  SC           CAMBORIU   \n",
       "\n",
       "                                               title  \\\n",
       "0                                 Quero fazer acordo   \n",
       "1  Estou sendo perseguido pela logística do cdd d...   \n",
       "2                                     Código cliente   \n",
       "3                       Não aumentam prazo do boleto   \n",
       "4                                        Equipamento   \n",
       "\n",
       "                                              coment  \\\n",
       "0  Fiz uma compra em seguida acabei fechando e nã...   \n",
       "1  Ha oito meses estou sendo perseguido pela logí...   \n",
       "2  Realizei o cadastro no app e já faz dias, não ...   \n",
       "3  Deixo aqui, minha grande insatisfação com AMBE...   \n",
       "4  Aguardando equipamento para meu comercio desde...   \n",
       "\n",
       "                                              answer         time_answer  \\\n",
       "0  Olá Alame,Enviamos as orientações de seu caso ... 2021-07-29 13:06:00   \n",
       "1  Olá Alexandre,Informamos que encaminhamos o se... 2021-07-27 11:27:00   \n",
       "2  Olá Adriana,Conforme conversamos, o sistema nã... 2021-07-28 13:28:00   \n",
       "3  Olá Tadeu,Informamos que encaminhamos seu caso... 2021-07-27 11:04:00   \n",
       "4  Olá, William.Informamos que sua solicitação fo... 2021-07-26 12:13:00   \n",
       "\n",
       "                                  coment_client_text         time_client  \\\n",
       "0                                 Muito satisfatório 2021-07-29 13:21:00   \n",
       "1                                            Pessimo 2021-07-27 11:30:00   \n",
       "2  Fui muito bem atendida e orientada. O represen... 2021-07-28 17:39:00   \n",
       "3  Vocês não trabalham com verdade, meu score no ... 2021-07-27 15:59:00   \n",
       "4                                                  9 2021-07-27 23:45:00   \n",
       "\n",
       "        resolved business  assessment  \n",
       "0      Resolvido      Sim           8  \n",
       "1  Não resolvido      Não           0  \n",
       "2      Resolvido      Sim          10  \n",
       "3  Não resolvido      Não           0  \n",
       "4  Não resolvido      Não           0  "
      ]
     },
     "execution_count": 19,
     "metadata": {},
     "output_type": "execute_result"
    }
   ],
   "source": [
    "df.head()"
   ]
  },
  {
   "cell_type": "code",
   "execution_count": 20,
   "metadata": {},
   "outputs": [
    {
     "name": "stdout",
     "output_type": "stream",
     "text": [
      "<class 'pandas.core.frame.DataFrame'>\n",
      "RangeIndex: 1010 entries, 0 to 1009\n",
      "Data columns (total 12 columns):\n",
      " #   Column              Non-Null Count  Dtype         \n",
      "---  ------              --------------  -----         \n",
      " 0   date                1010 non-null   datetime64[ns]\n",
      " 1   uf                  1010 non-null   object        \n",
      " 2   city                1010 non-null   object        \n",
      " 3   title               1010 non-null   object        \n",
      " 4   coment              1010 non-null   object        \n",
      " 5   answer              1001 non-null   object        \n",
      " 6   time_answer         1001 non-null   datetime64[ns]\n",
      " 7   coment_client_text  1010 non-null   object        \n",
      " 8   time_client         1010 non-null   datetime64[ns]\n",
      " 9   resolved            1010 non-null   object        \n",
      " 10  business            1010 non-null   object        \n",
      " 11  assessment          1010 non-null   int64         \n",
      "dtypes: datetime64[ns](3), int64(1), object(8)\n",
      "memory usage: 94.8+ KB\n"
     ]
    }
   ],
   "source": [
    "df.info()"
   ]
  },
  {
   "cell_type": "code",
   "execution_count": 21,
   "metadata": {},
   "outputs": [],
   "source": [
    "df.to_csv(r'datasets\\reclame_aqui_completo_ambev_v2.csv', index=False)"
   ]
  }
 ],
 "metadata": {
  "kernelspec": {
   "display_name": "Python 3",
   "language": "python",
   "name": "python3"
  },
  "language_info": {
   "codemirror_mode": {
    "name": "ipython",
    "version": 3
   },
   "file_extension": ".py",
   "mimetype": "text/x-python",
   "name": "python",
   "nbconvert_exporter": "python",
   "pygments_lexer": "ipython3",
   "version": "3.8.8"
  }
 },
 "nbformat": 4,
 "nbformat_minor": 4
}
