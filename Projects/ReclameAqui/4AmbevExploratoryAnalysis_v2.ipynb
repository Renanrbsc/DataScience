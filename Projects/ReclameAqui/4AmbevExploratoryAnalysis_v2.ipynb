{
 "cells": [
  {
   "cell_type": "code",
   "execution_count": 1,
   "metadata": {},
   "outputs": [],
   "source": [
    "import pandas as pd"
   ]
  },
  {
   "cell_type": "code",
   "execution_count": 2,
   "metadata": {},
   "outputs": [
    {
     "name": "stdout",
     "output_type": "stream",
     "text": [
      "<class 'pandas.core.frame.DataFrame'>\n",
      "RangeIndex: 1010 entries, 0 to 1009\n",
      "Data columns (total 12 columns):\n",
      " #   Column              Non-Null Count  Dtype         \n",
      "---  ------              --------------  -----         \n",
      " 0   date                1010 non-null   datetime64[ns]\n",
      " 1   uf                  1010 non-null   object        \n",
      " 2   city                1010 non-null   object        \n",
      " 3   title               1010 non-null   object        \n",
      " 4   coment              1010 non-null   object        \n",
      " 5   answer              1001 non-null   object        \n",
      " 6   time_answer         1001 non-null   datetime64[ns]\n",
      " 7   coment_client_text  1010 non-null   object        \n",
      " 8   time_client         1010 non-null   datetime64[ns]\n",
      " 9   resolved            1010 non-null   object        \n",
      " 10  business            1010 non-null   object        \n",
      " 11  assessment          1010 non-null   int64         \n",
      "dtypes: datetime64[ns](3), int64(1), object(8)\n",
      "memory usage: 94.8+ KB\n"
     ]
    }
   ],
   "source": [
    "df = pd.read_csv(r'datasets\\reclame_aqui_completo_ambev_v3.csv', \n",
    "                 parse_dates=['date', 'time_answer', 'time_client'],\n",
    "                 index_col=False)\n",
    "df.info()"
   ]
  },
  {
   "cell_type": "code",
   "execution_count": 3,
   "metadata": {},
   "outputs": [
    {
     "data": {
      "text/html": [
       "<div>\n",
       "<style scoped>\n",
       "    .dataframe tbody tr th:only-of-type {\n",
       "        vertical-align: middle;\n",
       "    }\n",
       "\n",
       "    .dataframe tbody tr th {\n",
       "        vertical-align: top;\n",
       "    }\n",
       "\n",
       "    .dataframe thead th {\n",
       "        text-align: right;\n",
       "    }\n",
       "</style>\n",
       "<table border=\"1\" class=\"dataframe\">\n",
       "  <thead>\n",
       "    <tr style=\"text-align: right;\">\n",
       "      <th></th>\n",
       "      <th>date</th>\n",
       "      <th>uf</th>\n",
       "      <th>city</th>\n",
       "      <th>title</th>\n",
       "      <th>coment</th>\n",
       "      <th>answer</th>\n",
       "      <th>time_answer</th>\n",
       "      <th>coment_client_text</th>\n",
       "      <th>time_client</th>\n",
       "      <th>resolved</th>\n",
       "      <th>business</th>\n",
       "      <th>assessment</th>\n",
       "    </tr>\n",
       "  </thead>\n",
       "  <tbody>\n",
       "    <tr>\n",
       "      <th>0</th>\n",
       "      <td>2021-07-27 00:45:00</td>\n",
       "      <td>AL</td>\n",
       "      <td>Maceió</td>\n",
       "      <td>Quero fazer acordo</td>\n",
       "      <td>Fiz uma compra em seguida acabei fechando e nã...</td>\n",
       "      <td>Olá Alame,Enviamos as orientações de seu caso ...</td>\n",
       "      <td>2021-07-29 13:06:00</td>\n",
       "      <td>Muito satisfatório</td>\n",
       "      <td>2021-07-29 13:21:00</td>\n",
       "      <td>Resolvido</td>\n",
       "      <td>Sim</td>\n",
       "      <td>8</td>\n",
       "    </tr>\n",
       "    <tr>\n",
       "      <th>1</th>\n",
       "      <td>2021-07-26 16:52:00</td>\n",
       "      <td>SP</td>\n",
       "      <td>São Paulo</td>\n",
       "      <td>Estou sendo perseguido pela logística do cdd d...</td>\n",
       "      <td>Ha oito meses estou sendo perseguido pela logí...</td>\n",
       "      <td>Olá Alexandre,Informamos que encaminhamos o se...</td>\n",
       "      <td>2021-07-27 11:27:00</td>\n",
       "      <td>Pessimo</td>\n",
       "      <td>2021-07-27 11:30:00</td>\n",
       "      <td>Não resolvido</td>\n",
       "      <td>Não</td>\n",
       "      <td>0</td>\n",
       "    </tr>\n",
       "    <tr>\n",
       "      <th>2</th>\n",
       "      <td>2021-07-26 16:27:00</td>\n",
       "      <td>RJ</td>\n",
       "      <td>Armação dos Búzios</td>\n",
       "      <td>Código cliente</td>\n",
       "      <td>Realizei o cadastro no app e já faz dias, não ...</td>\n",
       "      <td>Olá Adriana,Conforme conversamos, o sistema nã...</td>\n",
       "      <td>2021-07-28 13:28:00</td>\n",
       "      <td>Fui muito bem atendida e orientada. O represen...</td>\n",
       "      <td>2021-07-28 17:39:00</td>\n",
       "      <td>Resolvido</td>\n",
       "      <td>Sim</td>\n",
       "      <td>10</td>\n",
       "    </tr>\n",
       "    <tr>\n",
       "      <th>3</th>\n",
       "      <td>2021-07-26 15:15:00</td>\n",
       "      <td>SP</td>\n",
       "      <td>Cotia</td>\n",
       "      <td>Não aumentam prazo do boleto</td>\n",
       "      <td>Deixo aqui, minha grande insatisfação com AMBE...</td>\n",
       "      <td>Olá Tadeu,Informamos que encaminhamos seu caso...</td>\n",
       "      <td>2021-07-27 11:04:00</td>\n",
       "      <td>Vocês não trabalham com verdade, meu score no ...</td>\n",
       "      <td>2021-07-27 15:59:00</td>\n",
       "      <td>Não resolvido</td>\n",
       "      <td>Não</td>\n",
       "      <td>0</td>\n",
       "    </tr>\n",
       "    <tr>\n",
       "      <th>4</th>\n",
       "      <td>2021-07-24 23:01:00</td>\n",
       "      <td>SC</td>\n",
       "      <td>Camboriú</td>\n",
       "      <td>Equipamento</td>\n",
       "      <td>Aguardando equipamento para meu comercio desde...</td>\n",
       "      <td>Olá, William.Informamos que sua solicitação fo...</td>\n",
       "      <td>2021-07-26 12:13:00</td>\n",
       "      <td>9</td>\n",
       "      <td>2021-07-27 23:45:00</td>\n",
       "      <td>Não resolvido</td>\n",
       "      <td>Não</td>\n",
       "      <td>0</td>\n",
       "    </tr>\n",
       "  </tbody>\n",
       "</table>\n",
       "</div>"
      ],
      "text/plain": [
       "                 date  uf                city  \\\n",
       "0 2021-07-27 00:45:00  AL              Maceió   \n",
       "1 2021-07-26 16:52:00  SP           São Paulo   \n",
       "2 2021-07-26 16:27:00  RJ  Armação dos Búzios   \n",
       "3 2021-07-26 15:15:00  SP               Cotia   \n",
       "4 2021-07-24 23:01:00  SC            Camboriú   \n",
       "\n",
       "                                               title  \\\n",
       "0                                 Quero fazer acordo   \n",
       "1  Estou sendo perseguido pela logística do cdd d...   \n",
       "2                                     Código cliente   \n",
       "3                       Não aumentam prazo do boleto   \n",
       "4                                        Equipamento   \n",
       "\n",
       "                                              coment  \\\n",
       "0  Fiz uma compra em seguida acabei fechando e nã...   \n",
       "1  Ha oito meses estou sendo perseguido pela logí...   \n",
       "2  Realizei o cadastro no app e já faz dias, não ...   \n",
       "3  Deixo aqui, minha grande insatisfação com AMBE...   \n",
       "4  Aguardando equipamento para meu comercio desde...   \n",
       "\n",
       "                                              answer         time_answer  \\\n",
       "0  Olá Alame,Enviamos as orientações de seu caso ... 2021-07-29 13:06:00   \n",
       "1  Olá Alexandre,Informamos que encaminhamos o se... 2021-07-27 11:27:00   \n",
       "2  Olá Adriana,Conforme conversamos, o sistema nã... 2021-07-28 13:28:00   \n",
       "3  Olá Tadeu,Informamos que encaminhamos seu caso... 2021-07-27 11:04:00   \n",
       "4  Olá, William.Informamos que sua solicitação fo... 2021-07-26 12:13:00   \n",
       "\n",
       "                                  coment_client_text         time_client  \\\n",
       "0                                 Muito satisfatório 2021-07-29 13:21:00   \n",
       "1                                            Pessimo 2021-07-27 11:30:00   \n",
       "2  Fui muito bem atendida e orientada. O represen... 2021-07-28 17:39:00   \n",
       "3  Vocês não trabalham com verdade, meu score no ... 2021-07-27 15:59:00   \n",
       "4                                                  9 2021-07-27 23:45:00   \n",
       "\n",
       "        resolved business  assessment  \n",
       "0      Resolvido      Sim           8  \n",
       "1  Não resolvido      Não           0  \n",
       "2      Resolvido      Sim          10  \n",
       "3  Não resolvido      Não           0  \n",
       "4  Não resolvido      Não           0  "
      ]
     },
     "execution_count": 3,
     "metadata": {},
     "output_type": "execute_result"
    }
   ],
   "source": [
    "df.head()"
   ]
  },
  {
   "cell_type": "markdown",
   "metadata": {},
   "source": [
    "### Seaborn"
   ]
  },
  {
   "cell_type": "code",
   "execution_count": 4,
   "metadata": {},
   "outputs": [],
   "source": [
    "import seaborn as sns\n",
    "import matplotlib.pyplot as plt\n",
    "\n",
    "%matplotlib inline\n"
   ]
  },
  {
   "cell_type": "code",
   "execution_count": 5,
   "metadata": {
    "scrolled": true
   },
   "outputs": [
    {
     "data": {
      "text/html": [
       "<div>\n",
       "<style scoped>\n",
       "    .dataframe tbody tr th:only-of-type {\n",
       "        vertical-align: middle;\n",
       "    }\n",
       "\n",
       "    .dataframe tbody tr th {\n",
       "        vertical-align: top;\n",
       "    }\n",
       "\n",
       "    .dataframe thead th {\n",
       "        text-align: right;\n",
       "    }\n",
       "</style>\n",
       "<table border=\"1\" class=\"dataframe\">\n",
       "  <thead>\n",
       "    <tr style=\"text-align: right;\">\n",
       "      <th></th>\n",
       "      <th>date</th>\n",
       "      <th>uf</th>\n",
       "      <th>city</th>\n",
       "      <th>title</th>\n",
       "      <th>coment</th>\n",
       "      <th>answer</th>\n",
       "      <th>time_answer</th>\n",
       "      <th>coment_client_text</th>\n",
       "      <th>time_client</th>\n",
       "      <th>resolved</th>\n",
       "      <th>business</th>\n",
       "      <th>assessment</th>\n",
       "    </tr>\n",
       "  </thead>\n",
       "  <tbody>\n",
       "    <tr>\n",
       "      <th>0</th>\n",
       "      <td>2021-07-27 00:45:00</td>\n",
       "      <td>AL</td>\n",
       "      <td>Maceió</td>\n",
       "      <td>Quero fazer acordo</td>\n",
       "      <td>Fiz uma compra em seguida acabei fechando e nã...</td>\n",
       "      <td>Olá Alame,Enviamos as orientações de seu caso ...</td>\n",
       "      <td>2021-07-29 13:06:00</td>\n",
       "      <td>Muito satisfatório</td>\n",
       "      <td>2021-07-29 13:21:00</td>\n",
       "      <td>Resolvido</td>\n",
       "      <td>Sim</td>\n",
       "      <td>8</td>\n",
       "    </tr>\n",
       "    <tr>\n",
       "      <th>1</th>\n",
       "      <td>2021-07-26 16:52:00</td>\n",
       "      <td>SP</td>\n",
       "      <td>São Paulo</td>\n",
       "      <td>Estou sendo perseguido pela logística do cdd d...</td>\n",
       "      <td>Ha oito meses estou sendo perseguido pela logí...</td>\n",
       "      <td>Olá Alexandre,Informamos que encaminhamos o se...</td>\n",
       "      <td>2021-07-27 11:27:00</td>\n",
       "      <td>Pessimo</td>\n",
       "      <td>2021-07-27 11:30:00</td>\n",
       "      <td>Não resolvido</td>\n",
       "      <td>Não</td>\n",
       "      <td>0</td>\n",
       "    </tr>\n",
       "    <tr>\n",
       "      <th>2</th>\n",
       "      <td>2021-07-26 16:27:00</td>\n",
       "      <td>RJ</td>\n",
       "      <td>Armação dos Búzios</td>\n",
       "      <td>Código cliente</td>\n",
       "      <td>Realizei o cadastro no app e já faz dias, não ...</td>\n",
       "      <td>Olá Adriana,Conforme conversamos, o sistema nã...</td>\n",
       "      <td>2021-07-28 13:28:00</td>\n",
       "      <td>Fui muito bem atendida e orientada. O represen...</td>\n",
       "      <td>2021-07-28 17:39:00</td>\n",
       "      <td>Resolvido</td>\n",
       "      <td>Sim</td>\n",
       "      <td>10</td>\n",
       "    </tr>\n",
       "    <tr>\n",
       "      <th>3</th>\n",
       "      <td>2021-07-26 15:15:00</td>\n",
       "      <td>SP</td>\n",
       "      <td>Cotia</td>\n",
       "      <td>Não aumentam prazo do boleto</td>\n",
       "      <td>Deixo aqui, minha grande insatisfação com AMBE...</td>\n",
       "      <td>Olá Tadeu,Informamos que encaminhamos seu caso...</td>\n",
       "      <td>2021-07-27 11:04:00</td>\n",
       "      <td>Vocês não trabalham com verdade, meu score no ...</td>\n",
       "      <td>2021-07-27 15:59:00</td>\n",
       "      <td>Não resolvido</td>\n",
       "      <td>Não</td>\n",
       "      <td>0</td>\n",
       "    </tr>\n",
       "    <tr>\n",
       "      <th>4</th>\n",
       "      <td>2021-07-24 23:01:00</td>\n",
       "      <td>SC</td>\n",
       "      <td>Camboriú</td>\n",
       "      <td>Equipamento</td>\n",
       "      <td>Aguardando equipamento para meu comercio desde...</td>\n",
       "      <td>Olá, William.Informamos que sua solicitação fo...</td>\n",
       "      <td>2021-07-26 12:13:00</td>\n",
       "      <td>9</td>\n",
       "      <td>2021-07-27 23:45:00</td>\n",
       "      <td>Não resolvido</td>\n",
       "      <td>Não</td>\n",
       "      <td>0</td>\n",
       "    </tr>\n",
       "  </tbody>\n",
       "</table>\n",
       "</div>"
      ],
      "text/plain": [
       "                 date  uf                city  \\\n",
       "0 2021-07-27 00:45:00  AL              Maceió   \n",
       "1 2021-07-26 16:52:00  SP           São Paulo   \n",
       "2 2021-07-26 16:27:00  RJ  Armação dos Búzios   \n",
       "3 2021-07-26 15:15:00  SP               Cotia   \n",
       "4 2021-07-24 23:01:00  SC            Camboriú   \n",
       "\n",
       "                                               title  \\\n",
       "0                                 Quero fazer acordo   \n",
       "1  Estou sendo perseguido pela logística do cdd d...   \n",
       "2                                     Código cliente   \n",
       "3                       Não aumentam prazo do boleto   \n",
       "4                                        Equipamento   \n",
       "\n",
       "                                              coment  \\\n",
       "0  Fiz uma compra em seguida acabei fechando e nã...   \n",
       "1  Ha oito meses estou sendo perseguido pela logí...   \n",
       "2  Realizei o cadastro no app e já faz dias, não ...   \n",
       "3  Deixo aqui, minha grande insatisfação com AMBE...   \n",
       "4  Aguardando equipamento para meu comercio desde...   \n",
       "\n",
       "                                              answer         time_answer  \\\n",
       "0  Olá Alame,Enviamos as orientações de seu caso ... 2021-07-29 13:06:00   \n",
       "1  Olá Alexandre,Informamos que encaminhamos o se... 2021-07-27 11:27:00   \n",
       "2  Olá Adriana,Conforme conversamos, o sistema nã... 2021-07-28 13:28:00   \n",
       "3  Olá Tadeu,Informamos que encaminhamos seu caso... 2021-07-27 11:04:00   \n",
       "4  Olá, William.Informamos que sua solicitação fo... 2021-07-26 12:13:00   \n",
       "\n",
       "                                  coment_client_text         time_client  \\\n",
       "0                                 Muito satisfatório 2021-07-29 13:21:00   \n",
       "1                                            Pessimo 2021-07-27 11:30:00   \n",
       "2  Fui muito bem atendida e orientada. O represen... 2021-07-28 17:39:00   \n",
       "3  Vocês não trabalham com verdade, meu score no ... 2021-07-27 15:59:00   \n",
       "4                                                  9 2021-07-27 23:45:00   \n",
       "\n",
       "        resolved business  assessment  \n",
       "0      Resolvido      Sim           8  \n",
       "1  Não resolvido      Não           0  \n",
       "2      Resolvido      Sim          10  \n",
       "3  Não resolvido      Não           0  \n",
       "4  Não resolvido      Não           0  "
      ]
     },
     "execution_count": 5,
     "metadata": {},
     "output_type": "execute_result"
    }
   ],
   "source": [
    "df.head()"
   ]
  },
  {
   "cell_type": "markdown",
   "metadata": {},
   "source": [
    "#### Frequency of assessment in relation to the business"
   ]
  },
  {
   "cell_type": "code",
   "execution_count": 6,
   "metadata": {},
   "outputs": [],
   "source": [
    "assessment_no = df[df['business'] == 'Não'][['business', 'assessment']]\n",
    "assessment_yes = df[df['business'] == 'Sim'][['business', 'assessment']]\n",
    "assessment_total = df[['assessment']]"
   ]
  },
  {
   "cell_type": "code",
   "execution_count": 7,
   "metadata": {
    "scrolled": true
   },
   "outputs": [
    {
     "name": "stdout",
     "output_type": "stream",
     "text": [
      "Non-existent no note: 9\n"
     ]
    }
   ],
   "source": [
    "for i in range(11):\n",
    "    if not i in assessment_no['assessment'].unique():\n",
    "        print('Non-existent no note:', i)\n",
    "        \n",
    "    if not i in assessment_yes['assessment'].unique():\n",
    "        print('Non-existent yes note:', i)"
   ]
  },
  {
   "cell_type": "code",
   "execution_count": 8,
   "metadata": {},
   "outputs": [],
   "source": [
    "assessment_no = assessment_no.value_counts().rename('frequency').reset_index()\n",
    "assessment_yes = assessment_yes.value_counts().rename('frequency').reset_index()\n",
    "assessment_total = assessment_total.value_counts().rename('frequency').reset_index()"
   ]
  },
  {
   "cell_type": "code",
   "execution_count": 9,
   "metadata": {},
   "outputs": [
    {
     "data": {
      "text/html": [
       "<div>\n",
       "<style scoped>\n",
       "    .dataframe tbody tr th:only-of-type {\n",
       "        vertical-align: middle;\n",
       "    }\n",
       "\n",
       "    .dataframe tbody tr th {\n",
       "        vertical-align: top;\n",
       "    }\n",
       "\n",
       "    .dataframe thead th {\n",
       "        text-align: right;\n",
       "    }\n",
       "</style>\n",
       "<table border=\"1\" class=\"dataframe\">\n",
       "  <thead>\n",
       "    <tr style=\"text-align: right;\">\n",
       "      <th></th>\n",
       "      <th>business</th>\n",
       "      <th>assessment</th>\n",
       "      <th>frequency</th>\n",
       "    </tr>\n",
       "  </thead>\n",
       "  <tbody>\n",
       "    <tr>\n",
       "      <th>0</th>\n",
       "      <td>Não</td>\n",
       "      <td>0</td>\n",
       "      <td>138</td>\n",
       "    </tr>\n",
       "    <tr>\n",
       "      <th>1</th>\n",
       "      <td>Não</td>\n",
       "      <td>5</td>\n",
       "      <td>13</td>\n",
       "    </tr>\n",
       "    <tr>\n",
       "      <th>2</th>\n",
       "      <td>Não</td>\n",
       "      <td>1</td>\n",
       "      <td>12</td>\n",
       "    </tr>\n",
       "    <tr>\n",
       "      <th>3</th>\n",
       "      <td>Não</td>\n",
       "      <td>3</td>\n",
       "      <td>10</td>\n",
       "    </tr>\n",
       "    <tr>\n",
       "      <th>4</th>\n",
       "      <td>Não</td>\n",
       "      <td>6</td>\n",
       "      <td>7</td>\n",
       "    </tr>\n",
       "    <tr>\n",
       "      <th>5</th>\n",
       "      <td>Não</td>\n",
       "      <td>4</td>\n",
       "      <td>7</td>\n",
       "    </tr>\n",
       "    <tr>\n",
       "      <th>6</th>\n",
       "      <td>Não</td>\n",
       "      <td>2</td>\n",
       "      <td>7</td>\n",
       "    </tr>\n",
       "    <tr>\n",
       "      <th>7</th>\n",
       "      <td>Não</td>\n",
       "      <td>10</td>\n",
       "      <td>3</td>\n",
       "    </tr>\n",
       "    <tr>\n",
       "      <th>8</th>\n",
       "      <td>Não</td>\n",
       "      <td>8</td>\n",
       "      <td>1</td>\n",
       "    </tr>\n",
       "    <tr>\n",
       "      <th>9</th>\n",
       "      <td>Não</td>\n",
       "      <td>7</td>\n",
       "      <td>1</td>\n",
       "    </tr>\n",
       "  </tbody>\n",
       "</table>\n",
       "</div>"
      ],
      "text/plain": [
       "  business  assessment  frequency\n",
       "0      Não           0        138\n",
       "1      Não           5         13\n",
       "2      Não           1         12\n",
       "3      Não           3         10\n",
       "4      Não           6          7\n",
       "5      Não           4          7\n",
       "6      Não           2          7\n",
       "7      Não          10          3\n",
       "8      Não           8          1\n",
       "9      Não           7          1"
      ]
     },
     "execution_count": 9,
     "metadata": {},
     "output_type": "execute_result"
    }
   ],
   "source": [
    "assessment_no"
   ]
  },
  {
   "cell_type": "code",
   "execution_count": 10,
   "metadata": {},
   "outputs": [],
   "source": [
    "new_data = {'business': 'Não', 'assessment': 9, 'frequency': 0}\n",
    "assessment_no = assessment_no.append(new_data, ignore_index=True)"
   ]
  },
  {
   "cell_type": "code",
   "execution_count": 11,
   "metadata": {
    "scrolled": false
   },
   "outputs": [
    {
     "data": {
      "image/png": "[encoded data removed]",
      "text/plain": [
       "<Figure size 720x432 with 1 Axes>"
      ]
     },
     "metadata": {
      "needs_background": "light"
     },
     "output_type": "display_data"
    }
   ],
   "source": [
    "plt.figure(figsize=(10,6));\n",
    "\n",
    "sns.barplot(x='assessment', y='frequency', data=assessment_no, palette=\"flare\");\n",
    "plt.xlabel('Avaliações de Atendimento', fontsize=15);\n",
    "plt.ylabel('Quantidade', fontsize=15);\n",
    "plt.title(\"Recusam Novos Negócios com a Empresa\", fontsize=25);"
   ]
  },
  {
   "cell_type": "code",
   "execution_count": 12,
   "metadata": {},
   "outputs": [
    {
     "data": {
      "image/png": "[encoded data removed]",
      "text/plain": [
       "<Figure size 720x432 with 1 Axes>"
      ]
     },
     "metadata": {
      "needs_background": "light"
     },
     "output_type": "display_data"
    }
   ],
   "source": [
    "plt.figure(figsize=(10,6));\n",
    "\n",
    "sns.barplot(x='assessment', y='frequency', data=assessment_yes, palette=\"flare\");\n",
    "plt.xlabel('Avaliações de Atendimento', fontsize=15);\n",
    "plt.ylabel('Quantidade', fontsize=15);\n",
    "plt.title(\"Aceitam Novos Negócios com a Empresa\", fontsize=25);"
   ]
  },
  {
   "cell_type": "code",
   "execution_count": 13,
   "metadata": {},
   "outputs": [
    {
     "data": {
      "image/png": "[encoded data removed]",
      "text/plain": [
       "<Figure size 720x432 with 1 Axes>"
      ]
     },
     "metadata": {
      "needs_background": "light"
     },
     "output_type": "display_data"
    }
   ],
   "source": [
    "plt.figure(figsize=(10,6));\n",
    "\n",
    "sns.barplot(x='assessment', y='frequency', data=assessment_total, palette=\"flare\");\n",
    "plt.xlabel('Avaliações de Atendimento', fontsize=15);\n",
    "plt.ylabel('Quantidade', fontsize=15);\n",
    "plt.title(\"Distribuição de Notas\", fontsize=25);"
   ]
  },
  {
   "cell_type": "markdown",
   "metadata": {},
   "source": [
    "#### Frequency of assessments in relation to months (0 to 6)"
   ]
  },
  {
   "cell_type": "code",
   "execution_count": 14,
   "metadata": {},
   "outputs": [],
   "source": [
    "months = list(x for x in df['date'].dt.month.unique() if x <= 6)\n",
    "six_months = df[df['date'].dt.month.isin(months)]"
   ]
  },
  {
   "cell_type": "code",
   "execution_count": 15,
   "metadata": {},
   "outputs": [
    {
     "data": {
      "text/html": [
       "<div>\n",
       "<style scoped>\n",
       "    .dataframe tbody tr th:only-of-type {\n",
       "        vertical-align: middle;\n",
       "    }\n",
       "\n",
       "    .dataframe tbody tr th {\n",
       "        vertical-align: top;\n",
       "    }\n",
       "\n",
       "    .dataframe thead th {\n",
       "        text-align: right;\n",
       "    }\n",
       "</style>\n",
       "<table border=\"1\" class=\"dataframe\">\n",
       "  <thead>\n",
       "    <tr style=\"text-align: right;\">\n",
       "      <th></th>\n",
       "      <th>date</th>\n",
       "      <th>assessment</th>\n",
       "      <th>frequency</th>\n",
       "    </tr>\n",
       "  </thead>\n",
       "  <tbody>\n",
       "    <tr>\n",
       "      <th>0</th>\n",
       "      <td>1.0</td>\n",
       "      <td>10</td>\n",
       "      <td>39</td>\n",
       "    </tr>\n",
       "    <tr>\n",
       "      <th>1</th>\n",
       "      <td>1.0</td>\n",
       "      <td>0</td>\n",
       "      <td>13</td>\n",
       "    </tr>\n",
       "    <tr>\n",
       "      <th>2</th>\n",
       "      <td>1.0</td>\n",
       "      <td>8</td>\n",
       "      <td>13</td>\n",
       "    </tr>\n",
       "    <tr>\n",
       "      <th>3</th>\n",
       "      <td>1.0</td>\n",
       "      <td>5</td>\n",
       "      <td>8</td>\n",
       "    </tr>\n",
       "    <tr>\n",
       "      <th>4</th>\n",
       "      <td>1.0</td>\n",
       "      <td>7</td>\n",
       "      <td>6</td>\n",
       "    </tr>\n",
       "  </tbody>\n",
       "</table>\n",
       "</div>"
      ],
      "text/plain": [
       "   date  assessment  frequency\n",
       "0   1.0          10         39\n",
       "1   1.0           0         13\n",
       "2   1.0           8         13\n",
       "3   1.0           5          8\n",
       "4   1.0           7          6"
      ]
     },
     "execution_count": 15,
     "metadata": {},
     "output_type": "execute_result"
    }
   ],
   "source": [
    "assessment_date = df.groupby([six_months.date.dt.month])['assessment'].value_counts().rename('frequency').reset_index()\n",
    "assessment_date.head()"
   ]
  },
  {
   "cell_type": "code",
   "execution_count": 16,
   "metadata": {},
   "outputs": [
    {
     "data": {
      "image/png": "[encoded data removed]",
      "text/plain": [
       "<Figure size 1080x1080 with 6 Axes>"
      ]
     },
     "metadata": {
      "needs_background": "light"
     },
     "output_type": "display_data"
    }
   ],
   "source": [
    "sns.color_palette(\"hls\", 6)\n",
    "\n",
    "assessment_january = assessment_date[assessment_date.date == 1]\n",
    "assessment_february = assessment_date[assessment_date.date == 2]\n",
    "assessment_march = assessment_date[assessment_date.date == 3]\n",
    "assessment_april = assessment_date[assessment_date.date == 4]\n",
    "assessment_may = assessment_date[assessment_date.date == 5]\n",
    "assessment_june = assessment_date[assessment_date.date == 6]\n",
    "\n",
    "fig, axes = plt.subplots(3, 2, figsize=(15, 15), sharey=True)\n",
    "fig.suptitle('Assessment by month')\n",
    "\n",
    "# January\n",
    "sns.barplot(ax=axes[0][0], x=assessment_january.assessment, y=assessment_january.frequency)\n",
    "axes[0][0].set_title('January')\n",
    "\n",
    "# February\n",
    "sns.barplot(ax=axes[0][1], x=assessment_february.assessment, y=assessment_february.frequency)\n",
    "axes[0][1].set_title('February')\n",
    "\n",
    "# March\n",
    "sns.barplot(ax=axes[1][0], x=assessment_march.assessment, y=assessment_march.frequency)\n",
    "axes[1][0].set_title('March')\n",
    "\n",
    "# April\n",
    "sns.barplot(ax=axes[1][1], x=assessment_april.assessment, y=assessment_april.frequency)\n",
    "axes[1][1].set_title('April')\n",
    "\n",
    "# May\n",
    "sns.barplot(ax=axes[2][0], x=assessment_may.assessment, y=assessment_may.frequency)\n",
    "axes[2][0].set_title('May')\n",
    "\n",
    "# June\n",
    "sns.barplot(ax=axes[2][1], x=assessment_june.assessment, y=assessment_june.frequency)\n",
    "axes[2][1].set_title('June');"
   ]
  }
 ],
 "metadata": {
  "kernelspec": {
   "display_name": "Python 3",
   "language": "python",
   "name": "python3"
  },
  "language_info": {
   "codemirror_mode": {
    "name": "ipython",
    "version": 3
   },
   "file_extension": ".py",
   "mimetype": "text/x-python",
   "name": "python",
   "nbconvert_exporter": "python",
   "pygments_lexer": "ipython3",
   "version": "3.8.8"
  }
 },
 "nbformat": 4,
 "nbformat_minor": 4
}
