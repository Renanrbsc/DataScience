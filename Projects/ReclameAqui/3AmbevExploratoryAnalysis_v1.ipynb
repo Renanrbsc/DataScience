{
 "cells": [
  {
   "cell_type": "code",
   "execution_count": 8,
   "id": "b146025f",
   "metadata": {},
   "outputs": [],
   "source": [
    "import pandas as pd\n",
    "import numpy as np\n",
    "import seaborn as sns\n",
    "import matplotlib.pyplot as plt\n",
    "from matplotlib.lines import Line2D, rcParams\n",
    "import re\n",
    "import datetime as dt\n",
    "%matplotlib inline"
   ]
  },
  {
   "cell_type": "code",
   "execution_count": 10,
   "id": "311c53fd",
   "metadata": {},
   "outputs": [],
   "source": [
    "df = pd.read_csv(r'datasets\\reclame_aqui_completo_ambev_v2.csv', parse_dates=['date', 'time_answer', 'time_client'])"
   ]
  },
  {
   "cell_type": "code",
   "execution_count": 11,
   "id": "64b98bc9",
   "metadata": {
    "scrolled": true
   },
   "outputs": [
    {
     "data": {
      "text/html": [
       "<div>\n",
       "<style scoped>\n",
       "    .dataframe tbody tr th:only-of-type {\n",
       "        vertical-align: middle;\n",
       "    }\n",
       "\n",
       "    .dataframe tbody tr th {\n",
       "        vertical-align: top;\n",
       "    }\n",
       "\n",
       "    .dataframe thead th {\n",
       "        text-align: right;\n",
       "    }\n",
       "</style>\n",
       "<table border=\"1\" class=\"dataframe\">\n",
       "  <thead>\n",
       "    <tr style=\"text-align: right;\">\n",
       "      <th></th>\n",
       "      <th>date</th>\n",
       "      <th>uf</th>\n",
       "      <th>city</th>\n",
       "      <th>title</th>\n",
       "      <th>coment</th>\n",
       "      <th>answer</th>\n",
       "      <th>time_answer</th>\n",
       "      <th>coment_client_text</th>\n",
       "      <th>time_client</th>\n",
       "      <th>resolved</th>\n",
       "      <th>business</th>\n",
       "      <th>assessment</th>\n",
       "    </tr>\n",
       "  </thead>\n",
       "  <tbody>\n",
       "    <tr>\n",
       "      <th>0</th>\n",
       "      <td>2021-07-27 00:45:00</td>\n",
       "      <td>AL</td>\n",
       "      <td>Maceió</td>\n",
       "      <td>Quero fazer acordo</td>\n",
       "      <td>Fiz uma compra em seguida acabei fechando e nã...</td>\n",
       "      <td>Olá Alame,Enviamos as orientações de seu caso ...</td>\n",
       "      <td>2021-07-29 13:06:00</td>\n",
       "      <td>Muito satisfatório</td>\n",
       "      <td>2021-07-29 13:21:00</td>\n",
       "      <td>Resolvido</td>\n",
       "      <td>Sim</td>\n",
       "      <td>8</td>\n",
       "    </tr>\n",
       "    <tr>\n",
       "      <th>1</th>\n",
       "      <td>2021-07-26 16:52:00</td>\n",
       "      <td>SP</td>\n",
       "      <td>São Paulo</td>\n",
       "      <td>Estou sendo perseguido pela logística do cdd d...</td>\n",
       "      <td>Ha oito meses estou sendo perseguido pela logí...</td>\n",
       "      <td>Olá Alexandre,Informamos que encaminhamos o se...</td>\n",
       "      <td>2021-07-27 11:27:00</td>\n",
       "      <td>Pessimo</td>\n",
       "      <td>2021-07-27 11:30:00</td>\n",
       "      <td>Não resolvido</td>\n",
       "      <td>Não</td>\n",
       "      <td>0</td>\n",
       "    </tr>\n",
       "    <tr>\n",
       "      <th>2</th>\n",
       "      <td>2021-07-26 16:27:00</td>\n",
       "      <td>RJ</td>\n",
       "      <td>Armação de Búzios</td>\n",
       "      <td>Código cliente</td>\n",
       "      <td>Realizei o cadastro no app e já faz dias, não ...</td>\n",
       "      <td>Olá Adriana,Conforme conversamos, o sistema nã...</td>\n",
       "      <td>2021-07-28 13:28:00</td>\n",
       "      <td>Fui muito bem atendida e orientada. O represen...</td>\n",
       "      <td>2021-07-28 17:39:00</td>\n",
       "      <td>Resolvido</td>\n",
       "      <td>Sim</td>\n",
       "      <td>10</td>\n",
       "    </tr>\n",
       "    <tr>\n",
       "      <th>3</th>\n",
       "      <td>2021-07-26 15:15:00</td>\n",
       "      <td>SP</td>\n",
       "      <td>Cotia</td>\n",
       "      <td>Não aumentam prazo do boleto</td>\n",
       "      <td>Deixo aqui, minha grande insatisfação com AMBE...</td>\n",
       "      <td>Olá Tadeu,Informamos que encaminhamos seu caso...</td>\n",
       "      <td>2021-07-27 11:04:00</td>\n",
       "      <td>Vocês não trabalham com verdade, meu score no ...</td>\n",
       "      <td>2021-07-27 15:59:00</td>\n",
       "      <td>Não resolvido</td>\n",
       "      <td>Não</td>\n",
       "      <td>0</td>\n",
       "    </tr>\n",
       "    <tr>\n",
       "      <th>4</th>\n",
       "      <td>2021-07-24 23:01:00</td>\n",
       "      <td>SC</td>\n",
       "      <td>CAMBORIU</td>\n",
       "      <td>Equipamento</td>\n",
       "      <td>Aguardando equipamento para meu comercio desde...</td>\n",
       "      <td>Olá, William.Informamos que sua solicitação fo...</td>\n",
       "      <td>2021-07-26 12:13:00</td>\n",
       "      <td>9</td>\n",
       "      <td>2021-07-27 23:45:00</td>\n",
       "      <td>Não resolvido</td>\n",
       "      <td>Não</td>\n",
       "      <td>0</td>\n",
       "    </tr>\n",
       "  </tbody>\n",
       "</table>\n",
       "</div>"
      ],
      "text/plain": [
       "                 date  uf               city  \\\n",
       "0 2021-07-27 00:45:00  AL             Maceió   \n",
       "1 2021-07-26 16:52:00  SP          São Paulo   \n",
       "2 2021-07-26 16:27:00  RJ  Armação de Búzios   \n",
       "3 2021-07-26 15:15:00  SP              Cotia   \n",
       "4 2021-07-24 23:01:00  SC           CAMBORIU   \n",
       "\n",
       "                                               title  \\\n",
       "0                                 Quero fazer acordo   \n",
       "1  Estou sendo perseguido pela logística do cdd d...   \n",
       "2                                     Código cliente   \n",
       "3                       Não aumentam prazo do boleto   \n",
       "4                                        Equipamento   \n",
       "\n",
       "                                              coment  \\\n",
       "0  Fiz uma compra em seguida acabei fechando e nã...   \n",
       "1  Ha oito meses estou sendo perseguido pela logí...   \n",
       "2  Realizei o cadastro no app e já faz dias, não ...   \n",
       "3  Deixo aqui, minha grande insatisfação com AMBE...   \n",
       "4  Aguardando equipamento para meu comercio desde...   \n",
       "\n",
       "                                              answer         time_answer  \\\n",
       "0  Olá Alame,Enviamos as orientações de seu caso ... 2021-07-29 13:06:00   \n",
       "1  Olá Alexandre,Informamos que encaminhamos o se... 2021-07-27 11:27:00   \n",
       "2  Olá Adriana,Conforme conversamos, o sistema nã... 2021-07-28 13:28:00   \n",
       "3  Olá Tadeu,Informamos que encaminhamos seu caso... 2021-07-27 11:04:00   \n",
       "4  Olá, William.Informamos que sua solicitação fo... 2021-07-26 12:13:00   \n",
       "\n",
       "                                  coment_client_text         time_client  \\\n",
       "0                                 Muito satisfatório 2021-07-29 13:21:00   \n",
       "1                                            Pessimo 2021-07-27 11:30:00   \n",
       "2  Fui muito bem atendida e orientada. O represen... 2021-07-28 17:39:00   \n",
       "3  Vocês não trabalham com verdade, meu score no ... 2021-07-27 15:59:00   \n",
       "4                                                  9 2021-07-27 23:45:00   \n",
       "\n",
       "        resolved business  assessment  \n",
       "0      Resolvido      Sim           8  \n",
       "1  Não resolvido      Não           0  \n",
       "2      Resolvido      Sim          10  \n",
       "3  Não resolvido      Não           0  \n",
       "4  Não resolvido      Não           0  "
      ]
     },
     "execution_count": 11,
     "metadata": {},
     "output_type": "execute_result"
    }
   ],
   "source": [
    "df.head()"
   ]
  },
  {
   "cell_type": "code",
   "execution_count": 12,
   "id": "86a488ab",
   "metadata": {},
   "outputs": [
    {
     "name": "stdout",
     "output_type": "stream",
     "text": [
      "<class 'pandas.core.frame.DataFrame'>\n",
      "RangeIndex: 1010 entries, 0 to 1009\n",
      "Data columns (total 12 columns):\n",
      " #   Column              Non-Null Count  Dtype         \n",
      "---  ------              --------------  -----         \n",
      " 0   date                1010 non-null   datetime64[ns]\n",
      " 1   uf                  1010 non-null   object        \n",
      " 2   city                1010 non-null   object        \n",
      " 3   title               1010 non-null   object        \n",
      " 4   coment              1010 non-null   object        \n",
      " 5   answer              1001 non-null   object        \n",
      " 6   time_answer         1001 non-null   datetime64[ns]\n",
      " 7   coment_client_text  1010 non-null   object        \n",
      " 8   time_client         1010 non-null   datetime64[ns]\n",
      " 9   resolved            1010 non-null   object        \n",
      " 10  business            1010 non-null   object        \n",
      " 11  assessment          1010 non-null   int64         \n",
      "dtypes: datetime64[ns](3), int64(1), object(8)\n",
      "memory usage: 94.8+ KB\n"
     ]
    }
   ],
   "source": [
    "df.info()"
   ]
  },
  {
   "cell_type": "code",
   "execution_count": 13,
   "id": "9e789f2d",
   "metadata": {},
   "outputs": [
    {
     "data": {
      "text/html": [
       "<div>\n",
       "<style scoped>\n",
       "    .dataframe tbody tr th:only-of-type {\n",
       "        vertical-align: middle;\n",
       "    }\n",
       "\n",
       "    .dataframe tbody tr th {\n",
       "        vertical-align: top;\n",
       "    }\n",
       "\n",
       "    .dataframe thead th {\n",
       "        text-align: right;\n",
       "    }\n",
       "</style>\n",
       "<table border=\"1\" class=\"dataframe\">\n",
       "  <thead>\n",
       "    <tr style=\"text-align: right;\">\n",
       "      <th></th>\n",
       "      <th>date</th>\n",
       "      <th>uf</th>\n",
       "      <th>city</th>\n",
       "      <th>title</th>\n",
       "      <th>coment</th>\n",
       "      <th>answer</th>\n",
       "      <th>time_answer</th>\n",
       "      <th>coment_client_text</th>\n",
       "      <th>time_client</th>\n",
       "      <th>resolved</th>\n",
       "      <th>business</th>\n",
       "      <th>assessment</th>\n",
       "    </tr>\n",
       "  </thead>\n",
       "  <tbody>\n",
       "    <tr>\n",
       "      <th>count</th>\n",
       "      <td>1010</td>\n",
       "      <td>1010</td>\n",
       "      <td>1010</td>\n",
       "      <td>1010</td>\n",
       "      <td>1010</td>\n",
       "      <td>1001</td>\n",
       "      <td>1001</td>\n",
       "      <td>1010</td>\n",
       "      <td>1010</td>\n",
       "      <td>1010</td>\n",
       "      <td>1010</td>\n",
       "      <td>1010.000000</td>\n",
       "    </tr>\n",
       "    <tr>\n",
       "      <th>unique</th>\n",
       "      <td>NaN</td>\n",
       "      <td>27</td>\n",
       "      <td>329</td>\n",
       "      <td>914</td>\n",
       "      <td>1007</td>\n",
       "      <td>967</td>\n",
       "      <td>NaN</td>\n",
       "      <td>883</td>\n",
       "      <td>NaN</td>\n",
       "      <td>2</td>\n",
       "      <td>2</td>\n",
       "      <td>NaN</td>\n",
       "    </tr>\n",
       "    <tr>\n",
       "      <th>top</th>\n",
       "      <td>NaN</td>\n",
       "      <td>SP</td>\n",
       "      <td>São Paulo</td>\n",
       "      <td>Cadastro bloqueado</td>\n",
       "      <td>SOLICITEI TROCA ENDEREÇO ATE HOJE NAO OBTIVE U...</td>\n",
       "      <td>Olá Jessica,Conforme conversamos, seu cadastro...</td>\n",
       "      <td>NaN</td>\n",
       "      <td>Bom</td>\n",
       "      <td>NaN</td>\n",
       "      <td>Resolvido</td>\n",
       "      <td>Sim</td>\n",
       "      <td>NaN</td>\n",
       "    </tr>\n",
       "    <tr>\n",
       "      <th>freq</th>\n",
       "      <td>NaN</td>\n",
       "      <td>366</td>\n",
       "      <td>140</td>\n",
       "      <td>8</td>\n",
       "      <td>2</td>\n",
       "      <td>5</td>\n",
       "      <td>NaN</td>\n",
       "      <td>33</td>\n",
       "      <td>NaN</td>\n",
       "      <td>789</td>\n",
       "      <td>811</td>\n",
       "      <td>NaN</td>\n",
       "    </tr>\n",
       "    <tr>\n",
       "      <th>mean</th>\n",
       "      <td>2020-12-05 23:34:30.178217728</td>\n",
       "      <td>NaN</td>\n",
       "      <td>NaN</td>\n",
       "      <td>NaN</td>\n",
       "      <td>NaN</td>\n",
       "      <td>NaN</td>\n",
       "      <td>2020-12-17 17:39:24.815184384</td>\n",
       "      <td>NaN</td>\n",
       "      <td>2021-01-05 05:17:08.435644928</td>\n",
       "      <td>NaN</td>\n",
       "      <td>NaN</td>\n",
       "      <td>6.700000</td>\n",
       "    </tr>\n",
       "    <tr>\n",
       "      <th>min</th>\n",
       "      <td>2020-04-27 17:24:00</td>\n",
       "      <td>NaN</td>\n",
       "      <td>NaN</td>\n",
       "      <td>NaN</td>\n",
       "      <td>NaN</td>\n",
       "      <td>NaN</td>\n",
       "      <td>2020-04-28 10:58:00</td>\n",
       "      <td>NaN</td>\n",
       "      <td>2020-05-01 13:07:00</td>\n",
       "      <td>NaN</td>\n",
       "      <td>NaN</td>\n",
       "      <td>0.000000</td>\n",
       "    </tr>\n",
       "    <tr>\n",
       "      <th>25%</th>\n",
       "      <td>2020-09-11 14:35:45</td>\n",
       "      <td>NaN</td>\n",
       "      <td>NaN</td>\n",
       "      <td>NaN</td>\n",
       "      <td>NaN</td>\n",
       "      <td>NaN</td>\n",
       "      <td>2020-09-22 16:00:00</td>\n",
       "      <td>NaN</td>\n",
       "      <td>2020-10-05 13:32:15</td>\n",
       "      <td>NaN</td>\n",
       "      <td>NaN</td>\n",
       "      <td>5.000000</td>\n",
       "    </tr>\n",
       "    <tr>\n",
       "      <th>50%</th>\n",
       "      <td>2020-12-03 18:14:00</td>\n",
       "      <td>NaN</td>\n",
       "      <td>NaN</td>\n",
       "      <td>NaN</td>\n",
       "      <td>NaN</td>\n",
       "      <td>NaN</td>\n",
       "      <td>2020-12-15 14:14:00</td>\n",
       "      <td>NaN</td>\n",
       "      <td>2021-01-04 13:28:00</td>\n",
       "      <td>NaN</td>\n",
       "      <td>NaN</td>\n",
       "      <td>8.000000</td>\n",
       "    </tr>\n",
       "    <tr>\n",
       "      <th>75%</th>\n",
       "      <td>2021-03-02 05:48:00</td>\n",
       "      <td>NaN</td>\n",
       "      <td>NaN</td>\n",
       "      <td>NaN</td>\n",
       "      <td>NaN</td>\n",
       "      <td>NaN</td>\n",
       "      <td>2021-03-12 11:49:00</td>\n",
       "      <td>NaN</td>\n",
       "      <td>2021-04-09 16:07:45</td>\n",
       "      <td>NaN</td>\n",
       "      <td>NaN</td>\n",
       "      <td>10.000000</td>\n",
       "    </tr>\n",
       "    <tr>\n",
       "      <th>max</th>\n",
       "      <td>2021-07-27 00:45:00</td>\n",
       "      <td>NaN</td>\n",
       "      <td>NaN</td>\n",
       "      <td>NaN</td>\n",
       "      <td>NaN</td>\n",
       "      <td>NaN</td>\n",
       "      <td>2021-07-29 13:20:00</td>\n",
       "      <td>NaN</td>\n",
       "      <td>2021-07-30 10:13:00</td>\n",
       "      <td>NaN</td>\n",
       "      <td>NaN</td>\n",
       "      <td>10.000000</td>\n",
       "    </tr>\n",
       "    <tr>\n",
       "      <th>std</th>\n",
       "      <td>NaN</td>\n",
       "      <td>NaN</td>\n",
       "      <td>NaN</td>\n",
       "      <td>NaN</td>\n",
       "      <td>NaN</td>\n",
       "      <td>NaN</td>\n",
       "      <td>NaN</td>\n",
       "      <td>NaN</td>\n",
       "      <td>NaN</td>\n",
       "      <td>NaN</td>\n",
       "      <td>NaN</td>\n",
       "      <td>3.675394</td>\n",
       "    </tr>\n",
       "  </tbody>\n",
       "</table>\n",
       "</div>"
      ],
      "text/plain": [
       "                                 date    uf       city               title  \\\n",
       "count                            1010  1010       1010                1010   \n",
       "unique                            NaN    27        329                 914   \n",
       "top                               NaN    SP  São Paulo  Cadastro bloqueado   \n",
       "freq                              NaN   366        140                   8   \n",
       "mean    2020-12-05 23:34:30.178217728   NaN        NaN                 NaN   \n",
       "min               2020-04-27 17:24:00   NaN        NaN                 NaN   \n",
       "25%               2020-09-11 14:35:45   NaN        NaN                 NaN   \n",
       "50%               2020-12-03 18:14:00   NaN        NaN                 NaN   \n",
       "75%               2021-03-02 05:48:00   NaN        NaN                 NaN   \n",
       "max               2021-07-27 00:45:00   NaN        NaN                 NaN   \n",
       "std                               NaN   NaN        NaN                 NaN   \n",
       "\n",
       "                                                   coment  \\\n",
       "count                                                1010   \n",
       "unique                                               1007   \n",
       "top     SOLICITEI TROCA ENDEREÇO ATE HOJE NAO OBTIVE U...   \n",
       "freq                                                    2   \n",
       "mean                                                  NaN   \n",
       "min                                                   NaN   \n",
       "25%                                                   NaN   \n",
       "50%                                                   NaN   \n",
       "75%                                                   NaN   \n",
       "max                                                   NaN   \n",
       "std                                                   NaN   \n",
       "\n",
       "                                                   answer  \\\n",
       "count                                                1001   \n",
       "unique                                                967   \n",
       "top     Olá Jessica,Conforme conversamos, seu cadastro...   \n",
       "freq                                                    5   \n",
       "mean                                                  NaN   \n",
       "min                                                   NaN   \n",
       "25%                                                   NaN   \n",
       "50%                                                   NaN   \n",
       "75%                                                   NaN   \n",
       "max                                                   NaN   \n",
       "std                                                   NaN   \n",
       "\n",
       "                          time_answer coment_client_text  \\\n",
       "count                            1001               1010   \n",
       "unique                            NaN                883   \n",
       "top                               NaN                Bom   \n",
       "freq                              NaN                 33   \n",
       "mean    2020-12-17 17:39:24.815184384                NaN   \n",
       "min               2020-04-28 10:58:00                NaN   \n",
       "25%               2020-09-22 16:00:00                NaN   \n",
       "50%               2020-12-15 14:14:00                NaN   \n",
       "75%               2021-03-12 11:49:00                NaN   \n",
       "max               2021-07-29 13:20:00                NaN   \n",
       "std                               NaN                NaN   \n",
       "\n",
       "                          time_client   resolved business   assessment  \n",
       "count                            1010       1010     1010  1010.000000  \n",
       "unique                            NaN          2        2          NaN  \n",
       "top                               NaN  Resolvido      Sim          NaN  \n",
       "freq                              NaN        789      811          NaN  \n",
       "mean    2021-01-05 05:17:08.435644928        NaN      NaN     6.700000  \n",
       "min               2020-05-01 13:07:00        NaN      NaN     0.000000  \n",
       "25%               2020-10-05 13:32:15        NaN      NaN     5.000000  \n",
       "50%               2021-01-04 13:28:00        NaN      NaN     8.000000  \n",
       "75%               2021-04-09 16:07:45        NaN      NaN    10.000000  \n",
       "max               2021-07-30 10:13:00        NaN      NaN    10.000000  \n",
       "std                               NaN        NaN      NaN     3.675394  "
      ]
     },
     "execution_count": 13,
     "metadata": {},
     "output_type": "execute_result"
    }
   ],
   "source": [
    "df.describe(datetime_is_numeric=True, include='all')"
   ]
  },
  {
   "cell_type": "markdown",
   "id": "65fb1d2a",
   "metadata": {},
   "source": [
    "### Criando novas colunas"
   ]
  },
  {
   "cell_type": "code",
   "execution_count": 14,
   "id": "4b93ec04",
   "metadata": {},
   "outputs": [],
   "source": [
    "df['month'] = df['date'].dt.month"
   ]
  },
  {
   "cell_type": "code",
   "execution_count": 15,
   "id": "f54ce8f4",
   "metadata": {},
   "outputs": [],
   "source": [
    "df['year'] = df['date'].dt.year"
   ]
  },
  {
   "cell_type": "code",
   "execution_count": 16,
   "id": "332c0375",
   "metadata": {},
   "outputs": [],
   "source": [
    "df['month_year'] = f\"{df['date'].dt.month}-{df['date'].dt.year}\""
   ]
  },
  {
   "cell_type": "code",
   "execution_count": 17,
   "id": "610d2f85",
   "metadata": {},
   "outputs": [],
   "source": [
    "df['time_to_reply'] = ((df['time_answer'] - df['date']).dt.days).sort_values(ascending=False)"
   ]
  },
  {
   "cell_type": "markdown",
   "id": "12a2decb",
   "metadata": {},
   "source": [
    "### Explorando Cidades e Estados"
   ]
  },
  {
   "cell_type": "markdown",
   "id": "1a27c14a",
   "metadata": {},
   "source": [
    "- Top 10 cidades com mais reclamações"
   ]
  },
  {
   "cell_type": "code",
   "execution_count": 18,
   "id": "6845c960",
   "metadata": {},
   "outputs": [
    {
     "data": {
      "text/plain": [
       "São Paulo         140\n",
       "Rio de Janeiro     71\n",
       "Belo Horizonte     49\n",
       "Brasília           25\n",
       "Recife             18\n",
       "                 ... \n",
       "Blumenau            1\n",
       "Mesquita            1\n",
       "Mineiros            1\n",
       "Varginha            1\n",
       "Muriaé              1\n",
       "Name: city, Length: 329, dtype: int64"
      ]
     },
     "execution_count": 18,
     "metadata": {},
     "output_type": "execute_result"
    }
   ],
   "source": [
    "df['city'].value_counts()"
   ]
  },
  {
   "cell_type": "code",
   "execution_count": 19,
   "id": "460fcbca",
   "metadata": {},
   "outputs": [
    {
     "data": {
      "text/plain": [
       "Text(0.5, 1.0, 'Top 10 cidades com mais reclamações')"
      ]
     },
     "execution_count": 19,
     "metadata": {},
     "output_type": "execute_result"
    },
    {
     "data": {
      "image/png": "[encoded data removed]",
      "text/plain": [
       "<Figure size 432x288 with 1 Axes>"
      ]
     },
     "metadata": {
      "needs_background": "light"
     },
     "output_type": "display_data"
    }
   ],
   "source": [
    "sns.barplot(data=df.groupby('city')['assessment'].count().reset_index().sort_values(by='assessment', ascending=False)[:10], y=\"city\", x='assessment')\n",
    "plt.ylabel('')\n",
    "plt.xlabel('Quantidade')\n",
    "plt.title('Top 10 cidades com mais reclamações')"
   ]
  },
  {
   "cell_type": "markdown",
   "id": "b9aa7888",
   "metadata": {},
   "source": [
    "- Top 10 estados com mais reclamações"
   ]
  },
  {
   "cell_type": "code",
   "execution_count": 20,
   "id": "7e6da620",
   "metadata": {
    "scrolled": true
   },
   "outputs": [
    {
     "data": {
      "text/plain": [
       "SP    366\n",
       "RJ    156\n",
       "MG    116\n",
       "PE     58\n",
       "BA     42\n",
       "RS     27\n",
       "PR     26\n",
       "DF     25\n",
       "SC     23\n",
       "CE     20\n",
       "GO     20\n",
       "PA     18\n",
       "MT     18\n",
       "PB     17\n",
       "ES     15\n",
       "MA     14\n",
       "AM     11\n",
       "RN      8\n",
       "MS      8\n",
       "AL      5\n",
       "PI      5\n",
       "AC      3\n",
       "SE      3\n",
       "RO      2\n",
       "TO      2\n",
       "RR      1\n",
       "AP      1\n",
       "Name: uf, dtype: int64"
      ]
     },
     "execution_count": 20,
     "metadata": {},
     "output_type": "execute_result"
    }
   ],
   "source": [
    "df['uf'].value_counts()"
   ]
  },
  {
   "cell_type": "code",
   "execution_count": 21,
   "id": "03964a86",
   "metadata": {},
   "outputs": [
    {
     "data": {
      "text/plain": [
       "Text(0.5, 1.0, 'Top 10 estados com mais reclamações')"
      ]
     },
     "execution_count": 21,
     "metadata": {},
     "output_type": "execute_result"
    },
    {
     "data": {
      "image/png": "[encoded data removed]",
      "text/plain": [
       "<Figure size 432x288 with 1 Axes>"
      ]
     },
     "metadata": {
      "needs_background": "light"
     },
     "output_type": "display_data"
    }
   ],
   "source": [
    "sns.barplot(data=df.groupby('uf')['assessment'].count().reset_index().sort_values(by='assessment', ascending=False)[:10], y=\"uf\", x='assessment')\n",
    "plt.ylabel('')\n",
    "plt.xlabel('Quantidade')\n",
    "plt.title('Top 10 estados com mais reclamações')"
   ]
  },
  {
   "cell_type": "markdown",
   "id": "24cdbc7c",
   "metadata": {},
   "source": [
    "- Correlação entre estados e notas"
   ]
  },
  {
   "cell_type": "code",
   "execution_count": 22,
   "id": "58cbcaba",
   "metadata": {},
   "outputs": [
    {
     "data": {
      "text/plain": [
       "10    0.366337\n",
       "0     0.157426\n",
       "8     0.115842\n",
       "9     0.078218\n",
       "7     0.075248\n",
       "5     0.068317\n",
       "6     0.055446\n",
       "1     0.022772\n",
       "3     0.021782\n",
       "4     0.019802\n",
       "2     0.018812\n",
       "Name: assessment, dtype: float64"
      ]
     },
     "execution_count": 22,
     "metadata": {},
     "output_type": "execute_result"
    }
   ],
   "source": [
    "df['assessment'].value_counts(normalize=True)"
   ]
  },
  {
   "cell_type": "code",
   "execution_count": 57,
   "id": "a46ef70e",
   "metadata": {},
   "outputs": [
    {
     "data": {
      "text/plain": [
       "<Figure size 720x432 with 0 Axes>"
      ]
     },
     "metadata": {},
     "output_type": "display_data"
    },
    {
     "data": {
      "image/png": "[encoded data removed]",
      "text/plain": [
       "<Figure size 216x216 with 1 Axes>"
      ]
     },
     "metadata": {
      "needs_background": "light"
     },
     "output_type": "display_data"
    }
   ],
   "source": [
    "plt.figure(figsize=(10,6))\n",
    "sns.displot(\n",
    "    df, x=\"assessment\",\n",
    "    height=3, facet_kws=dict(margin_titles=True),\n",
    "    kind=\"hist\",\n",
    "    bins=11\n",
    ")\n",
    "plt.ylabel('Quantidade')\n",
    "plt.xlabel('Notas')\n",
    "plt.title('Distribuição de Notas')\n",
    "plt.show()"
   ]
  },
  {
   "cell_type": "code",
   "execution_count": null,
   "id": "dc8c7187",
   "metadata": {},
   "outputs": [],
   "source": [
    "for state in df['uf'].unique():\n",
    "    plt.figure(figsize=(10,4))\n",
    "    sns.barplot(data=y,\n",
    "                x='index',\n",
    "                y='Frequency',\n",
    "                palette='flare')\n",
    "    plt.y xlim(0 , 10)\n",
    "\n",
    "    plt.ylabel('Quantidade')\n",
    "    plt.xlabel('Notas')\n",
    "    plt.title(state)\n",
    "    plt.show()"
   ]
  },
  {
   "cell_type": "code",
   "execution_count": 75,
   "id": "db59dfbb",
   "metadata": {},
   "outputs": [
    {
     "data": {
      "text/plain": [
       "<Figure size 720x288 with 0 Axes>"
      ]
     },
     "metadata": {},
     "output_type": "display_data"
    },
    {
     "data": {
      "image/png": "[encoded data removed]",
      "text/plain": [
       "<Figure size 216x216 with 1 Axes>"
      ]
     },
     "metadata": {
      "needs_background": "light"
     },
     "output_type": "display_data"
    },
    {
     "data": {
      "text/plain": [
       "<Figure size 720x288 with 0 Axes>"
      ]
     },
     "metadata": {},
     "output_type": "display_data"
    },
    {
     "data": {
      "image/png": "[encoded data removed]",
      "text/plain": [
       "<Figure size 216x216 with 1 Axes>"
      ]
     },
     "metadata": {
      "needs_background": "light"
     },
     "output_type": "display_data"
    },
    {
     "data": {
      "text/plain": [
       "<Figure size 720x288 with 0 Axes>"
      ]
     },
     "metadata": {},
     "output_type": "display_data"
    },
    {
     "data": {
      "image/png": "[encoded data removed]",
      "text/plain": [
       "<Figure size 216x216 with 1 Axes>"
      ]
     },
     "metadata": {
      "needs_background": "light"
     },
     "output_type": "display_data"
    },
    {
     "data": {
      "text/plain": [
       "<Figure size 720x288 with 0 Axes>"
      ]
     },
     "metadata": {},
     "output_type": "display_data"
    },
    {
     "data": {
      "image/png": "[encoded data removed]",
      "text/plain": [
       "<Figure size 216x216 with 1 Axes>"
      ]
     },
     "metadata": {
      "needs_background": "light"
     },
     "output_type": "display_data"
    },
    {
     "data": {
      "text/plain": [
       "<Figure size 720x288 with 0 Axes>"
      ]
     },
     "metadata": {},
     "output_type": "display_data"
    },
    {
     "data": {
      "image/png": "[encoded data removed]",
      "text/plain": [
       "<Figure size 216x216 with 1 Axes>"
      ]
     },
     "metadata": {
      "needs_background": "light"
     },
     "output_type": "display_data"
    },
    {
     "data": {
      "text/plain": [
       "<Figure size 720x288 with 0 Axes>"
      ]
     },
     "metadata": {},
     "output_type": "display_data"
    },
    {
     "data": {
      "image/png": "[encoded data removed]",
      "text/plain": [
       "<Figure size 216x216 with 1 Axes>"
      ]
     },
     "metadata": {
      "needs_background": "light"
     },
     "output_type": "display_data"
    },
    {
     "data": {
      "text/plain": [
       "<Figure size 720x288 with 0 Axes>"
      ]
     },
     "metadata": {},
     "output_type": "display_data"
    },
    {
     "data": {
      "image/png": "[encoded data removed]",
      "text/plain": [
       "<Figure size 216x216 with 1 Axes>"
      ]
     },
     "metadata": {
      "needs_background": "light"
     },
     "output_type": "display_data"
    },
    {
     "data": {
      "text/plain": [
       "<Figure size 720x288 with 0 Axes>"
      ]
     },
     "metadata": {},
     "output_type": "display_data"
    },
    {
     "data": {
      "image/png": "[encoded data removed]",
      "text/plain": [
       "<Figure size 216x216 with 1 Axes>"
      ]
     },
     "metadata": {
      "needs_background": "light"
     },
     "output_type": "display_data"
    },
    {
     "data": {
      "text/plain": [
       "<Figure size 720x288 with 0 Axes>"
      ]
     },
     "metadata": {},
     "output_type": "display_data"
    },
    {
     "data": {
      "image/png": "[encoded data removed]",
      "text/plain": [
       "<Figure size 216x216 with 1 Axes>"
      ]
     },
     "metadata": {
      "needs_background": "light"
     },
     "output_type": "display_data"
    },
    {
     "data": {
      "text/plain": [
       "<Figure size 720x288 with 0 Axes>"
      ]
     },
     "metadata": {},
     "output_type": "display_data"
    },
    {
     "data": {
      "image/png": "[encoded data removed]",
      "text/plain": [
       "<Figure size 216x216 with 1 Axes>"
      ]
     },
     "metadata": {
      "needs_background": "light"
     },
     "output_type": "display_data"
    },
    {
     "data": {
      "text/plain": [
       "<Figure size 720x288 with 0 Axes>"
      ]
     },
     "metadata": {},
     "output_type": "display_data"
    },
    {
     "data": {
      "image/png": "[encoded data removed]",
      "text/plain": [
       "<Figure size 216x216 with 1 Axes>"
      ]
     },
     "metadata": {
      "needs_background": "light"
     },
     "output_type": "display_data"
    },
    {
     "data": {
      "text/plain": [
       "<Figure size 720x288 with 0 Axes>"
      ]
     },
     "metadata": {},
     "output_type": "display_data"
    },
    {
     "data": {
      "image/png": "[encoded data removed]",
      "text/plain": [
       "<Figure size 216x216 with 1 Axes>"
      ]
     },
     "metadata": {
      "needs_background": "light"
     },
     "output_type": "display_data"
    },
    {
     "data": {
      "text/plain": [
       "<Figure size 720x288 with 0 Axes>"
      ]
     },
     "metadata": {},
     "output_type": "display_data"
    },
    {
     "data": {
      "image/png": "[encoded data removed]",
      "text/plain": [
       "<Figure size 216x216 with 1 Axes>"
      ]
     },
     "metadata": {
      "needs_background": "light"
     },
     "output_type": "display_data"
    },
    {
     "data": {
      "text/plain": [
       "<Figure size 720x288 with 0 Axes>"
      ]
     },
     "metadata": {},
     "output_type": "display_data"
    },
    {
     "data": {
      "image/png": "[encoded data removed]",
      "text/plain": [
       "<Figure size 216x216 with 1 Axes>"
      ]
     },
     "metadata": {
      "needs_background": "light"
     },
     "output_type": "display_data"
    },
    {
     "data": {
      "text/plain": [
       "<Figure size 720x288 with 0 Axes>"
      ]
     },
     "metadata": {},
     "output_type": "display_data"
    },
    {
     "data": {
      "image/png": "[encoded data removed]",
      "text/plain": [
       "<Figure size 216x216 with 1 Axes>"
      ]
     },
     "metadata": {
      "needs_background": "light"
     },
     "output_type": "display_data"
    },
    {
     "data": {
      "text/plain": [
       "<Figure size 720x288 with 0 Axes>"
      ]
     },
     "metadata": {},
     "output_type": "display_data"
    },
    {
     "data": {
      "image/png": "[encoded data removed]",
      "text/plain": [
       "<Figure size 216x216 with 1 Axes>"
      ]
     },
     "metadata": {
      "needs_background": "light"
     },
     "output_type": "display_data"
    },
    {
     "data": {
      "text/plain": [
       "<Figure size 720x288 with 0 Axes>"
      ]
     },
     "metadata": {},
     "output_type": "display_data"
    },
    {
     "data": {
      "image/png": "[encoded data removed]",
      "text/plain": [
       "<Figure size 216x216 with 1 Axes>"
      ]
     },
     "metadata": {
      "needs_background": "light"
     },
     "output_type": "display_data"
    },
    {
     "data": {
      "text/plain": [
       "<Figure size 720x288 with 0 Axes>"
      ]
     },
     "metadata": {},
     "output_type": "display_data"
    },
    {
     "data": {
      "image/png": "[encoded data removed]",
      "text/plain": [
       "<Figure size 216x216 with 1 Axes>"
      ]
     },
     "metadata": {
      "needs_background": "light"
     },
     "output_type": "display_data"
    },
    {
     "data": {
      "text/plain": [
       "<Figure size 720x288 with 0 Axes>"
      ]
     },
     "metadata": {},
     "output_type": "display_data"
    },
    {
     "data": {
      "image/png": "[encoded data removed]",
      "text/plain": [
       "<Figure size 216x216 with 1 Axes>"
      ]
     },
     "metadata": {
      "needs_background": "light"
     },
     "output_type": "display_data"
    },
    {
     "data": {
      "text/plain": [
       "<Figure size 720x288 with 0 Axes>"
      ]
     },
     "metadata": {},
     "output_type": "display_data"
    },
    {
     "data": {
      "image/png": "[encoded data removed]",
      "text/plain": [
       "<Figure size 216x216 with 1 Axes>"
      ]
     },
     "metadata": {
      "needs_background": "light"
     },
     "output_type": "display_data"
    },
    {
     "data": {
      "text/plain": [
       "<Figure size 720x288 with 0 Axes>"
      ]
     },
     "metadata": {},
     "output_type": "display_data"
    },
    {
     "data": {
      "image/png": "[encoded data removed]",
      "text/plain": [
       "<Figure size 216x216 with 1 Axes>"
      ]
     },
     "metadata": {
      "needs_background": "light"
     },
     "output_type": "display_data"
    },
    {
     "data": {
      "text/plain": [
       "<Figure size 720x288 with 0 Axes>"
      ]
     },
     "metadata": {},
     "output_type": "display_data"
    },
    {
     "data": {
      "image/png": "[encoded data removed]",
      "text/plain": [
       "<Figure size 216x216 with 1 Axes>"
      ]
     },
     "metadata": {
      "needs_background": "light"
     },
     "output_type": "display_data"
    },
    {
     "data": {
      "text/plain": [
       "<Figure size 720x288 with 0 Axes>"
      ]
     },
     "metadata": {},
     "output_type": "display_data"
    },
    {
     "data": {
      "image/png": "[encoded data removed]",
      "text/plain": [
       "<Figure size 216x216 with 1 Axes>"
      ]
     },
     "metadata": {
      "needs_background": "light"
     },
     "output_type": "display_data"
    },
    {
     "data": {
      "text/plain": [
       "<Figure size 720x288 with 0 Axes>"
      ]
     },
     "metadata": {},
     "output_type": "display_data"
    },
    {
     "data": {
      "image/png": "[encoded data removed]",
      "text/plain": [
       "<Figure size 216x216 with 1 Axes>"
      ]
     },
     "metadata": {
      "needs_background": "light"
     },
     "output_type": "display_data"
    },
    {
     "data": {
      "text/plain": [
       "<Figure size 720x288 with 0 Axes>"
      ]
     },
     "metadata": {},
     "output_type": "display_data"
    },
    {
     "data": {
      "image/png": "[encoded data removed]",
      "text/plain": [
       "<Figure size 216x216 with 1 Axes>"
      ]
     },
     "metadata": {
      "needs_background": "light"
     },
     "output_type": "display_data"
    },
    {
     "data": {
      "text/plain": [
       "<Figure size 720x288 with 0 Axes>"
      ]
     },
     "metadata": {},
     "output_type": "display_data"
    },
    {
     "data": {
      "image/png": "[encoded data removed]",
      "text/plain": [
       "<Figure size 216x216 with 1 Axes>"
      ]
     },
     "metadata": {
      "needs_background": "light"
     },
     "output_type": "display_data"
    },
    {
     "data": {
      "text/plain": [
       "<Figure size 720x288 with 0 Axes>"
      ]
     },
     "metadata": {},
     "output_type": "display_data"
    },
    {
     "data": {
      "image/png": "[encoded data removed]",
      "text/plain": [
       "<Figure size 216x216 with 1 Axes>"
      ]
     },
     "metadata": {
      "needs_background": "light"
     },
     "output_type": "display_data"
    }
   ],
   "source": [
    "for state in df['uf'].unique():\n",
    "    plt.figure(figsize=(10,4))\n",
    "    sns.displot(df.loc[df['uf'] == state],\n",
    "                color='blue',\n",
    "                x=\"assessment\",\n",
    "                height=3, facet_kws=dict(margin_titles=True),\n",
    "                kind=\"hist\",\n",
    "                bins=11)\n",
    "    \n",
    "    plt.xlim(0 , 10)\n",
    "\n",
    "    plt.ylabel('Quantidade')\n",
    "    plt.xlabel('Notas')\n",
    "    plt.title(state)\n",
    "    plt.show()"
   ]
  },
  {
   "cell_type": "markdown",
   "id": "66606d19",
   "metadata": {},
   "source": [
    "### Tempo de Resposta (em dias)"
   ]
  },
  {
   "cell_type": "code",
   "execution_count": 25,
   "id": "9968003c",
   "metadata": {},
   "outputs": [
    {
     "data": {
      "text/plain": [
       "count    1001.000000\n",
       "mean       10.527473\n",
       "std        12.285744\n",
       "min         0.000000\n",
       "25%         3.000000\n",
       "50%         7.000000\n",
       "75%        13.000000\n",
       "max       101.000000\n",
       "Name: time_to_reply, dtype: float64"
      ]
     },
     "execution_count": 25,
     "metadata": {},
     "output_type": "execute_result"
    }
   ],
   "source": [
    "df['time_to_reply'].describe()"
   ]
  },
  {
   "cell_type": "code",
   "execution_count": 26,
   "id": "28ec3f23",
   "metadata": {},
   "outputs": [
    {
     "data": {
      "image/png": "[encoded data removed]",
      "text/plain": [
       "<Figure size 432x288 with 1 Axes>"
      ]
     },
     "metadata": {
      "needs_background": "light"
     },
     "output_type": "display_data"
    }
   ],
   "source": [
    "sns.histplot(data = df,  x='time_to_reply')\n",
    "plt.xlabel('Tempo de Resposta (Dias)')\n",
    "plt.ylabel('Quantidade')\n",
    "plt.show()"
   ]
  },
  {
   "cell_type": "code",
   "execution_count": 27,
   "id": "ac33ad1e",
   "metadata": {},
   "outputs": [],
   "source": [
    "months = [\"Janeiro\", \"Fevereiro\", \"Março\", \"Abril\", \"Maio\", \"Junho\"]"
   ]
  },
  {
   "cell_type": "code",
   "execution_count": 28,
   "id": "d2772822",
   "metadata": {},
   "outputs": [],
   "source": [
    "def change_name(x):\n",
    "    if x == 1:\n",
    "        resp = 'Janeiro'\n",
    "        return resp\n",
    "    if x == 2:\n",
    "        resp = 'Fevereiro'\n",
    "        return resp\n",
    "    if x == 3:\n",
    "        resp = 'Março'\n",
    "        return resp\n",
    "    if x == 4:\n",
    "        resp = 'Abril'\n",
    "        return resp\n",
    "    if x == 5:\n",
    "        resp = 'Maio'\n",
    "        return resp\n",
    "    if x == 6:\n",
    "        resp = 'Junho'\n",
    "        return resp"
   ]
  },
  {
   "cell_type": "code",
   "execution_count": 29,
   "id": "dbdae2a2",
   "metadata": {},
   "outputs": [],
   "source": [
    "df['month'] = df['month'].apply(lambda x: change_name(x))"
   ]
  },
  {
   "cell_type": "code",
   "execution_count": 30,
   "id": "2e60d9c5",
   "metadata": {},
   "outputs": [
    {
     "data": {
      "image/png": "[encoded data removed]",
      "text/plain": [
       "<Figure size 936x720 with 6 Axes>"
      ]
     },
     "metadata": {
      "needs_background": "light"
     },
     "output_type": "display_data"
    }
   ],
   "source": [
    "fig, axs = plt.subplots(3, 2, figsize=(13, 10))\n",
    "aux = 0\n",
    "for i in range(0,3):\n",
    "    for j in range(0,2):\n",
    "        sns.countplot(x='month', hue = 'resolved', data=df.loc[(df['year'] == 2021)&(df['month'] == months[aux])], ax=axs[i][j])\n",
    "        axs[i][j].legend(loc=\"upper right\")\n",
    "        axs[i][j].set_xlabel('Mês')\n",
    "        axs[i][j].set_ylabel('Número Ocorrências')\n",
    "        aux +=1\n",
    "plt.tight_layout()"
   ]
  },
  {
   "cell_type": "code",
   "execution_count": 31,
   "id": "cbbbc966",
   "metadata": {},
   "outputs": [],
   "source": [
    "mean = df.groupby('month')['time_to_reply'].mean().rename('mean_time')\n",
    "median = df.groupby('month')['time_to_reply'].median().rename('median_time')"
   ]
  },
  {
   "cell_type": "code",
   "execution_count": 32,
   "id": "6bffe0c7",
   "metadata": {},
   "outputs": [],
   "source": [
    "mean.index = pd.CategoricalIndex(mean.index, categories=months, ordered=True)\n",
    "median.index = pd.CategoricalIndex(median.index, categories=months, ordered=True)"
   ]
  },
  {
   "cell_type": "code",
   "execution_count": 33,
   "id": "c29e0d2b",
   "metadata": {},
   "outputs": [],
   "source": [
    "mean.index = mean.index.sort_values()\n",
    "median.index = median.index.sort_values()"
   ]
  },
  {
   "cell_type": "code",
   "execution_count": 34,
   "id": "e3064cd0",
   "metadata": {},
   "outputs": [
    {
     "data": {
      "image/png": "[encoded data removed]",
      "text/plain": [
       "<Figure size 936x576 with 1 Axes>"
      ]
     },
     "metadata": {
      "needs_background": "light"
     },
     "output_type": "display_data"
    }
   ],
   "source": [
    "fig, ax = plt.subplots(figsize=(13,8))\n",
    "ax = median.plot(legend = True, label='Mediana')\n",
    "ax = mean.plot(legend = True, label='Média')\n",
    "ax.set_ylim([4,14])\n",
    "ax.set_xlabel('Mês da reclamação')\n",
    "ax.set_ylabel('Tempo de resposta (Dias)')\n",
    "plt.show()"
   ]
  },
  {
   "cell_type": "code",
   "execution_count": 35,
   "id": "2e23774b",
   "metadata": {},
   "outputs": [
    {
     "data": {
      "image/png": "[encoded data removed]",
      "text/plain": [
       "<Figure size 1080x576 with 2 Axes>"
      ]
     },
     "metadata": {
      "needs_background": "light"
     },
     "output_type": "display_data"
    }
   ],
   "source": [
    "fig, ax = plt.subplots(2, figsize=(15,8))\n",
    "df.groupby('uf')['time_to_reply'].mean().sort_values().plot(kind='bar', ax=ax[0], title='Média do Tempo de Resposta')\n",
    "df.groupby('uf')['time_to_reply'].median().sort_values().plot(kind='bar', ax=ax[1], title='Mediana do Tempo de Resposta')\n",
    "ax[0].set_xlabel('Estado')\n",
    "ax[0].set_ylabel('Tempo de Resposta (Dias)')\n",
    "ax[1].set_xlabel('Estado')\n",
    "ax[1].set_ylabel('Tempo de Resposta (Dias)')\n",
    "plt.tight_layout()\n",
    "plt.show()"
   ]
  },
  {
   "cell_type": "code",
   "execution_count": 36,
   "id": "a2c5f9c6",
   "metadata": {},
   "outputs": [
    {
     "data": {
      "text/html": [
       "<div>\n",
       "<style scoped>\n",
       "    .dataframe tbody tr th:only-of-type {\n",
       "        vertical-align: middle;\n",
       "    }\n",
       "\n",
       "    .dataframe tbody tr th {\n",
       "        vertical-align: top;\n",
       "    }\n",
       "\n",
       "    .dataframe thead th {\n",
       "        text-align: right;\n",
       "    }\n",
       "</style>\n",
       "<table border=\"1\" class=\"dataframe\">\n",
       "  <thead>\n",
       "    <tr style=\"text-align: right;\">\n",
       "      <th></th>\n",
       "      <th>assessment</th>\n",
       "      <th>time_to_reply</th>\n",
       "    </tr>\n",
       "  </thead>\n",
       "  <tbody>\n",
       "    <tr>\n",
       "      <th>assessment</th>\n",
       "      <td>1.000000</td>\n",
       "      <td>-0.089547</td>\n",
       "    </tr>\n",
       "    <tr>\n",
       "      <th>time_to_reply</th>\n",
       "      <td>-0.089547</td>\n",
       "      <td>1.000000</td>\n",
       "    </tr>\n",
       "  </tbody>\n",
       "</table>\n",
       "</div>"
      ],
      "text/plain": [
       "               assessment  time_to_reply\n",
       "assessment       1.000000      -0.089547\n",
       "time_to_reply   -0.089547       1.000000"
      ]
     },
     "execution_count": 36,
     "metadata": {},
     "output_type": "execute_result"
    }
   ],
   "source": [
    "df[['assessment', 'time_to_reply']].corr()"
   ]
  },
  {
   "cell_type": "markdown",
   "id": "40f584c5",
   "metadata": {},
   "source": [
    "### Horário de reclamação"
   ]
  },
  {
   "cell_type": "code",
   "execution_count": 37,
   "id": "690eee6f",
   "metadata": {},
   "outputs": [
    {
     "data": {
      "text/plain": [
       "<AxesSubplot:>"
      ]
     },
     "execution_count": 37,
     "metadata": {},
     "output_type": "execute_result"
    },
    {
     "data": {
      "image/png": "[encoded data removed]",
      "text/plain": [
       "<Figure size 432x288 with 1 Axes>"
      ]
     },
     "metadata": {
      "needs_background": "light"
     },
     "output_type": "display_data"
    }
   ],
   "source": [
    "df['date'].dt.hour.hist()"
   ]
  },
  {
   "cell_type": "markdown",
   "id": "067c3d8b",
   "metadata": {},
   "source": [
    "### Status da reclamação"
   ]
  },
  {
   "cell_type": "code",
   "execution_count": 38,
   "id": "dc0bac27",
   "metadata": {},
   "outputs": [
    {
     "data": {
      "text/plain": [
       "Resolvido        789\n",
       "Não resolvido    221\n",
       "Name: resolved, dtype: int64"
      ]
     },
     "execution_count": 38,
     "metadata": {},
     "output_type": "execute_result"
    }
   ],
   "source": [
    "df['resolved'].value_counts()"
   ]
  },
  {
   "cell_type": "code",
   "execution_count": 39,
   "id": "74810837",
   "metadata": {},
   "outputs": [
    {
     "data": {
      "text/plain": [
       "<AxesSubplot:xlabel='assessment', ylabel='Count'>"
      ]
     },
     "execution_count": 39,
     "metadata": {},
     "output_type": "execute_result"
    },
    {
     "data": {
      "image/png": "[encoded data removed]",
      "text/plain": [
       "<Figure size 720x576 with 1 Axes>"
      ]
     },
     "metadata": {
      "needs_background": "light"
     },
     "output_type": "display_data"
    }
   ],
   "source": [
    "plt.figure(figsize=(10, 8))\n",
    "sns.histplot(\n",
    "    df.loc[(df['resolved'] == 'Resolvido') | (df['resolved'] == 'Não resolvido')],\n",
    "    x=\"assessment\", hue='resolved',\n",
    "    bins=11,\n",
    "    multiple=\"stack\",\n",
    "    edgecolor=\".3\",\n",
    "    linewidth=.5,\n",
    ")"
   ]
  }
 ],
 "metadata": {
  "kernelspec": {
   "display_name": "Python 3",
   "language": "python",
   "name": "python3"
  },
  "language_info": {
   "codemirror_mode": {
    "name": "ipython",
    "version": 3
   },
   "file_extension": ".py",
   "mimetype": "text/x-python",
   "name": "python",
   "nbconvert_exporter": "python",
   "pygments_lexer": "ipython3",
   "version": "3.8.8"
  }
 },
 "nbformat": 4,
 "nbformat_minor": 5
}
