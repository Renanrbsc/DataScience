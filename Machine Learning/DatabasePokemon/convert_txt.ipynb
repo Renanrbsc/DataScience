{
 "cells": [
  {
   "cell_type": "markdown",
   "metadata": {},
   "source": [
    "# Machine Learning with Data extracted from Pokemons"
   ]
  },
  {
   "cell_type": "markdown",
   "metadata": {},
   "source": [
    "## Location of data obtained¶\n",
    "\n",
    "- Niantic Pokemon \n",
    "https://www.pokemon.com/us/pokedex/\n",
    "- My Scrapper \n",
    "https://github.com/Renanrbsc/DatabasePokemon/tree/master/backend/scrapper\n",
    "- Text file Pokemon resume \n",
    "https://github.com/Renanrbsc/DatabasePokemon/blob/master/backend/scrapper/data_save/pokemons.txt\n",
    "- Text file Pokemon types https://raw.githubusercontent.com/Renanrbsc/DatabasePokemon/master/backend/scrapper/data_save/types_pokemons.txt\n",
    "- Text file Pokemon Status\n",
    "https://raw.githubusercontent.com/Renanrbsc/DatabasePokemon/master/backend/scrapper/data_save/status_pokemons.txt"
   ]
  },
  {
   "cell_type": "markdown",
   "metadata": {},
   "source": [
    "### Imports"
   ]
  },
  {
   "cell_type": "code",
   "execution_count": 2,
   "metadata": {},
   "outputs": [],
   "source": [
    "import pandas as pd"
   ]
  },
  {
   "cell_type": "markdown",
   "metadata": {},
   "source": [
    "### Load CSV Kaggle"
   ]
  },
  {
   "cell_type": "code",
   "execution_count": 19,
   "metadata": {
    "scrolled": true
   },
   "outputs": [
    {
     "name": "stdout",
     "output_type": "stream",
     "text": [
      "<class 'pandas.core.frame.DataFrame'>\n",
      "RangeIndex: 800 entries, 0 to 799\n",
      "Data columns (total 13 columns):\n",
      " #   Column      Non-Null Count  Dtype \n",
      "---  ------      --------------  ----- \n",
      " 0   ID          800 non-null    int64 \n",
      " 1   Name        800 non-null    object\n",
      " 2   Type_1      800 non-null    object\n",
      " 3   Type_2      414 non-null    object\n",
      " 4   Total       800 non-null    int64 \n",
      " 5   HP          800 non-null    int64 \n",
      " 6   Attack      800 non-null    int64 \n",
      " 7   Defense     800 non-null    int64 \n",
      " 8   Sp_Atk      800 non-null    int64 \n",
      " 9   Sp_Def      800 non-null    int64 \n",
      " 10  Speed       800 non-null    int64 \n",
      " 11  Generation  800 non-null    int64 \n",
      " 12  Legendary   800 non-null    bool  \n",
      "dtypes: bool(1), int64(9), object(3)\n",
      "memory usage: 75.9+ KB\n"
     ]
    }
   ],
   "source": [
    "path = r'datasets/PokemonKaggle.csv'\n",
    "kaggle = pd.read_csv(path, sep=',')\n",
    "\n",
    "kaggle.columns = [\"ID\", \"Name\", \"Type_1\", \"Type_2\", \"Total\", \"HP\", \"Attack\", \"Defense\", \"Sp_Atk\", \"Sp_Def\", \"Speed\", \"Generation\", \"Legendary\"]\n",
    "kaggle.info()"
   ]
  },
  {
   "cell_type": "markdown",
   "metadata": {},
   "source": [
    "### Load files and convert in CSV"
   ]
  },
  {
   "cell_type": "markdown",
   "metadata": {},
   "source": [
    "#### Load main text file "
   ]
  },
  {
   "cell_type": "code",
   "execution_count": 8,
   "metadata": {
    "scrolled": true
   },
   "outputs": [
    {
     "name": "stdout",
     "output_type": "stream",
     "text": [
      "<class 'pandas.core.frame.DataFrame'>\n",
      "RangeIndex: 809 entries, 0 to 808\n",
      "Data columns (total 10 columns):\n",
      " #   Column        Non-Null Count  Dtype  \n",
      "---  ------        --------------  -----  \n",
      " 0   name          809 non-null    object \n",
      " 1   types         809 non-null    object \n",
      " 2   height        809 non-null    float64\n",
      " 3   weight        809 non-null    float64\n",
      " 4   category      809 non-null    object \n",
      " 5   ability       807 non-null    object \n",
      " 6   ability_two   380 non-null    object \n",
      " 7   weakness      809 non-null    object \n",
      " 8   weakness_two  712 non-null    object \n",
      " 9   description   809 non-null    object \n",
      "dtypes: float64(2), object(8)\n",
      "memory usage: 63.3+ KB\n"
     ]
    }
   ],
   "source": [
    "path = r'https://raw.githubusercontent.com/Renanrbsc/DatabasePokemon/master/backend/scrapper/data_save/pokemons.txt'\n",
    "main = pd.read_csv(path, sep=';', header=None)\n",
    "\n",
    "main.columns = ['name', 'types', 'height', 'weight', 'category', \n",
    "                'ability', 'ability_two', 'weakness', 'weakness_two', 'description']\n",
    "main.info()"
   ]
  },
  {
   "cell_type": "markdown",
   "metadata": {},
   "source": [
    "#### Load types and drop type in main"
   ]
  },
  {
   "cell_type": "code",
   "execution_count": 9,
   "metadata": {},
   "outputs": [
    {
     "name": "stdout",
     "output_type": "stream",
     "text": [
      "<class 'pandas.core.frame.DataFrame'>\n",
      "RangeIndex: 809 entries, 0 to 808\n",
      "Data columns (total 2 columns):\n",
      " #   Column    Non-Null Count  Dtype \n",
      "---  ------    --------------  ----- \n",
      " 0   type      809 non-null    object\n",
      " 1   type_two  405 non-null    object\n",
      "dtypes: object(2)\n",
      "memory usage: 12.8+ KB\n"
     ]
    }
   ],
   "source": [
    "path = r'https://raw.githubusercontent.com/Renanrbsc/DatabasePokemon/master/backend/scrapper/data_save/types_pokemons.txt'\n",
    "types = pd.read_csv(path, sep=';', header=None)\n",
    "\n",
    "types.columns = ['type', 'type_two']\n",
    "\n",
    "types.info() "
   ]
  },
  {
   "cell_type": "code",
   "execution_count": 10,
   "metadata": {
    "scrolled": true
   },
   "outputs": [],
   "source": [
    "main.drop(columns=[\"types\"], axis=1, inplace=True)"
   ]
  },
  {
   "cell_type": "code",
   "execution_count": 11,
   "metadata": {
    "scrolled": true
   },
   "outputs": [
    {
     "data": {
      "text/html": [
       "<div>\n",
       "<style scoped>\n",
       "    .dataframe tbody tr th:only-of-type {\n",
       "        vertical-align: middle;\n",
       "    }\n",
       "\n",
       "    .dataframe tbody tr th {\n",
       "        vertical-align: top;\n",
       "    }\n",
       "\n",
       "    .dataframe thead th {\n",
       "        text-align: right;\n",
       "    }\n",
       "</style>\n",
       "<table border=\"1\" class=\"dataframe\">\n",
       "  <thead>\n",
       "    <tr style=\"text-align: right;\">\n",
       "      <th></th>\n",
       "      <th>name</th>\n",
       "      <th>height</th>\n",
       "      <th>weight</th>\n",
       "      <th>category</th>\n",
       "      <th>ability</th>\n",
       "      <th>ability_two</th>\n",
       "      <th>weakness</th>\n",
       "      <th>weakness_two</th>\n",
       "      <th>description</th>\n",
       "    </tr>\n",
       "  </thead>\n",
       "  <tbody>\n",
       "    <tr>\n",
       "      <th>0</th>\n",
       "      <td>Bulbasaur</td>\n",
       "      <td>0.7</td>\n",
       "      <td>6.9</td>\n",
       "      <td>Seed</td>\n",
       "      <td>Overgrow</td>\n",
       "      <td>NaN</td>\n",
       "      <td>Fire</td>\n",
       "      <td>Flying</td>\n",
       "      <td>Bulbasaur can be seen napping in bright sunlig...</td>\n",
       "    </tr>\n",
       "    <tr>\n",
       "      <th>1</th>\n",
       "      <td>Ivysaur</td>\n",
       "      <td>1.0</td>\n",
       "      <td>13.0</td>\n",
       "      <td>Seed</td>\n",
       "      <td>Overgrow</td>\n",
       "      <td>NaN</td>\n",
       "      <td>Fire</td>\n",
       "      <td>Flying</td>\n",
       "      <td>There is a bud on this Pokémons back. To suppo...</td>\n",
       "    </tr>\n",
       "    <tr>\n",
       "      <th>2</th>\n",
       "      <td>Venusaur</td>\n",
       "      <td>2.0</td>\n",
       "      <td>100.0</td>\n",
       "      <td>Seed</td>\n",
       "      <td>Overgrow</td>\n",
       "      <td>NaN</td>\n",
       "      <td>Fire</td>\n",
       "      <td>Flying</td>\n",
       "      <td>There is a large flower on Venusaurs back. The...</td>\n",
       "    </tr>\n",
       "    <tr>\n",
       "      <th>3</th>\n",
       "      <td>Charmander</td>\n",
       "      <td>0.6</td>\n",
       "      <td>8.5</td>\n",
       "      <td>Lizard</td>\n",
       "      <td>Blaze</td>\n",
       "      <td>NaN</td>\n",
       "      <td>Ground</td>\n",
       "      <td>Rock</td>\n",
       "      <td>The flame that burns at the tip of its tail is...</td>\n",
       "    </tr>\n",
       "    <tr>\n",
       "      <th>4</th>\n",
       "      <td>Charmeleon</td>\n",
       "      <td>1.1</td>\n",
       "      <td>19.0</td>\n",
       "      <td>Flame</td>\n",
       "      <td>Blaze</td>\n",
       "      <td>NaN</td>\n",
       "      <td>Ground</td>\n",
       "      <td>Rock</td>\n",
       "      <td>Charmeleon mercilessly destroys its foes using...</td>\n",
       "    </tr>\n",
       "  </tbody>\n",
       "</table>\n",
       "</div>"
      ],
      "text/plain": [
       "         name  height  weight category   ability ability_two weakness  \\\n",
       "0   Bulbasaur     0.7     6.9     Seed  Overgrow         NaN     Fire   \n",
       "1     Ivysaur     1.0    13.0     Seed  Overgrow         NaN     Fire   \n",
       "2    Venusaur     2.0   100.0     Seed  Overgrow         NaN     Fire   \n",
       "3  Charmander     0.6     8.5   Lizard     Blaze         NaN   Ground   \n",
       "4  Charmeleon     1.1    19.0    Flame     Blaze         NaN   Ground   \n",
       "\n",
       "  weakness_two                                        description  \n",
       "0       Flying  Bulbasaur can be seen napping in bright sunlig...  \n",
       "1       Flying  There is a bud on this Pokémons back. To suppo...  \n",
       "2       Flying  There is a large flower on Venusaurs back. The...  \n",
       "3         Rock  The flame that burns at the tip of its tail is...  \n",
       "4         Rock  Charmeleon mercilessly destroys its foes using...  "
      ]
     },
     "execution_count": 11,
     "metadata": {},
     "output_type": "execute_result"
    }
   ],
   "source": [
    "main.head()"
   ]
  },
  {
   "cell_type": "code",
   "execution_count": 12,
   "metadata": {},
   "outputs": [
    {
     "name": "stdout",
     "output_type": "stream",
     "text": [
      "<class 'pandas.core.frame.DataFrame'>\n",
      "RangeIndex: 809 entries, 0 to 808\n",
      "Data columns (total 6 columns):\n",
      " #   Column           Non-Null Count  Dtype\n",
      "---  ------           --------------  -----\n",
      " 0   HP               809 non-null    int64\n",
      " 1   Attack           809 non-null    int64\n",
      " 2   Defense          809 non-null    int64\n",
      " 3   Special_Attack   809 non-null    int64\n",
      " 4   Special_Defense  809 non-null    int64\n",
      " 5   Speed            809 non-null    int64\n",
      "dtypes: int64(6)\n",
      "memory usage: 38.0 KB\n"
     ]
    }
   ],
   "source": [
    "path = r'https://raw.githubusercontent.com/Renanrbsc/DatabasePokemon/master/backend/scrapper/data_save/status_pokemons.txt'\n",
    "status = pd.read_csv(path, sep=';', header=None)\n",
    "\n",
    "status.columns = [\"HP\", \"Attack\", \"Defense\", \"Special_Attack\", \"Special_Defense\", \"Speed\"]\n",
    "\n",
    "status.info()"
   ]
  },
  {
   "cell_type": "code",
   "execution_count": null,
   "metadata": {},
   "outputs": [],
   "source": []
  },
  {
   "cell_type": "code",
   "execution_count": null,
   "metadata": {},
   "outputs": [],
   "source": []
  },
  {
   "cell_type": "code",
   "execution_count": null,
   "metadata": {},
   "outputs": [],
   "source": []
  },
  {
   "cell_type": "markdown",
   "metadata": {},
   "source": [
    "### Create new DF with IDs"
   ]
  },
  {
   "cell_type": "code",
   "execution_count": 13,
   "metadata": {
    "scrolled": true
   },
   "outputs": [
    {
     "name": "stdout",
     "output_type": "stream",
     "text": [
      "<class 'pandas.core.frame.DataFrame'>\n",
      "RangeIndex: 809 entries, 0 to 808\n",
      "Data columns (total 1 columns):\n",
      " #   Column      Non-Null Count  Dtype\n",
      "---  ------      --------------  -----\n",
      " 0   id_pokedex  809 non-null    int64\n",
      "dtypes: int64(1)\n",
      "memory usage: 6.4 KB\n"
     ]
    }
   ],
   "source": [
    "df_ids = pd.DataFrame({'id_pokedex': list(range(1,810))})\n",
    "df_ids.info()"
   ]
  },
  {
   "cell_type": "markdown",
   "metadata": {},
   "source": [
    "### Merger between the two DFs"
   ]
  },
  {
   "cell_type": "code",
   "execution_count": 14,
   "metadata": {},
   "outputs": [
    {
     "name": "stdout",
     "output_type": "stream",
     "text": [
      "<class 'pandas.core.frame.DataFrame'>\n",
      "RangeIndex: 809 entries, 0 to 808\n",
      "Data columns (total 18 columns):\n",
      " #   Column           Non-Null Count  Dtype  \n",
      "---  ------           --------------  -----  \n",
      " 0   id_pokedex       809 non-null    int64  \n",
      " 1   type             809 non-null    object \n",
      " 2   type_two         405 non-null    object \n",
      " 3   name             809 non-null    object \n",
      " 4   height           809 non-null    float64\n",
      " 5   weight           809 non-null    float64\n",
      " 6   category         809 non-null    object \n",
      " 7   ability          807 non-null    object \n",
      " 8   ability_two      380 non-null    object \n",
      " 9   weakness         809 non-null    object \n",
      " 10  weakness_two     712 non-null    object \n",
      " 11  description      809 non-null    object \n",
      " 12  HP               809 non-null    int64  \n",
      " 13  Attack           809 non-null    int64  \n",
      " 14  Defense          809 non-null    int64  \n",
      " 15  Special_Attack   809 non-null    int64  \n",
      " 16  Special_Defense  809 non-null    int64  \n",
      " 17  Speed            809 non-null    int64  \n",
      "dtypes: float64(2), int64(7), object(9)\n",
      "memory usage: 113.9+ KB\n"
     ]
    }
   ],
   "source": [
    "df_merged = pd.concat([df_ids, types, main, status], axis=1)\n",
    "df_merged.info()"
   ]
  },
  {
   "cell_type": "code",
   "execution_count": 15,
   "metadata": {},
   "outputs": [
    {
     "data": {
      "text/html": [
       "<div>\n",
       "<style scoped>\n",
       "    .dataframe tbody tr th:only-of-type {\n",
       "        vertical-align: middle;\n",
       "    }\n",
       "\n",
       "    .dataframe tbody tr th {\n",
       "        vertical-align: top;\n",
       "    }\n",
       "\n",
       "    .dataframe thead th {\n",
       "        text-align: right;\n",
       "    }\n",
       "</style>\n",
       "<table border=\"1\" class=\"dataframe\">\n",
       "  <thead>\n",
       "    <tr style=\"text-align: right;\">\n",
       "      <th></th>\n",
       "      <th>id_pokedex</th>\n",
       "      <th>type</th>\n",
       "      <th>type_two</th>\n",
       "      <th>name</th>\n",
       "      <th>height</th>\n",
       "      <th>weight</th>\n",
       "      <th>category</th>\n",
       "      <th>ability</th>\n",
       "      <th>ability_two</th>\n",
       "      <th>weakness</th>\n",
       "      <th>weakness_two</th>\n",
       "      <th>description</th>\n",
       "      <th>HP</th>\n",
       "      <th>Attack</th>\n",
       "      <th>Defense</th>\n",
       "      <th>Special_Attack</th>\n",
       "      <th>Special_Defense</th>\n",
       "      <th>Speed</th>\n",
       "    </tr>\n",
       "  </thead>\n",
       "  <tbody>\n",
       "    <tr>\n",
       "      <th>0</th>\n",
       "      <td>1</td>\n",
       "      <td>Grass</td>\n",
       "      <td>Poison</td>\n",
       "      <td>Bulbasaur</td>\n",
       "      <td>0.7</td>\n",
       "      <td>6.9</td>\n",
       "      <td>Seed</td>\n",
       "      <td>Overgrow</td>\n",
       "      <td>NaN</td>\n",
       "      <td>Fire</td>\n",
       "      <td>Flying</td>\n",
       "      <td>Bulbasaur can be seen napping in bright sunlig...</td>\n",
       "      <td>3</td>\n",
       "      <td>3</td>\n",
       "      <td>3</td>\n",
       "      <td>4</td>\n",
       "      <td>4</td>\n",
       "      <td>3</td>\n",
       "    </tr>\n",
       "    <tr>\n",
       "      <th>1</th>\n",
       "      <td>2</td>\n",
       "      <td>Grass</td>\n",
       "      <td>Poison</td>\n",
       "      <td>Ivysaur</td>\n",
       "      <td>1.0</td>\n",
       "      <td>13.0</td>\n",
       "      <td>Seed</td>\n",
       "      <td>Overgrow</td>\n",
       "      <td>NaN</td>\n",
       "      <td>Fire</td>\n",
       "      <td>Flying</td>\n",
       "      <td>There is a bud on this Pokémons back. To suppo...</td>\n",
       "      <td>4</td>\n",
       "      <td>4</td>\n",
       "      <td>4</td>\n",
       "      <td>5</td>\n",
       "      <td>5</td>\n",
       "      <td>4</td>\n",
       "    </tr>\n",
       "    <tr>\n",
       "      <th>2</th>\n",
       "      <td>3</td>\n",
       "      <td>Grass</td>\n",
       "      <td>Poison</td>\n",
       "      <td>Venusaur</td>\n",
       "      <td>2.0</td>\n",
       "      <td>100.0</td>\n",
       "      <td>Seed</td>\n",
       "      <td>Overgrow</td>\n",
       "      <td>NaN</td>\n",
       "      <td>Fire</td>\n",
       "      <td>Flying</td>\n",
       "      <td>There is a large flower on Venusaurs back. The...</td>\n",
       "      <td>5</td>\n",
       "      <td>5</td>\n",
       "      <td>5</td>\n",
       "      <td>6</td>\n",
       "      <td>6</td>\n",
       "      <td>5</td>\n",
       "    </tr>\n",
       "    <tr>\n",
       "      <th>3</th>\n",
       "      <td>4</td>\n",
       "      <td>Fire</td>\n",
       "      <td>NaN</td>\n",
       "      <td>Charmander</td>\n",
       "      <td>0.6</td>\n",
       "      <td>8.5</td>\n",
       "      <td>Lizard</td>\n",
       "      <td>Blaze</td>\n",
       "      <td>NaN</td>\n",
       "      <td>Ground</td>\n",
       "      <td>Rock</td>\n",
       "      <td>The flame that burns at the tip of its tail is...</td>\n",
       "      <td>3</td>\n",
       "      <td>4</td>\n",
       "      <td>3</td>\n",
       "      <td>4</td>\n",
       "      <td>3</td>\n",
       "      <td>4</td>\n",
       "    </tr>\n",
       "    <tr>\n",
       "      <th>4</th>\n",
       "      <td>5</td>\n",
       "      <td>Fire</td>\n",
       "      <td>NaN</td>\n",
       "      <td>Charmeleon</td>\n",
       "      <td>1.1</td>\n",
       "      <td>19.0</td>\n",
       "      <td>Flame</td>\n",
       "      <td>Blaze</td>\n",
       "      <td>NaN</td>\n",
       "      <td>Ground</td>\n",
       "      <td>Rock</td>\n",
       "      <td>Charmeleon mercilessly destroys its foes using...</td>\n",
       "      <td>4</td>\n",
       "      <td>4</td>\n",
       "      <td>4</td>\n",
       "      <td>5</td>\n",
       "      <td>4</td>\n",
       "      <td>5</td>\n",
       "    </tr>\n",
       "  </tbody>\n",
       "</table>\n",
       "</div>"
      ],
      "text/plain": [
       "   id_pokedex   type type_two        name  height  weight category   ability  \\\n",
       "0           1  Grass   Poison   Bulbasaur     0.7     6.9     Seed  Overgrow   \n",
       "1           2  Grass   Poison     Ivysaur     1.0    13.0     Seed  Overgrow   \n",
       "2           3  Grass   Poison    Venusaur     2.0   100.0     Seed  Overgrow   \n",
       "3           4   Fire      NaN  Charmander     0.6     8.5   Lizard     Blaze   \n",
       "4           5   Fire      NaN  Charmeleon     1.1    19.0    Flame     Blaze   \n",
       "\n",
       "  ability_two weakness weakness_two  \\\n",
       "0         NaN     Fire       Flying   \n",
       "1         NaN     Fire       Flying   \n",
       "2         NaN     Fire       Flying   \n",
       "3         NaN   Ground         Rock   \n",
       "4         NaN   Ground         Rock   \n",
       "\n",
       "                                         description  HP  Attack  Defense  \\\n",
       "0  Bulbasaur can be seen napping in bright sunlig...   3       3        3   \n",
       "1  There is a bud on this Pokémons back. To suppo...   4       4        4   \n",
       "2  There is a large flower on Venusaurs back. The...   5       5        5   \n",
       "3  The flame that burns at the tip of its tail is...   3       4        3   \n",
       "4  Charmeleon mercilessly destroys its foes using...   4       4        4   \n",
       "\n",
       "   Special_Attack  Special_Defense  Speed  \n",
       "0               4                4      3  \n",
       "1               5                5      4  \n",
       "2               6                6      5  \n",
       "3               4                3      4  \n",
       "4               5                4      5  "
      ]
     },
     "execution_count": 15,
     "metadata": {},
     "output_type": "execute_result"
    }
   ],
   "source": [
    "df_merged.head()"
   ]
  },
  {
   "cell_type": "code",
   "execution_count": 16,
   "metadata": {},
   "outputs": [
    {
     "data": {
      "text/html": [
       "<div>\n",
       "<style scoped>\n",
       "    .dataframe tbody tr th:only-of-type {\n",
       "        vertical-align: middle;\n",
       "    }\n",
       "\n",
       "    .dataframe tbody tr th {\n",
       "        vertical-align: top;\n",
       "    }\n",
       "\n",
       "    .dataframe thead th {\n",
       "        text-align: right;\n",
       "    }\n",
       "</style>\n",
       "<table border=\"1\" class=\"dataframe\">\n",
       "  <thead>\n",
       "    <tr style=\"text-align: right;\">\n",
       "      <th></th>\n",
       "      <th>id_pokedex</th>\n",
       "      <th>type</th>\n",
       "      <th>type_two</th>\n",
       "      <th>name</th>\n",
       "      <th>height</th>\n",
       "      <th>weight</th>\n",
       "      <th>category</th>\n",
       "      <th>ability</th>\n",
       "      <th>ability_two</th>\n",
       "      <th>weakness</th>\n",
       "      <th>weakness_two</th>\n",
       "      <th>description</th>\n",
       "      <th>HP</th>\n",
       "      <th>Attack</th>\n",
       "      <th>Defense</th>\n",
       "      <th>Special_Attack</th>\n",
       "      <th>Special_Defense</th>\n",
       "      <th>Speed</th>\n",
       "    </tr>\n",
       "  </thead>\n",
       "  <tbody>\n",
       "    <tr>\n",
       "      <th>804</th>\n",
       "      <td>805</td>\n",
       "      <td>Rock</td>\n",
       "      <td>Steel</td>\n",
       "      <td>Stakataka</td>\n",
       "      <td>5.5</td>\n",
       "      <td>820.0</td>\n",
       "      <td>Rampart</td>\n",
       "      <td>Beast Boost</td>\n",
       "      <td>NaN</td>\n",
       "      <td>Water</td>\n",
       "      <td>Fighting</td>\n",
       "      <td>It appeared from an Ultra Wormhole. Each oneap...</td>\n",
       "      <td>4</td>\n",
       "      <td>8</td>\n",
       "      <td>13</td>\n",
       "      <td>4</td>\n",
       "      <td>6</td>\n",
       "      <td>1</td>\n",
       "    </tr>\n",
       "    <tr>\n",
       "      <th>805</th>\n",
       "      <td>806</td>\n",
       "      <td>Fire</td>\n",
       "      <td>Ghost</td>\n",
       "      <td>Blacephalon</td>\n",
       "      <td>1.8</td>\n",
       "      <td>13.0</td>\n",
       "      <td>Fireworks</td>\n",
       "      <td>Beast Boost</td>\n",
       "      <td>NaN</td>\n",
       "      <td>Water</td>\n",
       "      <td>Ghost</td>\n",
       "      <td>It slithers toward people. Then, without warni...</td>\n",
       "      <td>4</td>\n",
       "      <td>8</td>\n",
       "      <td>4</td>\n",
       "      <td>9</td>\n",
       "      <td>5</td>\n",
       "      <td>7</td>\n",
       "    </tr>\n",
       "    <tr>\n",
       "      <th>806</th>\n",
       "      <td>807</td>\n",
       "      <td>Electric</td>\n",
       "      <td>NaN</td>\n",
       "      <td>Zeraora</td>\n",
       "      <td>1.5</td>\n",
       "      <td>44.5</td>\n",
       "      <td>Thunderclap</td>\n",
       "      <td>Volt Absorb</td>\n",
       "      <td>NaN</td>\n",
       "      <td>Ground</td>\n",
       "      <td>NaN</td>\n",
       "      <td>It electrifies its claws and tears its opponen...</td>\n",
       "      <td>6</td>\n",
       "      <td>7</td>\n",
       "      <td>5</td>\n",
       "      <td>6</td>\n",
       "      <td>5</td>\n",
       "      <td>9</td>\n",
       "    </tr>\n",
       "    <tr>\n",
       "      <th>807</th>\n",
       "      <td>808</td>\n",
       "      <td>Steel</td>\n",
       "      <td>NaN</td>\n",
       "      <td>Meltan</td>\n",
       "      <td>0.2</td>\n",
       "      <td>8.0</td>\n",
       "      <td>Hex Nut</td>\n",
       "      <td>NaN</td>\n",
       "      <td>NaN</td>\n",
       "      <td>Fire</td>\n",
       "      <td>Fighting</td>\n",
       "      <td>It melts particles of iron and other metals fo...</td>\n",
       "      <td>3</td>\n",
       "      <td>4</td>\n",
       "      <td>4</td>\n",
       "      <td>4</td>\n",
       "      <td>3</td>\n",
       "      <td>2</td>\n",
       "    </tr>\n",
       "    <tr>\n",
       "      <th>808</th>\n",
       "      <td>809</td>\n",
       "      <td>Steel</td>\n",
       "      <td>NaN</td>\n",
       "      <td>Melmetal</td>\n",
       "      <td>2.5</td>\n",
       "      <td>800.0</td>\n",
       "      <td>Hex Nut</td>\n",
       "      <td>NaN</td>\n",
       "      <td>NaN</td>\n",
       "      <td>Fire</td>\n",
       "      <td>Fighting</td>\n",
       "      <td>Revered long ago for its capacity to create ir...</td>\n",
       "      <td>8</td>\n",
       "      <td>9</td>\n",
       "      <td>9</td>\n",
       "      <td>5</td>\n",
       "      <td>4</td>\n",
       "      <td>2</td>\n",
       "    </tr>\n",
       "  </tbody>\n",
       "</table>\n",
       "</div>"
      ],
      "text/plain": [
       "     id_pokedex      type type_two         name  height  weight     category  \\\n",
       "804         805      Rock    Steel    Stakataka     5.5   820.0      Rampart   \n",
       "805         806      Fire    Ghost  Blacephalon     1.8    13.0    Fireworks   \n",
       "806         807  Electric      NaN      Zeraora     1.5    44.5  Thunderclap   \n",
       "807         808     Steel      NaN       Meltan     0.2     8.0      Hex Nut   \n",
       "808         809     Steel      NaN     Melmetal     2.5   800.0      Hex Nut   \n",
       "\n",
       "         ability ability_two weakness weakness_two  \\\n",
       "804  Beast Boost         NaN    Water     Fighting   \n",
       "805  Beast Boost         NaN    Water        Ghost   \n",
       "806  Volt Absorb         NaN   Ground          NaN   \n",
       "807          NaN         NaN     Fire     Fighting   \n",
       "808          NaN         NaN     Fire     Fighting   \n",
       "\n",
       "                                           description  HP  Attack  Defense  \\\n",
       "804  It appeared from an Ultra Wormhole. Each oneap...   4       8       13   \n",
       "805  It slithers toward people. Then, without warni...   4       8        4   \n",
       "806  It electrifies its claws and tears its opponen...   6       7        5   \n",
       "807  It melts particles of iron and other metals fo...   3       4        4   \n",
       "808  Revered long ago for its capacity to create ir...   8       9        9   \n",
       "\n",
       "     Special_Attack  Special_Defense  Speed  \n",
       "804               4                6      1  \n",
       "805               9                5      7  \n",
       "806               6                5      9  \n",
       "807               4                3      2  \n",
       "808               5                4      2  "
      ]
     },
     "execution_count": 16,
     "metadata": {},
     "output_type": "execute_result"
    }
   ],
   "source": [
    "df_merged.tail()"
   ]
  },
  {
   "cell_type": "markdown",
   "metadata": {},
   "source": [
    "### Convert in csv"
   ]
  },
  {
   "cell_type": "code",
   "execution_count": 17,
   "metadata": {},
   "outputs": [],
   "source": [
    "df_merged.to_csv(r'datasets\\pokemons.csv', index=None)"
   ]
  },
  {
   "cell_type": "code",
   "execution_count": 18,
   "metadata": {
    "scrolled": true
   },
   "outputs": [
    {
     "name": "stdout",
     "output_type": "stream",
     "text": [
      "<class 'pandas.core.frame.DataFrame'>\n",
      "RangeIndex: 809 entries, 0 to 808\n",
      "Data columns (total 18 columns):\n",
      " #   Column           Non-Null Count  Dtype  \n",
      "---  ------           --------------  -----  \n",
      " 0   id_pokedex       809 non-null    int64  \n",
      " 1   type             809 non-null    object \n",
      " 2   type_two         405 non-null    object \n",
      " 3   name             809 non-null    object \n",
      " 4   height           809 non-null    float64\n",
      " 5   weight           809 non-null    float64\n",
      " 6   category         809 non-null    object \n",
      " 7   ability          807 non-null    object \n",
      " 8   ability_two      380 non-null    object \n",
      " 9   weakness         809 non-null    object \n",
      " 10  weakness_two     712 non-null    object \n",
      " 11  description      809 non-null    object \n",
      " 12  HP               809 non-null    int64  \n",
      " 13  Attack           809 non-null    int64  \n",
      " 14  Defense          809 non-null    int64  \n",
      " 15  Special_Attack   809 non-null    int64  \n",
      " 16  Special_Defense  809 non-null    int64  \n",
      " 17  Speed            809 non-null    int64  \n",
      "dtypes: float64(2), int64(7), object(9)\n",
      "memory usage: 113.9+ KB\n"
     ]
    }
   ],
   "source": [
    "df_merged = pd.read_csv(r'datasets\\pokemons.csv')\n",
    "df_merged.info()"
   ]
  },
  {
   "cell_type": "code",
   "execution_count": null,
   "metadata": {},
   "outputs": [],
   "source": []
  },
  {
   "cell_type": "code",
   "execution_count": null,
   "metadata": {},
   "outputs": [],
   "source": []
  },
  {
   "cell_type": "code",
   "execution_count": null,
   "metadata": {},
   "outputs": [],
   "source": []
  }
 ],
 "metadata": {
  "kernelspec": {
   "display_name": "Python 3",
   "language": "python",
   "name": "python3"
  },
  "language_info": {
   "codemirror_mode": {
    "name": "ipython",
    "version": 3
   },
   "file_extension": ".py",
   "mimetype": "text/x-python",
   "name": "python",
   "nbconvert_exporter": "python",
   "pygments_lexer": "ipython3",
   "version": "3.8.8"
  }
 },
 "nbformat": 4,
 "nbformat_minor": 4
}
